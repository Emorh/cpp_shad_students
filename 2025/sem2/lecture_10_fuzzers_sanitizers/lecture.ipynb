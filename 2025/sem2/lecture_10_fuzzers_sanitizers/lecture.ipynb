{
 "cells": [
  {
   "cell_type": "markdown",
   "metadata": {},
   "source": [
    "## Fuzzers && sanitizers"
   ]
  },
  {
   "cell_type": "markdown",
   "metadata": {},
   "source": [
    "<br />"
   ]
  },
  {
   "cell_type": "markdown",
   "metadata": {},
   "source": [
    "### Intro."
   ]
  },
  {
   "cell_type": "markdown",
   "metadata": {},
   "source": [
    "В ГОСТ Р 56939-2024 \"Защита информации. Разработка безопасного программного обеспечения. Общие требования\" фаззинг-тестирование и динамический анализ кода санитайзерами - обязательные требования к разработке ПО (чтобы оно было признано безопасным).  \n",
    "https://base.garant.ru/410749342/"
   ]
  },
  {
   "cell_type": "markdown",
   "metadata": {},
   "source": [
    "Фаззеры и санитайзеры - runtime инструменты поиска ошибок в программе. Это разные методы поиска ошибок, но наибольший эффект дают в совокупности."
   ]
  },
  {
   "cell_type": "markdown",
   "metadata": {},
   "source": [
    "(!) Фаззеры и санитайзеры должны быть частью регулярного CI-процесса наравне с юнит-тестированием."
   ]
  },
  {
   "cell_type": "markdown",
   "metadata": {},
   "source": [
    "<br />"
   ]
  },
  {
   "cell_type": "markdown",
   "metadata": {},
   "source": [
    "### Sanitizers."
   ]
  },
  {
   "cell_type": "markdown",
   "metadata": {},
   "source": [
    "Санитайзеры - инструменты поиска ошибок в программах в процессе их исполнения.\n",
    "\n",
    "Варианты санитайзеров:\n",
    "* [asan: AddressSanitizer](https://clang.llvm.org/docs/AddressSanitizer.html) - детектор ошибок работы с памятью:\n",
    "  * out-of-bounds access\n",
    "  * use-after-free\n",
    "  * use-after-return\n",
    "  * use-after-scope\n",
    "  * double free, invalid free\n",
    "  * memory leaks\n",
    "  * ...\n",
    "* [msan: MemorySanitizer](https://clang.llvm.org/docs/MemorySanitizer.html) - детектор ошибок работы с памятью:\n",
    "  * Uninitialized value was used in a conditional branch.\n",
    "  * Uninitialized pointer was used for memory accesses.\n",
    "  * Uninitialized value was passed or returned from a function call.\n",
    "  * Uninitialized data was passed into some libc calls.\n",
    "  * ...\n",
    "* [ubsan: UndefinedBehaviourSanitizer](https://clang.llvm.org/docs/UndefinedBehaviorSanitizer.html) - детектор ошибок типа UB:\n",
    "  * Array subscript out of bounds, where the bounds can be statically determined\n",
    "  * Bitwise shifts that are out of bounds for their data type\n",
    "  * Dereferencing misaligned or null pointers\n",
    "  * Signed integer overflow\n",
    "  * Conversion to, from, or between floating-point types which would overflow the destination\n",
    "  * ...\n",
    "* [tsan: ThreadSanitizer](https://clang.llvm.org/docs/ThreadSanitizer.html) - детектор ошибок типа data race.\n",
    "* [lsan: LeakSanitizer](https://clang.llvm.org/docs/LeakSanitizer.html) - детектор утчечек памяти.\n",
    "  * Интегрирован в asan, является его (отключаемой) частью и в норме не требует отдельного запуска."
   ]
  },
  {
   "cell_type": "markdown",
   "metadata": {},
   "source": [
    "<br />"
   ]
  },
  {
   "cell_type": "markdown",
   "metadata": {},
   "source": [
    "#### Принцип работы санитайзеров."
   ]
  },
  {
   "cell_type": "markdown",
   "metadata": {},
   "source": [
    "Санитайзеры поддержаны компилятором. Для этого компилятор выполняет __инструментирование__ программ, т.е. добавляет код детекции и обработки ошибок в программу."
   ]
  },
  {
   "cell_type": "markdown",
   "metadata": {},
   "source": [
    "Рассмотрим простенький пример как ubsan может отловить разыменование нулевого указателя.\n",
    "\n",
    "Пример кода программы:\n",
    "\n",
    "```c++\n",
    "// test.cpp\n",
    "\n",
    "void copy_name(Person *dst, Person *src) {\n",
    "    dst->name = src->name;\n",
    "}\n",
    "```\n",
    "\n",
    "Если скомпилировать код с особым ключом `-fsanitize=undefined`:\n",
    "\n",
    "```\n",
    "clang++ -O3 -c test.cpp -fsanitize=undefined\n",
    "```\n",
    "\n",
    "То во время компиляции код будет дополнен проверками (примерно):\n",
    "\n",
    "```c++\n",
    "// test.cpp\n",
    "void copy_name(Person *dst, Person *src) {\n",
    "    if (!src) {\n",
    "        __ubsan_handle_null_ptr_deref();\n",
    "    }\n",
    "    if (!dst) {\n",
    "        __ubsan_handle_null_ptr_deref();\n",
    "    }\n",
    "    dst->name = src->name;\n",
    "}\n",
    "```\n",
    "\n",
    "И затем уже скомпилирован."
   ]
  },
  {
   "cell_type": "markdown",
   "metadata": {},
   "source": [
    "<br />"
   ]
  },
  {
   "cell_type": "markdown",
   "metadata": {},
   "source": [
    "**Замечание**: Имя `__ubsan_handle_null_ptr_deref` и набор параметров (пустой) выбраны для понятности примера. В реальности они будут другими.\n",
    "\n",
    "**Замечание**: Реализация функции `__ubsan_handle_null_ptr_deref` - ответственность компилятора. Нужные функции поставляются в библиотеке вместе с компилятором и будут прилинкованы к исполняемому файлу при сборке.\n",
    "\n",
    "**Замечание**: Закинуть код на godbolt.org и показать его ассемблер с `-fsanitize=address` и без него:\n",
    "\n",
    "```c++\n",
    "void foo(int *p) {\n",
    "    *p = 5;\n",
    "}\n",
    "```"
   ]
  },
  {
   "cell_type": "markdown",
   "metadata": {},
   "source": [
    "<br />"
   ]
  },
  {
   "cell_type": "markdown",
   "metadata": {},
   "source": [
    "**Упражнение:** Подумайте, как можно было бы реализовать следующие динамические проверки:\n",
    "\n",
    "* ubsan:\n",
    "  * out-of-bounds access (compile-time bounds)\n",
    "  * Bitwise shifts that are out of bounds for their data type\n",
    "  * Signed integer overflow\n",
    "* msan:\n",
    "  * Uninitialized value was used in a conditional branch.\n",
    "  * Uninitialized pointer was used for memory accesses.\n",
    "* asan:\n",
    "  * out-of-bounds access (runtime bounds)\n",
    "  * use-after-free\n",
    "  * double free, invalid free\n",
    "* tsan:\n",
    "  * data race."
   ]
  },
  {
   "cell_type": "markdown",
   "metadata": {},
   "source": [
    "<br />"
   ]
  },
  {
   "cell_type": "markdown",
   "metadata": {},
   "source": [
    "#### Стоимость санитайзеров"
   ]
  },
  {
   "cell_type": "markdown",
   "metadata": {},
   "source": [
    "Как можно догадаться из реализации, введение дополнительных проверок замедляет программу и может требовать больше памяти.\n",
    "\n",
    "Из документации clang:\n",
    "* ubsan: -\n",
    "* asan: замедление 2х\n",
    "* msan: замедление 3х, потребление памяти 2х - 3х\n",
    "* tsan: замедление 5х - 15х, потребление памяти 5х - 10х"
   ]
  },
  {
   "cell_type": "markdown",
   "metadata": {},
   "source": [
    "<br />"
   ]
  },
  {
   "cell_type": "markdown",
   "metadata": {},
   "source": [
    "#### Примеры использования санитайзеров:"
   ]
  },
  {
   "cell_type": "markdown",
   "metadata": {},
   "source": [
    "<br />"
   ]
  },
  {
   "cell_type": "markdown",
   "metadata": {},
   "source": [
    "##### ubsan"
   ]
  },
  {
   "cell_type": "markdown",
   "metadata": {},
   "source": [
    "Пример:\n",
    "\n",
    "```c++\n",
    "#include <cstdint>\n",
    "#include <iostream>\n",
    "#include <string>\n",
    "\n",
    "int main(int argc, char **argv) {\n",
    "  for (int i = 1; i < argc; ++i) {\n",
    "    std::int64_t base1 = 1, base2 = 2;\n",
    "    std::int64_t shift = std::stoll(argv[i]);\n",
    "    std::cout << (base1 << shift) << ' '\n",
    "              << (base2 << shift) << std::endl;\n",
    "  }\n",
    "  return 0;\n",
    "}\n",
    "```\n",
    "\n",
    "* Если `shift >= 63`, то ub в выражении `base2 << shift` (выход за пределы знакового)\n",
    "* Если `shift >= 64`, то ub в выражениях `base1 << shift` и `base2 << shift` (сдвиг >= размера типа)"
   ]
  },
  {
   "cell_type": "markdown",
   "metadata": {},
   "source": [
    "Компилируем без динамических проверок, запустим:\n",
    "\n",
    "```sh\n",
    "$ clang++-18 main.cpp -O3\n",
    "$ ./a.out 5 10 63 64 65\n",
    "32 64\n",
    "1024 2048\n",
    "-9223372036854775808 0\n",
    "1 2\n",
    "2 4\n",
    "```\n",
    "\n",
    "Программа \"отработала\"."
   ]
  },
  {
   "cell_type": "markdown",
   "metadata": {},
   "source": [
    "Компилируем с инструментированием ubsan, запустим:\n",
    "\n",
    "```\n",
    "$ clang++-18 main.cpp -O3 -fsanitize=undefined\n",
    "$ ./a.out 5 10 63 64 65\n",
    "32 64\n",
    "1024 2048\n",
    "main.cpp:10:25: runtime error: left shift of 2 by 63 places cannot be represented in type 'std::int64_t' (aka 'long')\n",
    "SUMMARY: UndefinedBehaviorSanitizer: undefined-behavior main.cpp:10:25 \n",
    "-9223372036854775808 0\n",
    "main.cpp:9:25: runtime error: shift exponent 64 is too large for 64-bit type 'std::int64_t' (aka 'long')\n",
    "SUMMARY: UndefinedBehaviorSanitizer: undefined-behavior main.cpp:9:25 \n",
    "1 2\n",
    "2 4\n",
    "```\n",
    "\n",
    "Т.е.:\n",
    "  * При детектировании ошибки печатается, что произошло и где.\n",
    "  * При детектировании ошибки выполнение продолжается (настраиваемо)\n",
    "  * Ошибка может случиться несколько раз, но для каждого места печатается единожды."
   ]
  },
  {
   "cell_type": "markdown",
   "metadata": {},
   "source": [
    "**Замечание:** \"По-хорошему\", когда встретили UB в программе, её нужно сразу убивать, т.к. она уже представляет из себя зомби. Но режим с продолжением исполнения полезен, чтобы за один прогон собрать побольше данных для анализа."
   ]
  },
  {
   "cell_type": "markdown",
   "metadata": {},
   "source": [
    "<br />"
   ]
  },
  {
   "cell_type": "markdown",
   "metadata": {},
   "source": [
    "##### asan"
   ]
  },
  {
   "cell_type": "markdown",
   "metadata": {},
   "source": [
    "Пример:\n",
    "\n",
    "```c++\n",
    "#include <iostream>\n",
    "#include <vector>\n",
    "\n",
    "int main(int argc, char **argv) {\n",
    "  std::vector<int> v = {1, 2, 3, 4};\n",
    "  int &x = v[1];\n",
    "\n",
    "  for (int i = 0; i < 16; ++i)\n",
    "    v.push_back(i);\n",
    "\n",
    "  std::cout << x << std::endl;\n",
    "  return 0;\n",
    "}\n",
    "```\n",
    "\n",
    "Где здесь ошибка?"
   ]
  },
  {
   "cell_type": "markdown",
   "metadata": {},
   "source": [
    "Компилируем без динамических проверок, запустим:\n",
    "\n",
    "```sh\n",
    "$ clang++-18 main.cpp -O3\n",
    "$ ./a.out\n",
    "6\n",
    "```\n",
    "\n",
    "Программа \"отработала\"."
   ]
  },
  {
   "cell_type": "markdown",
   "metadata": {},
   "source": [
    "Компилируем с инструментированием asan, запустим (приведён сокращённый вывод):\n",
    "\n",
    "```\n",
    "$ clang++-18 main.cpp -O3 -fsanitize=address\n",
    "$ ./a.out\n",
    "================================================================\n",
    "==8902==ERROR: AddressSanitizer: heap-use-after-free on address 0x502000000014 at pc 0x5e5ba73b2ec8 bp 0x7ffeefbf9df0 sp 0x7ffeefbf9de8\n",
    "READ of size 4 at 0x502000000014 thread T0\n",
    "    #0 0x5e5ba73b2ec7 in main\n",
    "    #1 0x79fa21a2a1c9 in __libc_start_call_main\n",
    "    #2 0x79fa21a2a28a in __libc_start_main\n",
    "    #3 0x5e5ba72d73b4 in _start\n",
    "\n",
    "0x502000000014 is located 4 bytes inside of 16-byte region [0x502000000010,0x502000000020)\n",
    "freed by thread T0 here:\n",
    "    #0 0x5e5ba73b10a1 in operator delete(void*)\n",
    "    #1 0x5e5ba73b2d0c in main\n",
    "\n",
    "previously allocated by thread T0 here:\n",
    "    #0 0x5e5ba73b0821 in operator new(unsigned long)\n",
    "    #1 0x5e5ba73b2bb7 in main\n",
    "    #2 0x79fa21a2a28a in __libc_start_main\n",
    "    #3 0x5e5ba72d73b4 in _start\n",
    "\n",
    "SUMMARY: AddressSanitizer: heap-use-after-free in main\n",
    "==8902==ABORTING\n",
    "```"
   ]
  },
  {
   "cell_type": "markdown",
   "metadata": {},
   "source": [
    "<br />"
   ]
  },
  {
   "cell_type": "markdown",
   "metadata": {},
   "source": [
    "\n",
    "##### msan"
   ]
  },
  {
   "cell_type": "markdown",
   "metadata": {},
   "source": [
    "Пример:\n",
    "\n",
    "```c++\n",
    "#include <iostream>\n",
    "\n",
    "struct Point {\n",
    "  float x;\n",
    "  float y;\n",
    "};\n",
    "\n",
    "Point *create_point() {\n",
    "  return new Point;\n",
    "}\n",
    "\n",
    "int main(int argc, char **argv) {\n",
    "  Point *p = create_point();\n",
    "\n",
    "  if (p->x < 0.f)\n",
    "    std::cout << \"x is negative\\n\";\n",
    "  else if (p->x == 0.f)\n",
    "    std::cout << \"x is zero\\n\";\n",
    "  else\n",
    "    std::cout << \"x is positive\\n\";\n",
    "\n",
    "  delete p;\n",
    "  return 0;\n",
    "}\n",
    "```\n",
    "\n",
    "Где здесь ошибка?"
   ]
  },
  {
   "cell_type": "markdown",
   "metadata": {},
   "source": [
    "Компилируем без динамических проверок, запустим:\n",
    "\n",
    "```sh\n",
    "$ clang++-18 main.cpp -O3\n",
    "$ ./a.out\n",
    "x is positive\n",
    "```\n",
    "\n",
    "Программа \"отработала\"."
   ]
  },
  {
   "cell_type": "markdown",
   "metadata": {},
   "source": [
    "Компилируем с инструментированием msan, запустим (приведённый сокращённый вывод):\n",
    "\n",
    "```\n",
    "$ clang++-18 main.cpp -O3 -fsanitize=memory\n",
    "$ ./a.out\n",
    "==10366==WARNING: MemorySanitizer: use-of-uninitialized-value\n",
    "    #0 0x555555620302 in main\n",
    "    #1 0x7ffff782a1c9 in __libc_start_call_main\n",
    "    #2 0x7ffff782a28a in __libc_start_main\n",
    "    #3 0x555555586304 in _start\n",
    "\n",
    "SUMMARY: MemorySanitizer: use-of-uninitialized-value in main\n",
    "Exiting\n",
    "```"
   ]
  },
  {
   "cell_type": "markdown",
   "metadata": {},
   "source": [
    "<br />"
   ]
  },
  {
   "cell_type": "markdown",
   "metadata": {},
   "source": [
    "#### Как и когда следует пользоваться санитайзерами?"
   ]
  },
  {
   "cell_type": "markdown",
   "metadata": {},
   "source": [
    "Для начала попробуйте ответить на этот вопрос самостоятельно.\n",
    "\n",
    "Ответ (неполный):\n",
    "  * Прогон инструментированных юнит-тестов\n",
    "  * Прогон интеграционных тестов над инструментированной программой\n",
    "  * Использование инструментированного продукта разработчиками / тестировщиками\n",
    "  * Использование инструментированного продукта пользователями (*):\n",
    "    * как решать негативные эффекты от санитайзеров - частичные решения в виде HWASAN\n",
    "    * что делать при детекции ошибки - crash + crash report"
   ]
  },
  {
   "cell_type": "markdown",
   "metadata": {},
   "source": [
    "<br />"
   ]
  },
  {
   "cell_type": "markdown",
   "metadata": {},
   "source": [
    "### Фаззинг-тестирование"
   ]
  },
  {
   "cell_type": "markdown",
   "metadata": {},
   "source": [
    "Идея примитивного фаззинг-тестирования - запускать функцию много-много раз на случайных данных.\n",
    "  * Если можем посчитать корректный ответ иным способом - сверять ответы на каждый запуск.\n",
    "  * Если нет иного способа получения ответа - проверяем, что приложение хотя бы не падает (*)"
   ]
  },
  {
   "cell_type": "markdown",
   "metadata": {},
   "source": [
    "<br />"
   ]
  },
  {
   "cell_type": "markdown",
   "metadata": {},
   "source": [
    "Иллюстрировть возможности фаззеров будем на примерах:"
   ]
  },
  {
   "cell_type": "markdown",
   "metadata": {},
   "source": [
    "```c++\n",
    "// main.cpp\n",
    "#include <cassert>\n",
    "#include <vector>\n",
    "\n",
    "int function_1(int x1, int x2, int x3) {\n",
    "  int rv = 0;\n",
    "  if (x1 % 1000 == 7) {\n",
    "    if (x2 % 100 == 7) {\n",
    "      if (x3 % 100 == 7) {\n",
    "        // Jackpot!\n",
    "        assert(false);\n",
    "      }\n",
    "      rv += 1;\n",
    "    }\n",
    "    rv += 1;\n",
    "  }\n",
    "  return rv;\n",
    "}\n",
    "\n",
    "int function_2(int x1, int x2, int x3) {\n",
    "  int rv = 0;\n",
    "  if (x1 % 1000 == 7) {\n",
    "    if (x2 % 100 == 7) {\n",
    "      if (x3 % 100 == 7) {\n",
    "        // Jackpot!\n",
    "        std::vector<int> v = {1, 2, 3, 4};\n",
    "        int &value = v[1];\n",
    "        v.resize(1000);\n",
    "        return value;\n",
    "      }\n",
    "      rv += 1;\n",
    "    }\n",
    "    rv += 1;\n",
    "  }\n",
    "  return rv;\n",
    "}\n",
    "```"
   ]
  },
  {
   "cell_type": "markdown",
   "metadata": {},
   "source": [
    "Функции `function_1` и `function_2` с вероятностью 0.00001% попадают в ветку с ошибочным кодом. Такую ошибку легко пропустить при юнит-тестировании, а при достаточно большой пользовательской базе она начнёт \"стрелять\" у пользователя.\n",
    "\n",
    "Фаззеры справляются с задачей поиска даже таких редких ошибок, если их корректно организовать."
   ]
  },
  {
   "cell_type": "markdown",
   "metadata": {},
   "source": [
    "<br />"
   ]
  },
  {
   "cell_type": "markdown",
   "metadata": {},
   "source": [
    "#### Рукописный фаззинг"
   ]
  },
  {
   "cell_type": "markdown",
   "metadata": {},
   "source": [
    "Самый примитивный вариант - рукописный фаззер, который будет случайным образом генерировать вход и запускать тестируемую функцию:\n",
    "\n"
   ]
  },
  {
   "cell_type": "markdown",
   "metadata": {},
   "source": [
    "Пример рукописного раннера:\n",
    "\n",
    "```c++\n",
    "// manual_runner.cpp\n",
    "#include <cassert>\n",
    "#include <chrono>\n",
    "#include <cstdlib>\n",
    "#include <iostream>\n",
    "#include <string>\n",
    "\n",
    "int function_1(int x1, int x2, int x3);\n",
    "int function_2(int x1, int x2, int x3);\n",
    "\n",
    "int main(int argc, char **argv) {\n",
    "  using namespace std::chrono;\n",
    "\n",
    "  if (argc != 3) {\n",
    "    std::cerr << \"Usage: \" << argv[0] << \" [0|1] <num_seconds>\\n\";\n",
    "    return 1;\n",
    "  }\n",
    "\n",
    "  const int func_id = std::stoi(argv[1]);\n",
    "  const int num_seconds = std::stoi(argv[2]);\n",
    "\n",
    "  const auto start_ts = high_resolution_clock::now();\n",
    "  while (true) {\n",
    "    const int x1 = std::rand();\n",
    "    const int x2 = std::rand();\n",
    "    const int x3 = std::rand();\n",
    "    if (func_id == 0)\n",
    "      function_1(x1, x2, x3);\n",
    "    else\n",
    "      function_2(x1, x2, x3);\n",
    "\n",
    "    const auto final_ts = high_resolution_clock::now();\n",
    "    if (duration_cast<seconds>(final_ts - start_ts).count() >= num_seconds)\n",
    "      break;\n",
    "  }\n",
    "\n",
    "  return 0;\n",
    "}\n",
    "```"
   ]
  },
  {
   "cell_type": "markdown",
   "metadata": {},
   "source": [
    "Компилируем под O3, запускаем потестировать `function_1` на минуту:\n",
    "\n",
    "```\n",
    "$ clang++-18 -O3 manual_runner.cpp main.cpp\n",
    "$ time ./a.out 0 60\n",
    "a.out: main.cpp:10: int function_1(int, int, int): Assertion `false' failed.\n",
    "Aborted (core dumped)\n",
    "\n",
    "real\t0m0,534s\n",
    "user\t0m0,420s\n",
    "sys\t0m0,005s\n",
    "```\n",
    "\n",
    "Рукописный фаззер находит проблемный вход за полсекунды. Неплохо."
   ]
  },
  {
   "cell_type": "markdown",
   "metadata": {},
   "source": [
    "Если запустить на фаззинг `function_2` просто так, то фаззер, конечно, ничего не найдёт. Но давайте инструемнтируем код с помощью address sanitizer и запустим фаззер:\n",
    "\n",
    "```\n",
    "$ clang++-18 -O3 manual_runner.cpp main.cpp -fsanitize=address\n",
    "$ time ./a.out 1 60\n",
    "=================================================================\n",
    "==17068==ERROR: AddressSanitizer: heap-use-after-free on address 0x502000000014 at pc 0x5ea6097d6743 bp 0x7ffd6f5bc640 sp 0x7ffd6f5bc638\n",
    "READ of size 4 at 0x502000000014 thread T0\n",
    "    #0 0x5ea6097d6742 in function_2(int, int, int)\n",
    "    #1 0x5ea6097d61b1 in main\n",
    "    #2 0x7b57bfc2a1c9 in __libc_start_call_main\n",
    "    #3 0x7b57bfc2a28a in __libc_start_main\n",
    "    #4 0x5ea6096fa3e4 in _start\n",
    "\n",
    "0x502000000014 is located 4 bytes inside of 16-byte region [0x502000000010,0x502000000020)\n",
    "freed by thread T0 here:\n",
    "    #0 0x5ea6097d40d1 in operator delete(void*)\n",
    "    #1 0x5ea6097d6718 in function_2(int, int, int)\n",
    "    #2 0x7b57bfc2a1c9 in __libc_start_call_main\n",
    "    #3 0x7b57bfc2a28a in __libc_start_main\n",
    "    #4 0x5ea6096fa3e4 in _start\n",
    "\n",
    "previously allocated by thread T0 here:\n",
    "    #0 0x5ea6097d3851 in operator new(unsigned long)\n",
    "    #1 0x5ea6097d670c in function_2(int, int, int)\n",
    "    #2 0x7b57bfc2a1c9 in __libc_start_call_main\n",
    "    #3 0x7b57bfc2a28a in __libc_start_main\n",
    "    #4 0x5ea6096fa3e4 in _start\n",
    "\n",
    "SUMMARY: AddressSanitizer: heap-use-after-free in function_2(int, int, int)\n",
    "==17068==ABORTING\n",
    "\n",
    "real\t0m0,482s\n",
    "user\t0m0,417s\n",
    "sys\t0m0,008s\n",
    "```\n",
    "\n",
    "**Внимание:** Наш рукописный фаззер на коленке за те же 0.5 секунды нашёл сложный для поимки баг heap-use-after-free, который стреляет настолько редко, что никогда бы не поймался на юнит-тестах. Более того, он даже указал места аллокации, освобождения и использования памяти!"
   ]
  },
  {
   "cell_type": "markdown",
   "metadata": {},
   "source": [
    "<br />"
   ]
  },
  {
   "cell_type": "markdown",
   "metadata": {},
   "source": [
    "#### libfuzzer"
   ]
  },
  {
   "cell_type": "markdown",
   "metadata": {},
   "source": [
    "https://llvm.org/docs/LibFuzzer.html\n",
    "\n",
    "> libFuzzer – a library for coverage-guided fuzz testing.\n",
    ">\n",
    "> Some important things to remember about fuzz targets:\n",
    ">   * The fuzzing engine will execute the fuzz target many times with different inputs in the same process.\n",
    ">   * It must tolerate any kind of input (empty, huge, malformed, etc).\n",
    ">   * It must not exit() on any input.\n",
    ">   * It may use threads but ideally all threads should be joined at the end of the function.\n",
    ">   * It must be as deterministic as possible. Non-determinism (e.g. random decisions not based on the input bytes) will make fuzzing inefficient.\n",
    ">   * It must be fast. Try avoiding cubic or greater complexity, logging, or excessive memory consumption.\n",
    ">   * Ideally, it should not modify any global state (although that’s not strict).\n",
    ">   * Usually, the narrower the target the better. E.g. if your target can parse several data formats, split it into several targets, one per format."
   ]
  },
  {
   "cell_type": "markdown",
   "metadata": {},
   "source": [
    "Напомню, что мы хотим искать редкие ошибки в этих двух функциях:\n",
    "\n",
    "```c++\n",
    "int function_1(int x1, int x2, int x3); // contains assert(false)\n",
    "int function_2(int x1, int x2, int x3); // contains ub\n",
    "```"
   ]
  },
  {
   "cell_type": "markdown",
   "metadata": {},
   "source": [
    "Чтобы использовать libfuzzer, программист должен реализовать прослойку, которая будет по случайному входу генерировать вызов тестируемой функции. От качества реализации этой прослойки зависит эффективность фаззера:"
   ]
  },
  {
   "cell_type": "markdown",
   "metadata": {},
   "source": [
    "<br />"
   ]
  },
  {
   "cell_type": "markdown",
   "metadata": {},
   "source": [
    "Реализуем прослойку фаззера для `function_1`:\n",
    "\n",
    "```c++\n",
    "// libfuzzer_runner_1.cpp\n",
    "#include <cstdint>\n",
    "#include <cstddef>\n",
    "\n",
    "int function_1(int x1, int x2, int x3);\n",
    "\n",
    "extern \"C\" int LLVMFuzzerTestOneInput(const uint8_t *data, size_t size) {\n",
    "  int x1 = 0;\n",
    "  int x2 = 0;\n",
    "  int x3 = 0;\n",
    "  for (size_t i = 0; i < size; ++i) {\n",
    "    switch (i % 3) {\n",
    "    case 0: x1 = (x1 << 8) | data[i]; break;\n",
    "    case 1: x2 = (x2 << 8) | data[i]; break;\n",
    "    case 2: x3 = (x3 << 8) | data[i]; break;\n",
    "    }\n",
    "  }\n",
    "\n",
    "  function_1(x1, x2, x3);\n",
    "  return 0;\n",
    "}\n",
    "```\n",
    "\n",
    "Заметьте, здесь нигде нет функции `main`!"
   ]
  },
  {
   "cell_type": "markdown",
   "metadata": {},
   "source": [
    "Соберём и запустим (вывод редуцирован):\n",
    "\n",
    "```\n",
    "$ clang++-18 -O3 -g -fsanitize=fuzzer main.cpp libfuzzer_runner_1.cpp\n",
    "a.out: main.cpp:10: int function_1(int, int, int): Assertion `false' failed.\n",
    "==5734== ERROR: libFuzzer: deadly signal\n",
    "    #0 0x5c928967d7c8 in __sanitizer_print_stack_trace\n",
    "    #1 0x5c928965283c in fuzzer::PrintStackTrace()\n",
    "    #2 0x5c92896388c7 in fuzzer::Fuzzer::CrashCallback()\n",
    "    #3 0x75daf044531f\n",
    "    #4 0x75daf049eb1b in __pthread_kill_implementation\n",
    "    #5 0x75daf049eb1b in __pthread_kill_internal\n",
    "    #6 0x75daf049eb1b in pthread_kill\n",
    "    #7 0x75daf044526d in raise\n",
    "    #8 0x75daf04288fe in abort\n",
    "    #9 0x75daf042881a in __assert_fail_base\n",
    "    #10 0x75daf043b506 in __assert_fail\n",
    "    #11 0x5c928967ec07 in function_1(int, int, int) /home/ivafanas/projects/temp/main.cpp:10:9\n",
    "    #12 0x5c928967ee7b in LLVMFuzzerTestOneInput /home/ivafanas/projects/temp/libfuzzer_runner_1.cpp:18:3\n",
    "    #13 0x5c9289639e94 in fuzzer::Fuzzer::ExecuteCallback(unsigned char const*, unsigned long)\n",
    "    #14 0x5c9289639589 in fuzzer::Fuzzer::RunOne(unsigned char const*, unsigned long, bool, fuzzer::InputInfo*, bool, bool*)\n",
    "    #15 0x5c928963ad75 in fuzzer::Fuzzer::MutateAndTestOne()\n",
    "    #16 0x5c928963b8d5 in fuzzer::Fuzzer::Loop(std::vector<fuzzer::SizedFile, std::allocator<fuzzer::SizedFile>>&)\n",
    "    #17 0x5c9289628baf in fuzzer::FuzzerDriver(int*, char***, int (*)(unsigned char const*, unsigned long))\n",
    "    #18 0x5c9289653236 in main\n",
    "    #19 0x75daf042a1c9 in __libc_start_call_main\n",
    "    #20 0x75daf042a28a in __libc_start_main\n",
    "    #21 0x5c928961db94 in _start\n",
    "\n",
    "SUMMARY: libFuzzer: deadly signal\n",
    "0x0,0x0,0x7,0x7,0x7,\n",
    "\\000\\000\\007\\007\\007\n",
    "artifact_prefix='./'; Test unit written to ./crash-904c66f541163b28f79147766ea263f167ef735a\n",
    "Base64: AAAHBwc=\n",
    "\n",
    "real\t0m0,082s\n",
    "user\t0m0,009s\n",
    "sys\t0m0,018s\n",
    "```"
   ]
  },
  {
   "cell_type": "markdown",
   "metadata": {},
   "source": [
    "libfuzzer нашёл ошибку и справился с задачей в 6-7 раз быстрее нашего рукописного варианта!"
   ]
  },
  {
   "cell_type": "markdown",
   "metadata": {},
   "source": [
    "<br />"
   ]
  },
  {
   "cell_type": "markdown",
   "metadata": {},
   "source": [
    "Реализуем прослойку фаззера для `function_2`:\n",
    "\n",
    "```c++\n",
    "// libfuzzer_runner_2.cpp\n",
    "#include <cstdint>\n",
    "#include <cstddef>\n",
    "\n",
    "int function_2(int x1, int x2, int x3);\n",
    "\n",
    "extern \"C\" int LLVMFuzzerTestOneInput(const uint8_t *data, size_t size) {\n",
    "  int x1 = 0;\n",
    "  int x2 = 0;\n",
    "  int x3 = 0;\n",
    "  for (size_t i = 0; i < size; ++i) {\n",
    "    switch (i % 3) {\n",
    "    case 0: x1 = (x1 << 8) | data[i]; break;\n",
    "    case 1: x2 = (x2 << 8) | data[i]; break;\n",
    "    case 2: x3 = (x3 << 8) | data[i]; break;\n",
    "    }\n",
    "  }\n",
    "\n",
    "  function_2(x1, x2, x3);\n",
    "  return 0;\n",
    "}\n",
    "```"
   ]
  },
  {
   "cell_type": "markdown",
   "metadata": {},
   "source": [
    "Соберём и запустим (вывод редуцирован). **Обратите внимание на строку компиляции**:\n",
    "\n",
    "```\n",
    "$ clang++-18 -O3 -g -fsanitize=fuzzer,address libfuzzer_runner_2.cpp main.cpp\n",
    "$ time ./a.out -seed=12345\n",
    "==4032==ERROR: AddressSanitizer: heap-use-after-free on address 0x50200000ca74 at pc 0x5e0099b33b2d bp 0x7ffdfba5bb00 sp 0x7ffdfba5baf8\n",
    "READ of size 4 at 0x50200000ca74 thread T0\n",
    "    #0 0x5e0099b33b2c in function_2(int, int, int) /home/ivafanas/projects/temp/main.cpp:28:16\n",
    "    #1 0x5e0099b33877 in LLVMFuzzerTestOneInput /home/ivafanas/projects/temp/libfuzzer_runner_2.cpp:18:3\n",
    "    #2 0x5e0099a3ec64 in fuzzer::Fuzzer::ExecuteCallback(unsigned char const*, unsigned long)\n",
    "    #3 0x5e0099a3e359 in fuzzer::Fuzzer::RunOne(unsigned char const*, unsigned long, bool, fuzzer::InputInfo*, bool, bool*)\n",
    "    #4 0x5e0099a3fb45 in fuzzer::Fuzzer::MutateAndTestOne()\n",
    "    #5 0x5e0099a406a5 in fuzzer::Fuzzer::Loop(std::vector<fuzzer::SizedFile, std::allocator<fuzzer::SizedFile>>&) \n",
    "    #6 0x5e0099a2d97f in fuzzer::FuzzerDriver(int*, char***, int (*)(unsigned char const*, unsigned long)) \n",
    "    #7 0x5e0099a58006 in main\n",
    "    #8 0x77a3b142a1c9 in __libc_start_call_main\n",
    "    #9 0x77a3b142a28a in __libc_start_main\n",
    "    #10 0x5e0099a22964 in _start\n",
    "\n",
    "0x50200000ca74 is located 4 bytes inside of 16-byte region [0x50200000ca70,0x50200000ca80)\n",
    "freed by thread T0 here:\n",
    "    #0 0x5e0099b31c11 in operator delete(void*)\n",
    "    #1 0x5e0099b33ad5 in std::__new_allocator<int>::deallocate(int*, unsigned long)\n",
    "    #2 0x5e0099b33ad5 in std::allocator_traits<std::allocator<int>>::deallocate(std::allocator<int>&, int*, unsigned long)\n",
    "    #3 0x5e0099b33ad5 in std::_Vector_base<int, std::allocator<int>>::_M_deallocate(int*, unsigned long)\n",
    "    #4 0x5e0099b33ad5 in std::vector<int, std::allocator<int>>::_M_default_append(unsigned long)\n",
    "    #5 0x5e0099b33ad5 in std::vector<int, std::allocator<int>>::resize(unsigned long)\n",
    "    #6 0x5e0099b33ad5 in function_2(int, int, int) /home/ivafanas/projects/temp/main.cpp:27:11\n",
    "    #7 0x5e0099b33877 in LLVMFuzzerTestOneInput /home/ivafanas/projects/temp/libfuzzer_runner_2.cpp:18:3\n",
    "    #8 0x5e0099a3ec64 in fuzzer::Fuzzer::ExecuteCallback(unsigned char const*, unsigned long)\n",
    "    #9 0x5e0099a3e359 in fuzzer::Fuzzer::RunOne(unsigned char const*, unsigned long, bool, fuzzer::InputInfo*, bool, bool*)\n",
    "    #10 0x5e0099a3fb45 in fuzzer::Fuzzer::MutateAndTestOne()\n",
    "    #11 0x5e0099a406a5 in fuzzer::Fuzzer::Loop(std::vector<fuzzer::SizedFile, std::allocator<fuzzer::SizedFile>>&)\n",
    "    #12 0x5e0099a2d97f in fuzzer::FuzzerDriver(int*, char***, int (*)(unsigned char const*, unsigned long))\n",
    "    #13 0x5e0099a58006 in main\n",
    "    #14 0x77a3b142a1c9 in __libc_start_call_main\n",
    "    #15 0x77a3b142a28a in __libc_start_main\n",
    "    #16 0x5e0099a22964 in _start\n",
    "\n",
    "previously allocated by thread T0 here:\n",
    "    #0 0x5e0099b31391 in operator new(unsigned long)\n",
    "    #1 0x5e0099b33ac9 in std::__new_allocator<int>::allocate(unsigned long, void const*)\n",
    "    #2 0x5e0099b33ac9 in std::allocator_traits<std::allocator<int>>::allocate(std::allocator<int>&, unsigned long)\n",
    "    #3 0x5e0099b33ac9 in std::_Vector_base<int, std::allocator<int>>::_M_allocate(unsigned long)\n",
    "    #4 0x5e0099b33ac9 in void std::vector<int, std::allocator<int>>::_M_range_initialize<int const*>(int const*, int const*, std::forward_iterator_tag)\n",
    "    #5 0x5e0099b33ac9 in std::vector<int, std::allocator<int>>::vector(std::initializer_list<int>, std::allocator<int> const&)\n",
    "    #6 0x5e0099b33ac9 in function_2(int, int, int) /home/ivafanas/projects/temp/main.cpp:25:30\n",
    "    #7 0x5e0099b33877 in LLVMFuzzerTestOneInput /home/ivafanas/projects/temp/libfuzzer_runner_2.cpp:18:3\n",
    "    #8 0x5e0099a3ec64 in fuzzer::Fuzzer::ExecuteCallback(unsigned char const*, unsigned long)\n",
    "    #9 0x5e0099a3e359 in fuzzer::Fuzzer::RunOne(unsigned char const*, unsigned long, bool, fuzzer::InputInfo*, bool, bool*)\n",
    "    #10 0x5e0099a3fb45 in fuzzer::Fuzzer::MutateAndTestOne()\n",
    "    #11 0x5e0099a406a5 in fuzzer::Fuzzer::Loop(std::vector<fuzzer::SizedFile, std::allocator<fuzzer::SizedFile>>&)\n",
    "    #12 0x5e0099a2d97f in fuzzer::FuzzerDriver(int*, char***, int (*)(unsigned char const*, unsigned long))\n",
    "    #13 0x5e0099a58006 in main\n",
    "    #14 0x77a3b142a1c9 in __libc_start_call_main\n",
    "    #15 0x77a3b142a28a in __libc_start_main\n",
    "    #16 0x5e0099a22964 in _start\n",
    "\n",
    "SUMMARY: AddressSanitizer: heap-use-after-free /home/ivafanas/projects/temp/main.cpp:28:16 in function_2(int, int, int)\n",
    "==4032==ABORTING\n",
    "0x0,0x0,0x7,0x7,0x7,\n",
    "\\000\\000\\007\\007\\007\n",
    "artifact_prefix='./'; Test unit written to ./crash-904c66f541163b28f79147766ea263f167ef735a\n",
    "Base64: AAAHBwc=\n",
    "\n",
    "real\t0m0,109s\n",
    "user\t0m0,010s\n",
    "sys\t0m0,019s\n",
    "```"
   ]
  },
  {
   "cell_type": "markdown",
   "metadata": {},
   "source": [
    "И вновь libfuzzer справляется с поиском ошибки, причём в 5 раз быстрее рукописного перебора!"
   ]
  },
  {
   "cell_type": "markdown",
   "metadata": {},
   "source": [
    "<br />"
   ]
  },
  {
   "cell_type": "markdown",
   "metadata": {},
   "source": [
    "##### Важное упражение"
   ]
  },
  {
   "cell_type": "markdown",
   "metadata": {},
   "source": [
    "Мы научились прогонять фаззеры, проверяющие программы на отсутствие падений и ошибок санитайзеров при исполнении кода функции. Как теперь написать фаззер для случая, когда мы умеем вычислять правильный ответ альтернативным методом?"
   ]
  },
  {
   "cell_type": "markdown",
   "metadata": {},
   "source": [
    "<summary>\n",
    "Ответ\n",
    "\n",
    "<details>\n",
    "\n",
    "```c++\n",
    "// Функция, которую хотим протестировать с доп. проверкой\n",
    "// на возвращаемый результат.\n",
    "int my_function(int x);\n",
    "\n",
    "// Функция, которую будем гонять под фаззингом.\n",
    "void runner_for_my_function(int x) {\n",
    "    int my_result = my_function(x);\n",
    "    int ref_result = ref_function(x);\n",
    "    assert(my_result == ref_result);\n",
    "}\n",
    "```\n",
    "    \n",
    "</details>\n",
    "</summary>"
   ]
  },
  {
   "cell_type": "markdown",
   "metadata": {},
   "source": [
    "<br />"
   ]
  },
  {
   "cell_type": "markdown",
   "metadata": {},
   "source": [
    "##### AFL++"
   ]
  },
  {
   "cell_type": "markdown",
   "metadata": {},
   "source": [
    "https://github.com/AFLplusplus/AFLplusplus\n",
    "\n",
    "Мощный, богатый функционалом инструмент фаззинга:\n",
    "1. В общем случае не требует реализации прослоек.\n",
    "2. Может работать с чистыми бинарниками без исходного кода (но хуже и медленнее).\n",
    "3. Может работать с gui-приложениями (но медленно).\n",
    "4. Для эффективной работы требует пересборки исходников своим собственным компилятором."
   ]
  },
  {
   "cell_type": "markdown",
   "metadata": {},
   "source": [
    "Для самостоятельного изучения"
   ]
  },
  {
   "cell_type": "markdown",
   "metadata": {},
   "source": [
    "<br />"
   ]
  },
  {
   "cell_type": "markdown",
   "metadata": {},
   "source": [
    "#### Рекомендации по использованию фаззеров и санитайзеров"
   ]
  },
  {
   "cell_type": "markdown",
   "metadata": {},
   "source": [
    "* Юнит-тесты гонять регулярно инструментированными санитайзерами.\n",
    "* Интеграционный тесты гонять реруглярно над инструментированным санитайзером приложением.\n",
    "* Использование инструментированного санитайзером продукта разработчиками / тестировщиками (хотя бы ubsan, лучше asan).\n",
    "* Использовать разные санитайзеры, разные компиляторы, разные стандартные библиотеки (если позволяет продукт).\n",
    "* Функциониал, который можно и осмысленно:\n",
    "  * покрывать фаззинг-тестами\n",
    "  * регулярно гонять фаззинг-тестирование в режиме минимум N минут\n",
    "  * фаззинг выполнять над инструментированным санитайзером кодом.\n",
    "* Качество тестирования определяется:\n",
    "  * качеством покрытия кода юнит-/интеграционными тестами.\n",
    "  * качеством покрытия сценариев при генерации в фаззинге.\n",
    "\n",
    "**Из практики**: хорошо реализованный фаззинг находит весьма хитрые и неожиданные ошибки в коде, о существовании которых разработчик даже не подозревает."
   ]
  },
  {
   "cell_type": "markdown",
   "metadata": {},
   "source": [
    "<br />"
   ]
  },
  {
   "cell_type": "markdown",
   "metadata": {},
   "source": [
    "**Упражнение:**\n",
    "\n",
    "1. Реализуйте бинарный поиск по отсортированному массиву чисел. Массив может быть отсортирован как по возрастанию, так и по убыванию. Не забудьте, что для этого случая можно найти корректный ответ референсным алгоритмом. Напишите для него фаззер:\n",
    "  * Через libfuzzer\n",
    "  * Через ручной фаззинг.\n",
    "\n",
    "Получилось сделать бин. поиск без ошибок с первого раза? :)"
   ]
  },
  {
   "cell_type": "markdown",
   "metadata": {},
   "source": [
    "<br />"
   ]
  },
  {
   "cell_type": "markdown",
   "metadata": {},
   "source": [
    "**Для самостоятельного изучения**:\n",
    "* [Fuzzing: a survey. Jun Li, Bodong Zhao & Chao Zhang. Cybersecurity volume 1, Article number: 6 (2018)](https://cybersecurity.springeropen.com/articles/10.1186/s42400-018-0002-y)\n",
    "* [LLVM libfuzzer doc](https://llvm.org/docs/LibFuzzer.html)\n",
    "* [AFL best practices](https://github.com/AFLplusplus/AFLplusplus/blob/stable/docs/best_practices.md)\n",
    "* [AFL tutorials](https://github.com/AFLplusplus/AFLplusplus/blob/stable/docs/tutorials.md)"
   ]
  }
 ],
 "metadata": {
  "kernelspec": {
   "display_name": "Python 3 (ipykernel)",
   "language": "python",
   "name": "python3"
  },
  "language_info": {
   "codemirror_mode": {
    "name": "ipython",
    "version": 3
   },
   "file_extension": ".py",
   "mimetype": "text/x-python",
   "name": "python",
   "nbconvert_exporter": "python",
   "pygments_lexer": "ipython3",
   "version": "3.12.3"
  }
 },
 "nbformat": 4,
 "nbformat_minor": 4
}
