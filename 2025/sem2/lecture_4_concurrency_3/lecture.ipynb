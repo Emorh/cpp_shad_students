{
 "cells": [
  {
   "cell_type": "markdown",
   "metadata": {},
   "source": [
    "### Многопоточность. Часть 3"
   ]
  },
  {
   "cell_type": "markdown",
   "metadata": {},
   "source": [
    "Выдать первое домашнее задание"
   ]
  },
  {
   "cell_type": "markdown",
   "metadata": {},
   "source": [
    "<br />"
   ]
  },
  {
   "cell_type": "markdown",
   "metadata": {},
   "source": [
    "##### recursive_mutex"
   ]
  },
  {
   "cell_type": "markdown",
   "metadata": {},
   "source": [
    "__Упражнение:__ Каким минимальным числом мьютексов и потоков можно добиться deadlock?\n",
    "\n",
    "\n",
    "<details>\n",
    "<summary>Ответ</summary>\n",
    "<p>\n",
    "\n",
    "```c++\n",
    "int main()\n",
    "{\n",
    "    std::mutex m;\n",
    "    m.lock();\n",
    "    m.lock();\n",
    "    return 0;\n",
    "}\n",
    "```\n",
    "\n",
    "(почти правильный)\n",
    "\n",
    "</p>\n",
    "</details>\n",
    "\n",
    "<details>\n",
    "<summary>Правильный ответ</summary>\n",
    "<p>\n",
    "\n",
    "Дважды вызов `lock` у `std::mutex` на одном потоке формально - UB. Правильный ответ - классический - два потока и два мьютекса.\n",
    "\n",
    "</p>\n",
    "</details>"
   ]
  },
  {
   "cell_type": "markdown",
   "metadata": {},
   "source": [
    "Зависание через дважды `lock()` на одном потоке - не самая приятная особенность.\n",
    "\n",
    "Если, например, класс с многопоточным доступом простой, то все пути с блокировками `std::mutex` можно отследить глазами. Но есть случаи, когда:\n",
    "* класс с многопоточным доступом спроектирован плохо, отследить все пути сложно\n",
    "* класс в реализации методов управление отдаётся наружу, например:\n",
    "\n",
    "```c++\n",
    "class MTClass\n",
    "{\n",
    "private:\n",
    "    std::mutex m;\n",
    "    \n",
    "public:\n",
    "    void method()\n",
    "    {\n",
    "        std::lock_guard guard(m);\n",
    "        \n",
    "        global_function();  // <--- подозрительное место, не дойдёт ли в callstack\n",
    "                            //      до вызова этого же метода снова? (нужно отслеживать)\n",
    "    }\n",
    "};\n",
    "```\n",
    "\n",
    "или так:\n",
    "\n",
    "```c++\n",
    "class TasksQueue\n",
    "{\n",
    "public:\n",
    "    using Task = std::function<void(void)>;\n",
    "    \n",
    "    void push(Task task)\n",
    "    {\n",
    "        std::lock_guard guard(mtx);\n",
    "        \n",
    "        tasks_queue.emplace_back(std::move(task));\n",
    "    }\n",
    "    \n",
    "    void pop_and_run()\n",
    "    {\n",
    "        std::lock_guard guard(mtx);\n",
    "        \n",
    "        if (!tasks_queue.empty())\n",
    "        {        \n",
    "            const auto task = std::move(tasks_queue.back());\n",
    "            tasks_queue.pop_back();\n",
    "            task();  // <--- запускается неизвестная задача, которая может захотеть\n",
    "                     //      поставить другую задачу в очередь через |TasksQueue::push|\n",
    "        }        \n",
    "    }\n",
    "    \n",
    "private:\n",
    "    std::mutex mtx;\n",
    "    std::queue<Task> tasks_queue;\n",
    "};\n",
    "```"
   ]
  },
  {
   "cell_type": "markdown",
   "metadata": {},
   "source": [
    "Чтобы справляться с этими ситуациями нужен `std::recursive_mutex`"
   ]
  },
  {
   "cell_type": "markdown",
   "metadata": {},
   "source": [
    "https://en.cppreference.com/w/cpp/thread/recursive_mutex"
   ]
  },
  {
   "cell_type": "markdown",
   "metadata": {},
   "source": [
    "* хранит внутри счётчик, сколько раз был сделан `lock`\n",
    "* каждый `lock` увеличивает счётчик на 1\n",
    "* каждый `unlock` уменьшает счётчик на 1\n",
    "* кол-во `unlock`-ов должно совпадать с кол-вом `lock`-ов\n",
    "* максимальное значение счётчика - unspecified, при его превышении - exception"
   ]
  },
  {
   "cell_type": "markdown",
   "metadata": {},
   "source": [
    "```c++\n",
    "// отработает корректно:\n",
    "int main()\n",
    "{\n",
    "    std::recursive_mutex mtx;\n",
    "    mtx.lock();\n",
    "    mtx.lock(); // ok\n",
    "    mtx.unlock();\n",
    "    mtx.unlock();\n",
    "    return 0;\n",
    "}\n",
    "```"
   ]
  },
  {
   "cell_type": "markdown",
   "metadata": {},
   "source": [
    "пример с `TasksQueue`:"
   ]
  },
  {
   "cell_type": "markdown",
   "metadata": {},
   "source": [
    "```c++\n",
    "class TasksQueue\n",
    "{\n",
    "public:\n",
    "    using Task = std::function<void(void)>;\n",
    "\n",
    "    void push(Tash task)\n",
    "    {\n",
    "        std::lock_guard guard(mtx);\n",
    "\n",
    "        tasks_queue.emplace_back(std::move(task));\n",
    "    }\n",
    "\n",
    "    void pop_and_run()\n",
    "    {\n",
    "        std::lock_guard guard(mtx);\n",
    "\n",
    "        if (!tasks_queue.empty())\n",
    "        {        \n",
    "            const auto task = std::move(tasks_queue.back());\n",
    "            tasks_queue.pop_back();\n",
    "            task();  // <--- ok\n",
    "        }        \n",
    "    }\n",
    "\n",
    "private:\n",
    "    std::recursive_mutex mtx;\n",
    "    std::queue<Task> tasks_queue;\n",
    "};\n",
    "```"
   ]
  },
  {
   "cell_type": "markdown",
   "metadata": {},
   "source": [
    "__Замечание__: Другой способ решения проблемы (более правильный) - использовать обычный `std::mutex` и вызывать `task()` за пределами блокировки.\n",
    "\n",
    "Обсудить, почему другой способ более правильный. Если есть время - нарисовать решение."
   ]
  },
  {
   "cell_type": "markdown",
   "metadata": {},
   "source": [
    "<br />"
   ]
  },
  {
   "cell_type": "markdown",
   "metadata": {},
   "source": [
    "##### shared_mutex, unique_lock, shared_lock"
   ]
  },
  {
   "cell_type": "markdown",
   "metadata": {},
   "source": [
    "https://en.cppreference.com/w/cpp/thread/shared_mutex\n",
    "\n",
    "https://en.cppreference.com/w/cpp/thread/unique_lock\n",
    "\n",
    "https://en.cppreference.com/w/cpp/thread/shared_lock"
   ]
  },
  {
   "cell_type": "markdown",
   "metadata": {},
   "source": [
    "__Вопрос__: кто-нибудь работал с RWLock? Что это такое и зачем оно нужно?"
   ]
  },
  {
   "cell_type": "markdown",
   "metadata": {},
   "source": [
    "`std::shared_mutex` - похожая концепция, где read - это shared, а write - это exclusive\n",
    "* позволяет захватывать себя в shared и exclusive режимах (чтения и записи)\n",
    "* exclusive (писатель) единомоментно может быть только один, при этом не может быть shared (читателей)\n",
    "* shared (читатель) единомоментно может быть несколько"
   ]
  },
  {
   "cell_type": "markdown",
   "metadata": {},
   "source": [
    "Основные методы:\n",
    "\n",
    "для exclusive (write) режима\n",
    "* `lock`\n",
    "* `try_lock`\n",
    "* `unlock`\n",
    "\n",
    "для shared (read) режима\n",
    "* `lock_shared`\n",
    "* `try_lock_shared`\n",
    "* `unlock_shared`"
   ]
  },
  {
   "cell_type": "markdown",
   "metadata": {},
   "source": [
    "RAII-захват:\n",
    "* `std::unique_lock` захватывает в exclusive (write) режиме (можно `std::lock_guard` тоже)\n",
    "* `std::shared_lock` захватывает в shared (read) режиме"
   ]
  },
  {
   "cell_type": "markdown",
   "metadata": {},
   "source": [
    "```c++\n",
    "class MTJiuceBottle\n",
    "{\n",
    "private:\n",
    "    float cur_volume_;\n",
    "    float max_volume_;\n",
    "    mutable std::shared_mutex mtx_;\n",
    "\n",
    "public:\n",
    "    float get_cur_volume() const {\n",
    "        std::shared_lock lock(mtx_, std::adopt_lock);\n",
    "        return cur_volume_;\n",
    "    }\n",
    "\n",
    "    void set_cur_volume(const float value) {\n",
    "        std::lock_guard guard(mtx_);\n",
    "        cur_volume_ = value;\n",
    "    }\n",
    "\n",
    "    float get_max_volume() const {\n",
    "        std::shared_lock lock(mtx_, std::adopt_lock);\n",
    "        return max_volume_;\n",
    "    }\n",
    "\n",
    "    void set_max_volume(const float value) {\n",
    "        std::lock_guard guard(mtx_);\n",
    "        max_volume_ = value;\n",
    "    }\n",
    "};\n",
    "```"
   ]
  },
  {
   "cell_type": "markdown",
   "metadata": {},
   "source": [
    "<br />"
   ]
  },
  {
   "cell_type": "markdown",
   "metadata": {},
   "source": [
    "##### condition_variable"
   ]
  },
  {
   "cell_type": "markdown",
   "metadata": {},
   "source": [
    "https://en.cppreference.com/w/cpp/thread/condition_variable\n",
    "\n",
    "https://en.cppreference.com/w/cpp/thread/condition_variable_any\n",
    "\n",
    "https://en.wikipedia.org/wiki/Spurious_wakeup"
   ]
  },
  {
   "cell_type": "markdown",
   "metadata": {},
   "source": [
    "`std::condition_variable` - примитив синхронизации, позволяющий одному потоку нотифицировать другой/другие, что какое-то событие произошло.\n",
    "\n",
    "`std::condition_variable` работает только с `std::unique_lock<std::mutex>` (для эффективности). Если нужно что-то другое - можно использовать `std::condition_variable_any`"
   ]
  },
  {
   "cell_type": "markdown",
   "metadata": {},
   "source": [
    "Принцип работы:\n",
    "    \n",
    "* есть условие `condition`, о смене которого нужно сообщить между потоками\n",
    "* есть `std::mutex` для синхронизации, `condition` и его внутренности вычисляются только если мьютекс захвачен\n",
    "* есть `std::condition_variable` для отсылки нотификации\n",
    "\n",
    "методы:\n",
    "\n",
    "* `notify_one` - отослать нотификацию одному потоку, что событие произошло / условие поменялось\n",
    "* `notify_all` - отослать нотификацию всем потокам, что событие произошло / условие поменялось\n",
    "* `wait(std::unique_lock<std::mutex>& lock)` - подождать, пока либо пока кто-нибудь нас не нотифицирует о событии либо ОКОНЧИТЬ ОЖИДАНИЕ ПРОСТО ТАК ПОТОМУ ЧТО ЗАХОТЕЛОСЬ, ДАЖЕ ЕСЛИ НИКТО НЕ ОТСЫЛАЛ НОТИФИКАЦИИ.\n",
    "    * проблема в сложностях реализации честного `wait`.\n",
    "* `wait( std::unique_lock<std::mutex>& lock, Predicate pred )` - эквивалент:\n",
    "\n",
    "```c++\n",
    "    while (!pred)\n",
    "        wait(lock);\n",
    "```"
   ]
  },
  {
   "cell_type": "markdown",
   "metadata": {},
   "source": [
    "__Пример__:\n",
    "\n",
    "```c++\n",
    "std::mutex m;\n",
    "std::condition_variable cv_ready;\n",
    "std::condition_variable cv_compl;\n",
    "std::string data;\n",
    "bool is_inp_ready = false;\n",
    "bool is_completed = false;\n",
    " \n",
    "void worker_function()\n",
    "{\n",
    "    std::unique_lock lk(m);  // mutex locked\n",
    "    cv_ready.wait(lk, []{ return is_inp_ready; });  // mutex unlocked, locked inside lambda\n",
    "    // mutex locked\n",
    "\n",
    "    process(data);\n",
    "    is_completed = true;\n",
    "    \n",
    "    cv_compl.notify_one();\n",
    "}\n",
    " \n",
    "int main()\n",
    "{\n",
    "    std::thread thr(worker_function);\n",
    "    \n",
    "    data = prepare_input();\n",
    " \n",
    "    {\n",
    "        std::lock_guard guard(m);\n",
    "        is_inp_ready = true;\n",
    "    }\n",
    "    cv_ready.notify_one();\n",
    "    \n",
    "    {\n",
    "        std::unique_lock lk(m);\n",
    "        cv_compl.wait(lk, []{ return is_completed; });\n",
    "    }\n",
    "    \n",
    "    std::cout << data;\n",
    "\n",
    "    thr.join();\n",
    "}\n",
    "```\n",
    "\n",
    "Код работает, но в нём проблема, в чём она?"
   ]
  },
  {
   "cell_type": "markdown",
   "metadata": {},
   "source": [
    "Более правильный вариант:\n",
    "    \n",
    "```c++\n",
    "std::mutex m;\n",
    "std::condition_variable cv_ready;\n",
    "std::condition_variable cv_compl;\n",
    "std::string data;\n",
    "bool is_inp_ready = false;\n",
    "bool is_completed = false;\n",
    "\n",
    "void worker_function()\n",
    "{\n",
    "    std::unique_lock lk(m);  // mutex locked\n",
    "    cv_ready.wait(lk, []{ return is_inp_ready; });  // mutex unlocked, locked inside lambda\n",
    "    // mutex locked\n",
    "\n",
    "    process(data);\n",
    "    is_completed = true;\n",
    "    \n",
    "    lk.unlock();  // !avoid redundant switches!\n",
    "    cv_compl.notify_one();\n",
    "}\n",
    "\n",
    "int main()\n",
    "{\n",
    "    std::thread thr(worker_function);\n",
    "\n",
    "    data = prepare_input();\n",
    "\n",
    "    {\n",
    "        std::lock_guard guard(m);\n",
    "        is_inp_ready = true;\n",
    "    }\n",
    "    cv_ready.notify_one();\n",
    "\n",
    "    {\n",
    "        std::unique_lock lk(m);\n",
    "        cv_compl.wait(lk, []{ return is_completed; });\n",
    "    }\n",
    "\n",
    "    thr.join();\n",
    "}\n",
    "```"
   ]
  },
  {
   "cell_type": "markdown",
   "metadata": {},
   "source": [
    "<br />"
   ]
  },
  {
   "cell_type": "markdown",
   "metadata": {},
   "source": [
    "##### thread_local"
   ]
  },
  {
   "cell_type": "markdown",
   "metadata": {},
   "source": [
    "`thread_local` - модификатор перед переменной / константой, делающий её глобальной в рамках одного потока:\n",
    "\n",
    "```c++\n",
    "int func()\n",
    "{\n",
    "    thread_local unsigned i = 0;\n",
    "    ++i;\n",
    "    // в каждом потоке будет своя личная глобальная переменная i,\n",
    "    // которая будет равна числу вызовов функции |func| на этом потоке\n",
    "    \n",
    "    ...;\n",
    "}\n",
    "```"
   ]
  },
  {
   "cell_type": "markdown",
   "metadata": {},
   "source": [
    "Плюсы:\n",
    "* возможность делать потокобезопасные глобальные кеши\n",
    "\n",
    "Минусы:\n",
    "* создание потока дороже, т.к. для каждого нового потока нужно вызывать конструкторы `thread_local` данных\n",
    "    * хуже того, создание потока дороже неявно. Если вы слинковались с левой библиотекой, использующей `thread_local`-оптимизации для себя лично, то ВСЕ ваши потоки стали создаваться медленнее.\n",
    "* старые операционки не поддерживают `thread_local` (не компиляторы, а операционки!). Например, Windows XP (поддерживает, начиная с Windows XP SP 3, емнип). В них `thread_local` молча становится `static` без синхронизаций, и программы неожиданно начинают ловить race condition."
   ]
  },
  {
   "cell_type": "markdown",
   "metadata": {},
   "source": [
    "<br />"
   ]
  },
  {
   "cell_type": "markdown",
   "metadata": {},
   "source": [
    "**Пример +- разумного использования thread_local**:\n",
    "\n",
    "Есть функция - конвертилка форматов. Она работает \"почти\" быстро, если бы ей не нужно было временное хранилище.\n",
    "\n",
    "```c++\n",
    "std::string person_to_string(const Person &p) {\n",
    "  // Implementation requires an additional allocation,\n",
    "  // but other its parts are fast enough.\n",
    "  std::vector<char> buffer{4096};\n",
    "  ...; // convert using buffer.\n",
    "}\n",
    "```\n",
    "\n",
    "Возможным решением мог бы быть вынос `buffer` в глобальные переменные:\n",
    "\n",
    "```c++\n",
    "static std::vector<char> g_buffer{4096};\n",
    "\n",
    "std::string person_to_string(const Person &p) {\n",
    "  // For now, implementation is fast and works sometimes.\n",
    "  // But is not correct.\n",
    "  g_buffer.clear();\n",
    "  ...; // convert using buffer.\n",
    "}\n",
    "```\n",
    "\n",
    "Решение не работает в многопоточной среде с возможным одновременным вызовом `person_to_string` из нескольких потоков. Рабочий вариант - иметь свой личный глобальный объект `buffer` для каждого потока.\n",
    "\n",
    "```c++\n",
    "static thread_local std::vector<char> g_buffer{4096};\n",
    "\n",
    "std::string person_to_string(const Person &p) {\n",
    "  // Implementation is fast and seems correct.\n",
    "  // But the new thread creation become slower :(\n",
    "  g_buffer.clear();\n",
    "  ...; // convert using buffer.\n",
    "}\n",
    "```"
   ]
  },
  {
   "cell_type": "markdown",
   "metadata": {},
   "source": [
    "<br />"
   ]
  },
  {
   "cell_type": "markdown",
   "metadata": {},
   "source": [
    "**Упражнение:**\n",
    "\n",
    "* Реализовать однопоточное рекурсивное вычисление чисел Фибоначчи:\n",
    "\n",
    "  ```\n",
    "  f(n) = f(n-1) + f(n-2)\n",
    "  ```\n",
    "\n",
    "  Запустить вычисление на разных потоках. С помощью `recursive_mutex` вывести, сколько раз за всё выполнение программмы была вызвана функция `f`. Распечатать в конце работы программы. Можно решить задачу и через обычный `mutex`.\n",
    "\n",
    "* С помошью `thread_local` посчитать, сколько раз вызывалась функция `f` для каждого из потоков. Распечатать в конце работы каждого потока.\n",
    "\n",
    "* Напишите сортировку подсчётом для чисел от 0 до 1024. Оптимизируйте аллокацию массива счётчиков. Функция должна работать корректно и сравнительно быстро в многопоточной среде.\n",
    "\n",
    "* Напишите многопоточную очередь с синхронизацией через мьютекс. Запустите её в режиме один писатель - два читателя. Нотификация о новом объекте в очереди читателю должна приходить через `condition_variable`."
   ]
  },
  {
   "cell_type": "markdown",
   "metadata": {},
   "source": [
    "<br />"
   ]
  },
  {
   "cell_type": "markdown",
   "metadata": {},
   "source": [
    "##### Резюме"
   ]
  },
  {
   "cell_type": "markdown",
   "metadata": {},
   "source": [
    "* `std::recursive_mutex` поможет, если нужно `std::mutex` захватить больше одного раза в одном потоке\n",
    "* `std::shared_mutex / std::unique_lock / std::shared_lock` - для организации читателей и писателей\n",
    "* `std::conditional_variable` - примитив синхронизации лоя нотификации других потоков о событиях (помните о spurios wakeups)\n",
    "* `thread_local` - глобальные данные, видимые для одного потока (у каждого потока свои)"
   ]
  }
 ],
 "metadata": {
  "kernelspec": {
   "display_name": "Python 3 (ipykernel)",
   "language": "python",
   "name": "python3"
  },
  "language_info": {
   "codemirror_mode": {
    "name": "ipython",
    "version": 3
   },
   "file_extension": ".py",
   "mimetype": "text/x-python",
   "name": "python",
   "nbconvert_exporter": "python",
   "pygments_lexer": "ipython3",
   "version": "3.12.3"
  }
 },
 "nbformat": 4,
 "nbformat_minor": 4
}
