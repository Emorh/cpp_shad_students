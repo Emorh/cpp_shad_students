{
 "cells": [
  {
   "cell_type": "markdown",
   "metadata": {},
   "source": [
    "### Многопоточность. Введение в lock free"
   ]
  },
  {
   "cell_type": "markdown",
   "metadata": {},
   "source": [
    "<br />"
   ]
  },
  {
   "cell_type": "markdown",
   "metadata": {},
   "source": [
    "##### spinlock && гибриды"
   ]
  },
  {
   "cell_type": "markdown",
   "metadata": {},
   "source": [
    "**Вопрос**: как устроен внутри `std::mutex`, что происходит при вызовах методов `lock`/`unlock`?"
   ]
  },
  {
   "cell_type": "markdown",
   "metadata": {},
   "source": [
    "<br />"
   ]
  },
  {
   "cell_type": "markdown",
   "metadata": {},
   "source": [
    "В некоторых случаях использование честных вызовов ОС может оказаться слишком дорогим.\n",
    "\n",
    "Рассмотрим случай, когда защищаемый участок кода выполняется очень быстро:\n",
    "\n",
    "```c++\n",
    "std::vector<int> v;\n",
    "std::mutex mtx;\n",
    "\n",
    "void add_item(int item)\n",
    "{\n",
    "    std::lock_guard guard(mtx);\n",
    "    v.push_back(item);\n",
    "}\n",
    "```\n",
    "\n",
    "Зачастую `v.push_back` отрабатывает очень быстро, всего несколько инструкций: увеличить размер на 1 элемент и записать целое в область памяти. Время его работы значительно меньше, чем двойной уход в kernel space для `std::mutex` при вызовах `lock`/`unlock`. В такой функции всё время работы уходит на синхронизацию.\n",
    "\n",
    "Хочется подешевле."
   ]
  },
  {
   "cell_type": "markdown",
   "metadata": {},
   "source": [
    "<br />"
   ]
  },
  {
   "cell_type": "markdown",
   "metadata": {},
   "source": [
    "`spinlock` - вариант решения проблемы на атомарных операциях.\n",
    "\n",
    "Простейшая его реализация:\n",
    "* атомарный флаг занятости\n",
    "* в `lock` подождать, пока флаг не станет \"свободным\", выставить \"занято\"\n",
    "* в `unlock` выставить \"свободно\"\n",
    "\n",
    "Вариант реализации (если понимать memory model, можно реализовать быстрее):\n",
    "\n",
    "https://en.cppreference.com/w/cpp/atomic/atomic_flag\n",
    "\n",
    "```c++\n",
    "class spin_lock\n",
    "{\n",
    "    std::atomic_flag busy = ATOMIC_FLAG_INIT;\n",
    "    \n",
    "public:\n",
    "    void lock()\n",
    "    {\n",
    "        // test_and_set - устанавливает флаг в true и\n",
    "        // возвращает предыдущее значение\n",
    "        //\n",
    "        // (если вернуло false, значит, это мы изменили\n",
    "        //  флаг false -> true)\n",
    "        \n",
    "        while (busy.test_and_set())  // acquire lock\n",
    "             ; // spin\n",
    "    }\n",
    "    \n",
    "    void unlock()\n",
    "    {\n",
    "        busy.clear();  // release lock\n",
    "    }\n",
    "};\n",
    "\n",
    "// Вопрос: почему это работает? как два потока будут бороться за lock?\n",
    "```\n",
    "\n",
    "И потом можно сделать так:\n",
    "\n",
    "```c++\n",
    "std::vector<int> v;\n",
    "spin_lock slock;\n",
    "\n",
    "void add_item(int item)\n",
    "{\n",
    "    std::lock_guard guard(slock);\n",
    "    v.push_back(item);\n",
    "}\n",
    "```\n",
    "\n",
    "и `add_item` начнёт работать значительно быстрее."
   ]
  },
  {
   "cell_type": "markdown",
   "metadata": {},
   "source": [
    "<br />"
   ]
  },
  {
   "cell_type": "markdown",
   "metadata": {},
   "source": [
    "**Вопрос**: Если бы spinlock был так хорош, то можно было бы просто все `std::mutex` позаменять на spinlock и не мучиться. В чём проблема spinlock, чем он хуже `mutex`?\n",
    "\n",
    "<details>\n",
    "<summary>ответ</summary>\n",
    "<p>\n",
    "\n",
    "* `std::mutex` усыпляет висящий на его `lock`-е поток средствами ОС. Пока поток висит на `std::mutex`, ОС закинет на физическое ядро другие потоки, выполняющие полезную работу\n",
    "* `spinlock` оккупирует ядро в `lock` в цикле `while`, никому не отдавая свой фрейм выполнения. Если `spinlock` висит долго, он впустую крутит физическое ядро вместо того чтобы отдать ресурсы на полезную работу.\n",
    "\n",
    "</p>    \n",
    "</details>"
   ]
  },
  {
   "cell_type": "markdown",
   "metadata": {},
   "source": [
    "<br />"
   ]
  },
  {
   "cell_type": "markdown",
   "metadata": {},
   "source": [
    "**Поэтому для простых решений выработано правило:**\n",
    "* если блокируемый участок кода выполняется быстро - `spinlock`\n",
    "* если блокируемый участок кода выполняется медленно  или время неизвестно - `std::mutex`"
   ]
  },
  {
   "cell_type": "markdown",
   "metadata": {},
   "source": [
    "<br />"
   ]
  },
  {
   "cell_type": "markdown",
   "metadata": {},
   "source": [
    "Есть варианты частичного исправления проблемы `spinlock`-а - `spinlock` с засыпанием. Идея реализации метода `lock`:\n",
    "* покрутиться недолго на атомике в ожидании значения \"свободно\"\n",
    "* усыпить поток на время `x` (через `std::this_thread::yield`, например)\n",
    "* покрутиться недолго на атомике в ожидании значения \"свободно\"\n",
    "* усыпить поток на время `2 * x`\n",
    "* покрутиться недолго на атомике в ожидании значения \"свободно\"\n",
    "* усыпить поток на время `4 * x`\n",
    "* покрутиться недолго на атомике в ожидании значения \"свободно\"\n",
    "* усыпить поток на время `8 * x`\n",
    "...\n",
    "\n",
    "т.е. после некоторой оккупации физического ядра и кручения его на спинлоке всё-таки принять решение отдать ядро кому-то другому, а самому уснуть. Время засыпания увеличивать в геометрической прогрессии до некоторой верхней границы.\n",
    "\n",
    "Тоже допустимое решение, но `std::mutex` и здесь может начать выигрывать на длительных ожиданиях:\n",
    "* во время `std::this_thread::yield` поток не знает, когда проснуться, он будет спать запрошенное время, а событие разблокировки, например, произойдёт в середине сна.\n",
    "* к тому же остаются расходы на оккупацию физического ядра, но они меньше\n",
    "* в случае с `std::mutex` ОС знает, когда нужно разбудить ожидающий поток"
   ]
  },
  {
   "cell_type": "markdown",
   "metadata": {},
   "source": [
    "<br />"
   ]
  },
  {
   "cell_type": "markdown",
   "metadata": {},
   "source": [
    "В случае, когда объём вычислений под блокировкой предсказать сложно (или не хочется думать), иногда используют гибридный вариант блокировки:\n",
    "* сначала покрутиться несколько раз на `atomic_flag`\n",
    "* если через atomic разрулить не получилось, уйти через `std::mutex` в kernel space, и пусть ОС сама решает когда нас разбудить\n",
    "\n",
    "Так, например, сделан [Webkit WTF::Lock](https://webkit.org/blog/6161/locking-in-webkit/) (статья объёмная, но полезная, почитайте)"
   ]
  },
  {
   "cell_type": "markdown",
   "metadata": {},
   "source": [
    "<br />"
   ]
  },
  {
   "cell_type": "markdown",
   "metadata": {},
   "source": [
    "##### intro to lock free programming"
   ]
  },
  {
   "cell_type": "markdown",
   "metadata": {},
   "source": [
    "https://preshing.com/20120612/an-introduction-to-lock-free-programming\n",
    "    \n",
    "Jeff Pershing даёт следующее определение lock-free:\n",
    "\n",
    "> lock free programming = multithreaded app + shared memory + threads do not lock each other\n",
    "\n",
    "Под \"threads do not lock each other\" понимается, что при любом причудливом планировании распределения фреймов cpu по потокам работа будет продвигаться. Если даже ОС полностью усыпила какой-то один поток, остальные продолжат выполнять работу по алгоритму.\n",
    "\n",
    "**Вопрос**: если принять такое определение, почему любой алгоритм с использованием mutex не является lock free?"
   ]
  },
  {
   "cell_type": "markdown",
   "metadata": {},
   "source": [
    "<br />"
   ]
  },
  {
   "cell_type": "markdown",
   "metadata": {},
   "source": [
    "**Пример:** пример без мьютексов с атомарным `х` равным 0 на входе, который НЕ lock free:\n",
    "    \n",
    "```c++\n",
    "while (X == 0)\n",
    "    X = 1 - X;\n",
    "```\n",
    "\n",
    "**Вопрос:** каким образом два апотока могут здесь друг друга залочить\n",
    "\n",
    "**Следствие:** отсутствие `mutex`-ов и `spin_lock`-ов ещё не делает алгоритм lock free"
   ]
  },
  {
   "cell_type": "markdown",
   "metadata": {},
   "source": [
    "<br />"
   ]
  },
  {
   "cell_type": "markdown",
   "metadata": {},
   "source": [
    "Другое определение lock free:\n",
    "    \n",
    "> as long as the program is able to keep calling those lock-free operations, the number of completed calls keeps increasing, no matter what"
   ]
  },
  {
   "cell_type": "markdown",
   "metadata": {},
   "source": [
    "Если по какой-то причине после сегодняшней лекции (её примеров и упрощений) вам покажется, что lock-free - простая тема, [здесь](https://preshing.com/20120913/acquire-and-release-semantics/#IDComment721195803) пример как Jeff Pershing находит ошибку в презентации про атомики и барьеры от Герба Саттера (генсека <s>КПСС</s> КСС++, второго человека в мире С++)."
   ]
  },
  {
   "cell_type": "markdown",
   "metadata": {},
   "source": [
    "<br />"
   ]
  },
  {
   "cell_type": "markdown",
   "metadata": {},
   "source": [
    "##### hardware memory model (simplified)"
   ]
  },
  {
   "cell_type": "markdown",
   "metadata": {},
   "source": [
    "https://preshing.com/20120930/weak-vs-strong-memory-models/\n",
    "\n",
    "memory ordering - правила упорядочивания операций с памятью можно разделить на:\n",
    "\n",
    "* правила языка для абстрактной машины\n",
    "    * и вы программу пишите с ними и только под них\n",
    " \n",
    "* hardware-специфичные правила\n",
    "    * применяются в зависимости от железа, на котором выполняется программа - под них программу писать не надо, но желательно понимать, чтобы понимать, каких ошибок можно ожидать от железа, когда в программе наошибались в правилах языка"
   ]
  },
  {
   "cell_type": "markdown",
   "metadata": {},
   "source": [
    "Поговорим про hardware memory ordering\n",
    "\n",
    "Варианты:\n",
    "* really weak\n",
    "* weak with data dependency\n",
    "* usually strong\n",
    "* sequentially consistent"
   ]
  },
  {
   "cell_type": "markdown",
   "metadata": {},
   "source": [
    "![](weak-strong-table-4.png)"
   ]
  },
  {
   "cell_type": "markdown",
   "metadata": {},
   "source": [
    "**really weak**\n",
    "\n",
    "(Без специальных барьеров) нет никаких гарантий:\n",
    "\n",
    "Вспомним пример:\n",
    "\n",
    "```c++\n",
    "int x = 0, y = 0;\n",
    "int a = 0, b = 0;\n",
    "\n",
    "void thread_1_worker_on_cpu_1() {\n",
    "    x = 1; y = 2;\n",
    "\n",
    "    if (b == 5)\n",
    "        assert(a == 4);  // fail\n",
    "}\n",
    "\n",
    "void thread_2_worker_on_cpu_2() {\n",
    "    a = 4; b = 5;\n",
    "\n",
    "    if (y == 2)\n",
    "        assert(x == 1);  // fail\n",
    "}\n",
    "```\n",
    "\n",
    "Нет никаких гарантий на порядок/время записи данных в \"общую память (L2 + RAM)\", ровно как и на порядок/время их просачивания до \"частной памяти ЦПУ (L1)\".\n",
    "\n",
    "\n",
    "**weak with data dependency**\n",
    "\n",
    "Появляется гарантия (из статьи Джеффа):\n",
    "\n",
    "> It means that if you write A->B in C/C++, you are always guaranteed to load a value of B which is at least as new as the value of A\n",
    "\n",
    "**Замечание**: ниже написан код плюсовый, но сделаем вид, будто компилятор ничего переупорядочивать не будет, если будет - всё неверно. Мы как будто бы пишем на ассемблере в синтаксисе плюсов.\n",
    "\n",
    "на примере:\n",
    "\n",
    "```c++\n",
    "int x = 0, y = 0;\n",
    "int a = 0, b = 0;\n",
    "\n",
    "void thread_1_worker_on_cpu_1() {\n",
    "    x = 1;\n",
    "    y = x;  // <---- в одну ячейку памяти пишем содержимое другой\n",
    "    \n",
    "    a = 1;\n",
    "    b = 1;  // больше x, y, a, b никто не трогает\n",
    "}\n",
    "\n",
    "void thread_2_worker_on_cpu_2() {\n",
    "    if (y == 1)\n",
    "        assert(x == 1);  // ok\n",
    "\n",
    "    if (b == 1)\n",
    "        assert(a == 1);  // fail\n",
    "}\n",
    "```\n",
    "\n",
    "\n",
    "**strong model**\n",
    "\n",
    "> A strong hardware memory model is one in which every machine instruction comes implicitly with acquire and release semantics. As a result, when one CPU core performs a sequence of writes, every other CPU core sees those values change in the same order that they were written.\n",
    "\n",
    "**Замечание**: Несмотря на то, что к strong model бодро отнесён x86/64, не все операции в x86/64 поддерживают strong memory model, читайте исходную статью и комментарии.\n",
    "\n",
    "**Замечание**: ниже написан код плюсовый, но сделаем вид, будто компилятор ничего переупорядочивать не будет, если будет - всё неверно. Мы как будто бы пишем на ассемблере в синтаксисе плюсов.\n",
    "\n",
    "```c++\n",
    "int x = 0, y = 0, z = 0;\n",
    "\n",
    "void thread_1_worker_on_cpu_1() {\n",
    "    x = 1;\n",
    "    y = 2;\n",
    "    z = 3;\n",
    "}\n",
    "\n",
    "void thread_2_worker_on_cpu_2() {\n",
    "    if (z == 3) {\n",
    "        assert(y == 2);  // ok\n",
    "        assert(x == 1);  // ok\n",
    "    }\n",
    "}\n",
    "```\n",
    "\n",
    "В strong модели разрешено переупорядочивание операций store-load (запись-чтение) (но запрещены load-store, store-store && load-load)\n",
    "\n",
    "```c++\n",
    "int x = 0, y = 0;\n",
    "int a = 0, b = 0;\n",
    "\n",
    "void thread_1_worker_on_cpu_1() {\n",
    "    x = 1;  // store x\n",
    "    a = y;  // load y\n",
    "            // store a\n",
    "}\n",
    "\n",
    "void thread_2_worker_on_cpu_2() {\n",
    "    y = 1;  // store y\n",
    "    b = x;  // load x\n",
    "            // store b\n",
    "}\n",
    "```\n",
    "\n",
    "В результате такого \"ассемблера\" может получиться `a = 0 && b = 0`.\n",
    "\n",
    "**Вопрос**: как?\n",
    "\n",
    "<details>\n",
    "<summary>ответ</summary>\n",
    "\n",
    "* cpu1: register1 = read y ( == 0)\n",
    "* cpu2: register2 = read x ( == 0)\n",
    "* cpu1: x = 1\n",
    "* cpu2: y = 1\n",
    "* cpu1: a = register1 ( == 0)\n",
    "* cpu2: b = register2 ( == 0)\n",
    "    \n",
    "    \n",
    "</details>\n",
    "\n",
    "\n",
    "**sequential consistent**\n",
    "\n",
    "Любое переупорядочивание запрещено, из примера выше `a = 0 && b = 0` не получить."
   ]
  },
  {
   "cell_type": "markdown",
   "metadata": {},
   "source": [
    "<br />"
   ]
  },
  {
   "cell_type": "markdown",
   "metadata": {},
   "source": [
    "##### C++ memory model (simplified, since C++11)"
   ]
  },
  {
   "cell_type": "markdown",
   "metadata": {},
   "source": [
    "https://en.cppreference.com/w/cpp/atomic/memory_order\n",
    "\n",
    "https://preshing.com/20120913/acquire-and-release-semantics\n",
    "\n",
    "Теперь поговорим про memory ordering на уровне языка С++ - те, с которыми вам необходимо работать при написании программ.\n",
    "\n",
    "В стандартной библиотеке С++ определён enum для различного рода ограничений на переупорядочивание операций с памятью.\n",
    "\n",
    "```c++\n",
    "typedef enum memory_order {\n",
    "    memory_order_relaxed,\n",
    "    memory_order_consume,\n",
    "    memory_order_acquire,\n",
    "    memory_order_release,\n",
    "    memory_order_acq_rel,\n",
    "    memory_order_seq_cst\n",
    "} memory_order;\n",
    "```"
   ]
  },
  {
   "cell_type": "markdown",
   "metadata": {},
   "source": [
    "Из них рассмотрим:\n",
    "\n",
    "```c++\n",
    "memory_order_relaxed\n",
    "memory_order_acquire\n",
    "memory_order_release\n",
    "memory_order_seq_cst\n",
    "```"
   ]
  },
  {
   "cell_type": "markdown",
   "metadata": {},
   "source": [
    "<br />"
   ]
  },
  {
   "cell_type": "markdown",
   "metadata": {},
   "source": [
    "`memory_order_release`:\n",
    "\n",
    "> A store operation with this memory order performs the release operation: no reads or writes in the current thread can be reordered after this store. \n",
    "\n",
    "```c++\n",
    "a = 5;  // store a\n",
    "x = 1;  // store x\n",
    "y = a;  // load a  <== 5\n",
    "        // store y\n",
    "\n",
    "atomic_var.store(42, std::memory_order_release);\n",
    "/*store op release barrier*/\n",
    "\n",
    "... // операции, написанные выше с x, y и a\n",
    "    // гарантировано будут выполнены до записи в atomic_var\n",
    "```\n",
    "\n",
    "`memory_order_acquire`:\n",
    "\n",
    "> A load operation with this memory order performs the acquire operation on the affected memory location: no reads or writes in the current thread can be reordered before this load.\n",
    "\n",
    "```c++\n",
    "...  // операции, написанные ниже с x, y и a\n",
    "     // не могут по времени произойти раньше чтения atomic_var\n",
    "    \n",
    "int z = atomic_var.load(std::memory_order_acquire);\n",
    "/*load op acquire barrier*/\n",
    "\n",
    "if (z == 42)\n",
    "{\n",
    "    x;  // load x  <== 1\n",
    "    y;  // load y  <== 5\n",
    "}\n",
    "```\n",
    "\n",
    "**Пример:** разобрать очень подробно про гарантии порядка вычислений. Вопрос: почему assert корректен?\n",
    "\n",
    "```c++\n",
    "std::atomic<bool> is_published{false};\n",
    "int data = 0;\n",
    "\n",
    "void thread_1_worker()\n",
    "{\n",
    "    data = 1;\n",
    "    is_published.store(true, std::memory_order_release);\n",
    "}\n",
    "\n",
    "void thread_2_worker()\n",
    "{\n",
    "    if (is_published.load(std::memory_order_acquire))\n",
    "        assert(data == 1);  // ok\n",
    "}\n",
    "```\n",
    "\n",
    "Имена `release` и `acquire` подобраны по смыслу операции:\n",
    "* `release` - опубликовать данные\n",
    "* `acquire` - принять опубликованные данные"
   ]
  },
  {
   "cell_type": "markdown",
   "metadata": {},
   "source": [
    "<br />"
   ]
  },
  {
   "cell_type": "markdown",
   "metadata": {},
   "source": [
    "`memory_order_seq_cst` - операции не могут перескочить через барьер ни в какую сторону (аналог sequential consistent hardware memory model) - самый строгий и самый медленный вариант\n",
    "\n",
    "`memory_order_seq_cst`:\n",
    "* дефолтный способ упорядочивания в `atomic`-операциях (чтобы программисты меньше ошибались)\n",
    "* аналог `volatile` в Java 5+\n",
    "\n",
    "\n",
    "\n",
    "```c++\n",
    "x = 1;  // store x\n",
    "y = a;  // load a\n",
    "        // store y\n",
    "\n",
    "/*seq_cst barrier*/  // никакая из операций не может перескочить через барьер\n",
    "\n",
    "z = 2;  // store x\n",
    "b = c;  // load c\n",
    "        // store b\n",
    "```"
   ]
  },
  {
   "cell_type": "markdown",
   "metadata": {},
   "source": [
    "<br />"
   ]
  },
  {
   "cell_type": "markdown",
   "metadata": {},
   "source": [
    "`memory_order_relaxed`:\n",
    "* возможны любые переупорядочивания операций с памятью (нет барьеров)\n",
    "* гарантируется только атомарная модификация защищённого объекта\n",
    "\n",
    "**Пример:**\n",
    "\n",
    "```c++\n",
    "std::atomic<int> atomic_var{0};\n",
    "\n",
    "// нет гарантий на порядок операций с памятью,\n",
    "// только атомарность работы с atomic_var\n",
    "void thread_worker() {\n",
    "    x = 1;\n",
    "    atomic_var.store(2, std::memory_order_relaxed); \n",
    "    y = a;\n",
    "}\n",
    "```"
   ]
  },
  {
   "cell_type": "markdown",
   "metadata": {},
   "source": [
    "<br />"
   ]
  },
  {
   "cell_type": "markdown",
   "metadata": {},
   "source": [
    "Разница в гарантиях порядка необходима из-за различной стоимости барьеров в CPU: чем строже гарантии, тем медленнее могут выполняться команды.\n",
    "\n",
    "* `relaxed` - самый быстрый (нет барьеров, только атомарность операции)\n",
    "* `acquire/release` - медленнее или аналогично `relaxed` (барьеры в одну сторону + атомарность операции)\n",
    "* `seq_cst` - медленнее или аналогично `acquire/release` (барьеры в обе стороны + атомарность операции)"
   ]
  },
  {
   "cell_type": "markdown",
   "metadata": {},
   "source": [
    "<br />"
   ]
  },
  {
   "cell_type": "markdown",
   "metadata": {},
   "source": [
    "##### оптимизированный DCLP"
   ]
  },
  {
   "cell_type": "markdown",
   "metadata": {},
   "source": [
    "Напомню DCLP, на котором мы закончили его рассмотрение:\n",
    "\n",
    "```c++\n",
    "class Singleton\n",
    "{\n",
    "    static std::atomic<Singleton*> object;\n",
    "    static std::mutex mtx;\n",
    "\n",
    "public:\n",
    "    static Singleton* instance()\n",
    "    {\n",
    "        auto* tmp = object.load();\n",
    "\n",
    "        if (!tmp)  // check 1\n",
    "        {\n",
    "            std::lock_guard<std::mutex> lock(mtx);\n",
    "\n",
    "            tmp = object.load();\n",
    "            if (!tmp)  // check 2\n",
    "            {\n",
    "                tmp = new Singleton;\n",
    "                object.store(tmp);\n",
    "            }\n",
    "        }\n",
    "        return tmp;\n",
    "    }\n",
    "};\n",
    "```\n",
    "\n",
    "**Вопрос:** как, зная про memory ordering, сделать более быструю реализацию?"
   ]
  },
  {
   "cell_type": "markdown",
   "metadata": {},
   "source": [
    "**Ответ:**\n",
    "\n",
    "```c++\n",
    "class Singleton\n",
    "{\n",
    "    static std::atomic<Singleton*> object;\n",
    "    static std::mutex mtx;\n",
    "\n",
    "public:\n",
    "    static Singleton* instance()\n",
    "    {\n",
    "        auto* tmp = object.load(std::memory_order_acquire);  // <--- mem order on read data\n",
    "\n",
    "        if (!tmp)  // check 1\n",
    "        {\n",
    "            std::lock_guard<std::mutex> lock(mtx);\n",
    "\n",
    "            tmp = object.load(std::memory_order_acquire);  // <--- mem order on read data\n",
    "            if (!tmp)  // check 2\n",
    "            {\n",
    "                tmp = new Singleton;\n",
    "                object.store(tmp, std::memory_order_release);  // <--- mem order on publish data\n",
    "            }\n",
    "        }\n",
    "        return tmp;\n",
    "    }\n",
    "};\n",
    "```"
   ]
  },
  {
   "cell_type": "markdown",
   "metadata": {},
   "source": [
    "**Замечание**: если верить [статье Jeff Pershing про `memory_order_consume`](https://preshing.com/20140709/the-purpose-of-memory_order_consume-in-cpp11/), в коде выше можно заменить `memory_order_acquire` на `memory_order_consume`, т.к. между load-операцией и дальнейшим кодом есть зависимость по данным, и всё станет ещё быстрее. Подробнее - читайте по ссылке."
   ]
  },
  {
   "cell_type": "markdown",
   "metadata": {},
   "source": [
    "<br />"
   ]
  },
  {
   "cell_type": "markdown",
   "metadata": {},
   "source": [
    "##### оптимизированная сумма элементов в массиве"
   ]
  },
  {
   "cell_type": "markdown",
   "metadata": {},
   "source": [
    "Напомню как мы считали сумму элементов в массиве:\n",
    "    \n",
    "```c++\n",
    "int parallel_sum(const std::vector<int>& v, int threads_count)\n",
    "{\n",
    "    const int len = v.size() / threads_count;\n",
    "    assert(len * threads_count == v.size());\n",
    "\n",
    "    std::atomic<int> rv{0};  // <-- result\n",
    "\n",
    "    std::vector<std::thread> threads;\n",
    "    for (int i = 0; i < threads_count; ++i)\n",
    "        threads.emplace_back([&, i, len](){\n",
    "            for (int ix = len * i; ix < len * (i + 1); ++ix)\n",
    "                 rv.fetch_add(v[ix]);  // <-- sum\n",
    "        });\n",
    "\n",
    "    for (auto& t: threads)\n",
    "        t.join();\n",
    "\n",
    "    return rv;\n",
    "}\n",
    "```\n",
    "\n",
    "**Вопрос:** как, зная про memory ordering, сделать более быструю реализацию?"
   ]
  },
  {
   "cell_type": "markdown",
   "metadata": {},
   "source": [
    "<details>\n",
    "<summary>Ответ</summary>\n",
    "<p>\n",
    "\n",
    "```c++\n",
    "// заменить это:\n",
    "rv.fetch_add(v[ix]);\n",
    "\n",
    "// на это:\n",
    "rv.fetch_add(v[ix], std::memory_order_relaxed);  // <---- no barriers, just atomic update\n",
    "```\n",
    "\n",
    "</p>\n",
    "</details>"
   ]
  },
  {
   "cell_type": "markdown",
   "metadata": {},
   "source": [
    "<br />"
   ]
  },
  {
   "cell_type": "markdown",
   "metadata": {},
   "source": [
    "##### lock free stack"
   ]
  },
  {
   "cell_type": "markdown",
   "metadata": {},
   "source": [
    "На лекции мы реализуем lock free стэк с ошибками на базе списка и разберём ошибки.\n",
    "\n",
    "Как делать правильный - начните разбирать [с этой статьи](https://habr.com/ru/post/216013/) и далее по ссыкам."
   ]
  },
  {
   "cell_type": "markdown",
   "metadata": {},
   "source": [
    "<br />"
   ]
  },
  {
   "cell_type": "markdown",
   "metadata": {},
   "source": [
    "**Шаг 1:** нарисовать стэк на доске и обсудить как сделать lock-free операции `push`/`pop`"
   ]
  },
  {
   "cell_type": "markdown",
   "metadata": {},
   "source": [
    "<br />"
   ]
  },
  {
   "cell_type": "markdown",
   "metadata": {},
   "source": [
    "**Шаг 2:** накидаем примерную реализацию (объяснить каждую строчку)\n",
    "\n",
    "```c++\n",
    "template<typename T>\n",
    "class Stack {\n",
    "public:\n",
    "    struct Element\n",
    "    {\n",
    "        T data;\n",
    "        std::atomic<Element*> next{nullptr};\n",
    "    };\n",
    "    \n",
    "private:\n",
    "    std::atomic<Element*> top;\n",
    "\n",
    "public:\n",
    "    bool push(T item)\n",
    "    {\n",
    "        Element* val = new Element;\n",
    "        val->data = std::move(item);\n",
    "        \n",
    "        while (true)\n",
    "        {\n",
    "            auto* t = top.load();\n",
    "            val.next.store(t);\n",
    "            if (top.compare_exchange_strong(t, val))       \n",
    "               return true;\n",
    "        }\n",
    "    }\n",
    "    \n",
    "    std::optional<T> pop()\n",
    "    {\n",
    "       while (true)\n",
    "       {\n",
    "          auto* t = top.load();\n",
    "          if (!t)\n",
    "             return std::nullopt ;  // stack is empty\n",
    "\n",
    "          auto* next = t->next.load();\n",
    "          if (top.compare_exchange_strong(t, next))\n",
    "          {\n",
    "              return /* somehow free memory for element t and return value */;\n",
    "          }\n",
    "       }\n",
    "    }\n",
    "};\n",
    "```"
   ]
  },
  {
   "cell_type": "markdown",
   "metadata": {},
   "source": [
    "**Замечание:** если корректно заменить seq_cst операции на более слабые аналоги с relaxed && acquire/release порядком, то можно получить более быстрый код. Сейчас этим заниматься не будем"
   ]
  },
  {
   "cell_type": "markdown",
   "metadata": {},
   "source": [
    "**Вопрос:** где в коде ошибка?\n",
    "\n",
    "<details>\n",
    "<summary>ответ</summary>\n",
    "<p>\n",
    "\n",
    "тут:\n",
    "\n",
    "```c++\n",
    "auto* next = t->next.load();\n",
    "```\n",
    "\n",
    "Пока выполняли `t->next`, этот элемент из списка могли уладить другим потоком. Нарисовать как её поймать.\n",
    "\n",
    "Чтобы починить, нужно использовать специальные структуры данных, например hazard pointers. В  Java такой проблемы нет, её решает GC.\n",
    "\n",
    "</p>\n",
    "</details>"
   ]
  },
  {
   "cell_type": "markdown",
   "metadata": {},
   "source": [
    "**Замечание:** ещё в коде есть ABA-ошибка в методе `pop` в `top.compare_exchange_strong(t, next)`. (Объяснить её)\n",
    "\n",
    "Как чинить ABA-ошибки, [читайте в работе Страуструпа](http://www.stroustrup.com/isorc2010.pdf)."
   ]
  }
 ],
 "metadata": {
  "kernelspec": {
   "display_name": "Python 3 (ipykernel)",
   "language": "python",
   "name": "python3"
  },
  "language_info": {
   "codemirror_mode": {
    "name": "ipython",
    "version": 3
   },
   "file_extension": ".py",
   "mimetype": "text/x-python",
   "name": "python",
   "nbconvert_exporter": "python",
   "pygments_lexer": "ipython3",
   "version": "3.12.3"
  }
 },
 "nbformat": 4,
 "nbformat_minor": 4
}
