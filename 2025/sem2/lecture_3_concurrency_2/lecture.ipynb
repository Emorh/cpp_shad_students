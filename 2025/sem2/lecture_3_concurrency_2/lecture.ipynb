{
 "cells": [
  {
   "cell_type": "markdown",
   "metadata": {},
   "source": [
    "### Многопоточность. Часть 2"
   ]
  },
  {
   "cell_type": "markdown",
   "metadata": {},
   "source": [
    "<br />"
   ]
  },
  {
   "cell_type": "markdown",
   "metadata": {},
   "source": [
    "##### race condition"
   ]
  },
  {
   "cell_type": "markdown",
   "metadata": {},
   "source": [
    "https://en.wikipedia.org/wiki/Race_condition"
   ]
  },
  {
   "cell_type": "markdown",
   "metadata": {},
   "source": [
    "__Вопросы__:\n",
    "* что такое race condition?  \n",
    "  Race condition - несинхронизированный доступ потоков к ресурсу, для которого синхронизация требуется.\n",
    "* как с ним бороться?\n",
    "* каковы гарантии стандарта языка С++ при возникновении race contidition?"
   ]
  },
  {
   "cell_type": "markdown",
   "metadata": {},
   "source": [
    "__Пример__:\n",
    "\n",
    "```c++\n",
    "#include <cassert>\n",
    "#include <iostream>\n",
    "#include <thread>\n",
    "#include <vector>\n",
    "\n",
    "int parallel_sum(const std::vector<int>& v)\n",
    "{\n",
    "    int len = v.size();\n",
    "\n",
    "    int rv = 0;\n",
    "    \n",
    "    std::thread t1([&](){\n",
    "        for (int i = 0; i < len / 2; ++i)\n",
    "            rv += v[i];\n",
    "    });\n",
    "    std::thread t2([&](){\n",
    "        for (int i = len / 2; i < len; ++i)\n",
    "            rv += v[i];\n",
    "    });\n",
    "    \n",
    "    t1.join();\n",
    "    t2.join();\n",
    "\n",
    "    return rv;\n",
    "}\n",
    "\n",
    "int main()\n",
    "{\n",
    "    const std::vector<int> v(3'000'000, 1);\n",
    "    std::cout << parallel_sum(v) << std::endl;\n",
    "    return 0;\n",
    "}\n",
    "```"
   ]
  },
  {
   "cell_type": "markdown",
   "metadata": {},
   "source": [
    "Возможный вывод:\n",
    "    \n",
    "```sh\n",
    "$ clang++ -O2 test.cpp -lpthread && ./a.out\n",
    "1510753\n",
    "```"
   ]
  },
  {
   "cell_type": "markdown",
   "metadata": {},
   "source": [
    "Как получается race condition:"
   ]
  },
  {
   "cell_type": "markdown",
   "metadata": {},
   "source": [
    "```c++\n",
    "thread_1:             | thread_2:\n",
    "    read  rv          |     read  rv\n",
    "    calc  rv + v[i1]  |     calc  rv + v[i2]\n",
    "    write rv          |     write rv\n",
    "```"
   ]
  },
  {
   "cell_type": "markdown",
   "metadata": {},
   "source": [
    "<br />"
   ]
  },
  {
   "cell_type": "markdown",
   "metadata": {},
   "source": [
    "##### mutex"
   ]
  },
  {
   "cell_type": "markdown",
   "metadata": {},
   "source": [
    "MUTual EXclusive access primitive\n",
    "\n",
    "https://en.cppreference.com/w/cpp/thread/mutex"
   ]
  },
  {
   "cell_type": "markdown",
   "metadata": {},
   "source": [
    "Методы:\n",
    "    \n",
    "* `void lock()` - дождаться, пока mutex будет освобождён, и захватить его\n",
    "* `void unlock()` - освободить захваченный mutex\n",
    "* `bool try_lock()` - попытка захватить mutex, если он свободен\n",
    "* `native_handle_type native_handle()` - ОС-специфичный handle (как можно здесь догадаться, mutex - объект ядра ОС)"
   ]
  },
  {
   "cell_type": "markdown",
   "metadata": {},
   "source": [
    "Вариант исправления задачи с суммой через mutex:\n",
    "\n",
    "```c++\n",
    "#include <mutex>  // include for mutex\n",
    "\n",
    "int parallel_sum(const std::vector<int>& v)\n",
    "{\n",
    "    int len = v.size();\n",
    "\n",
    "    int rv = 0;\n",
    "    std::mutex mtx; // synchronization primitive for |rv|\n",
    "\n",
    "    std::thread t1([&](){\n",
    "        for (int i = 0; i < len / 2; ++i) {\n",
    "            mtx.lock();   // acquire resource\n",
    "            rv += v[i];\n",
    "            mtx.unlock(); // release resource\n",
    "        }\n",
    "    });\n",
    "    std::thread t2([&](){\n",
    "        for (int i = len / 2; i < len; ++i) {\n",
    "            mtx.lock();   // acquire resource\n",
    "            rv += v[i];\n",
    "            mtx.unlock(); // release resource\n",
    "        }\n",
    "    });\n",
    "\n",
    "    t1.join();\n",
    "    t2.join();\n",
    "\n",
    "    return rv;\n",
    "}\n",
    "```"
   ]
  },
  {
   "cell_type": "markdown",
   "metadata": {},
   "source": [
    "Вывод:\n",
    "\n",
    "```c++\n",
    "$ clang++ -O2 test.cpp -lpthread && ./a.out\n",
    "3000000\n",
    "```"
   ]
  },
  {
   "cell_type": "markdown",
   "metadata": {},
   "source": [
    "__Замечание__: т.к. переменная `unsigned len` является константой, то в поток её можно передать и по ссылке:\n",
    "* Константные объекты, имеющиеся до создания фонового потока, можно читать без опасения на race condition\n",
    "* `unsigned` - маленький объект, его проще передать по копии, чем по ссылке"
   ]
  },
  {
   "cell_type": "markdown",
   "metadata": {},
   "source": [
    "__Для обсуждения__:\n",
    "    \n",
    "1. Никогда не делайте частый доступ до int-переменной через mutex:\n",
    "    * проблема kernel space\n",
    "    * более дешёвые альтернативы\n",
    "    * алгоритм может быть реализован с меньшим числом синхронизаций\n",
    "2. Какая проблема с парными вызовами `lock()/unlock()`? Подсказка: то же самое что и с `new/delete`?"
   ]
  },
  {
   "cell_type": "markdown",
   "metadata": {},
   "source": [
    "<br />"
   ]
  },
  {
   "cell_type": "markdown",
   "metadata": {},
   "source": [
    "##### lock_guard"
   ]
  },
  {
   "cell_type": "markdown",
   "metadata": {},
   "source": [
    "https://en.cppreference.com/w/cpp/thread/lock_guard"
   ]
  },
  {
   "cell_type": "markdown",
   "metadata": {},
   "source": [
    "`std::lock_guard` - RAII обёртка над `std::mutex::lock/unlock`.\n",
    "\n",
    "В конструкторе захватывает mutex, в деструкторе его освобождает."
   ]
  },
  {
   "cell_type": "markdown",
   "metadata": {},
   "source": [
    "Второй вариант параллельного суммирования:\n",
    "    \n",
    "```c++\n",
    "#include <mutex>\n",
    "\n",
    "int parallel_sum(const std::vector<int>& v)\n",
    "{\n",
    "    int len = v.size();\n",
    "\n",
    "    int rv = 0;\n",
    "    std::mutex mtx;\n",
    "\n",
    "    std::thread t1([&](){\n",
    "        for (int i = 0; i < len / 2; ++i) {\n",
    "            std::lock_guard<std::mutex> guard(mtx);  // RAII-style for resource locking\n",
    "            rv += v[i];\n",
    "        }\n",
    "    });\n",
    "    std::thread t2([&](){\n",
    "        for (int i = len / 2; i < len; ++i) {\n",
    "            std::lock_guard<std::mutex> guard(mtx);  // RAII-style for resource locking\n",
    "            rv += v[i];\n",
    "        }\n",
    "    });\n",
    "\n",
    "    t1.join();\n",
    "    t2.join();\n",
    "\n",
    "    return rv;\n",
    "}\n",
    "```"
   ]
  },
  {
   "cell_type": "markdown",
   "metadata": {},
   "source": [
    "<br />"
   ]
  },
  {
   "cell_type": "markdown",
   "metadata": {},
   "source": [
    "##### Thread-safe - объекты (объекты с доступом из нескольких потоков)"
   ]
  },
  {
   "cell_type": "markdown",
   "metadata": {},
   "source": [
    "Вариант организации многопоточной очереди:\n",
    "    \n",
    "```c++\n",
    "template<typename T>\n",
    "class MTQueue\n",
    "{\n",
    "public:\n",
    "    std::optional<T> pop() {\n",
    "        std::lock_guard<std::mutex> guard(mtx);\n",
    "        \n",
    "        if (queue.empty())\n",
    "            return std::nullopt;\n",
    "        \n",
    "        T x = queue.back();\n",
    "        queue.pop_back();\n",
    "        return x;\n",
    "    }\n",
    "    \n",
    "    void push(T x) {\n",
    "        std::lock_guard<std::mutex> guard(mtx);        \n",
    "        queue.push_front(std::move(x));        \n",
    "    }\n",
    "    \n",
    "    MTQueue() = default;    \n",
    "    \n",
    "    MTQueue(const MTQueue& rhs) {\n",
    "        std::lock_guard<std::mutex> guard(rhs.mtx);\n",
    "        queue = rhs.queue;\n",
    "    }\n",
    "\n",
    "    MTQueue(MTQueue&& rhs) noexcept {\n",
    "        std::lock_guard<std::mutex> guard(rhs.mtx);\n",
    "        queue = std::move(rhs.queue);\n",
    "    }\n",
    "    \n",
    "    ~MTQueue() noexcept {\n",
    "        std::lock_guard<std::mutex> guard(mtx);\n",
    "        queue.clear();\n",
    "    }\n",
    "\n",
    "    // мы ещё не готовы реализовать присваивание двух объектов,\n",
    "    // живущих на разных потоках\n",
    "    MTQueue& operator = (const MTQueue& rhs) = delete;\n",
    "    MTQueue& operator = (MTQueue&& rhs) noexcept = delete;\n",
    "    \n",
    "private:\n",
    "    std::deque<T> queue;\n",
    "    std::mutex mtx;\n",
    "};\n",
    "```"
   ]
  },
  {
   "cell_type": "markdown",
   "metadata": {},
   "source": [
    "__Вопрос__: где в этом коде происходит ужас и кошмар?\n",
    "\n",
    "<details>\n",
    "<summary>ответ</summary>\n",
    "<p>\n",
    "\n",
    "```c++\n",
    "~MTQueue() noexcept {\n",
    "    std::lock_guard<std::mutex> guard(rhs); // <---- тут\n",
    "    queue.clear();\n",
    "}\n",
    "```\n",
    "\n",
    "Обсудить: если этот `guard` оказался нужен, то что происходит в программе в этот момент?\n",
    "\n",
    "Пример: перемежающиеся вызовы `push` и `~MTQueue`.\n",
    "   \n",
    "</p>\n",
    "</details>"
   ]
  },
  {
   "cell_type": "markdown",
   "metadata": {},
   "source": [
    "```c++\n",
    "MTQueue<int> m\n",
    "\n",
    "\n",
    "thread_1:           | thread_2:\n",
    "    m.~MTQueue()    |     m.push(5)\n",
    "        lock_guard  |         lock_guard\n",
    "        processing  |         processing\n",
    "```"
   ]
  },
  {
   "cell_type": "markdown",
   "metadata": {},
   "source": [
    "__Вопрос__: почему бессмысленно иметь метод `empty`?"
   ]
  },
  {
   "cell_type": "markdown",
   "metadata": {},
   "source": [
    "Рассмотрим такой вариант:\n",
    "    \n",
    "```c++\n",
    "class MTQueue\n",
    "{\n",
    "    ...;\n",
    "    \n",
    "    bool empty() {\n",
    "        std::lock_guard<std::mutex> guard(mtx);\n",
    "\n",
    "        return queue.empty();\n",
    "    }\n",
    "    \n",
    "    T pop() {\n",
    "        std::lock_guard<std::mutex> guard(mtx);\n",
    "\n",
    "        T x = queue.back();\n",
    "        queue.pop_back();\n",
    "        return x;\n",
    "    }\n",
    "}\n",
    "```"
   ]
  },
  {
   "cell_type": "markdown",
   "metadata": {},
   "source": [
    "И вот такой код, исполняющийся параллельно двумя потоками:\n",
    "\n",
    "```c++\n",
    "void process_queue(MTQueue& q)   |    void process_queue(MTQueue& q)\n",
    "{                                |    {\n",
    "    if (!q.empty())              |        if (!q.empty())\n",
    "        process_item(q.pop());   |            process_item(q.pop());\n",
    "}                                |    }\n",
    "```\n",
    "\n",
    "Дадим потокам на вход одну и ту же очередь с одним элементов."
   ]
  },
  {
   "cell_type": "markdown",
   "metadata": {},
   "source": [
    "<br />"
   ]
  },
  {
   "cell_type": "markdown",
   "metadata": {},
   "source": [
    "__Упражнение 1__: найдите ошибку в коде. Почему это является ошибкой? Приведите пример.\n",
    "\n",
    "```c++\n",
    "class MTSearcher {\n",
    "private:\n",
    "    std::mutex mtx;\n",
    "    int max_search_result_size;\n",
    "   \n",
    "public:\n",
    "    int get_max_search_result_size() const {\n",
    "        return max_search_result_size;\n",
    "    }\n",
    "    \n",
    "    void set_max_search_result_size(int size) {\n",
    "        std::lock_guard<std::mutex> guard(mtx);\n",
    "        max_search_result_size = size;\n",
    "    }\n",
    "};\n",
    "```\n"
   ]
  },
  {
   "cell_type": "markdown",
   "metadata": {},
   "source": [
    "<br />"
   ]
  },
  {
   "cell_type": "markdown",
   "metadata": {},
   "source": [
    "__Упражнение 2__: найдите ошибку в коде\n",
    "\n",
    "\n",
    "```c++\n",
    "template<typename T>\n",
    "class MTQueue\n",
    "{\n",
    "private:\n",
    "    std::mutex mtx;\n",
    "    std::queue<std::shared_ptr<T>> queue;\n",
    "\n",
    "public:\n",
    "    std::shared_ptr<T>& peek() noexcept\n",
    "    {\n",
    "        std::lock_guard<std::mutex> guard(mtx);\n",
    "        return queue.back();\n",
    "    }\n",
    "    \n",
    "    void push(std::shared_ptr<T> x)\n",
    "    {\n",
    "        std::lock_guard<std::mutex> guard(mtx);\n",
    "        queue.push_back(x);\n",
    "    }\n",
    "};\n",
    "\n",
    "// thread 1:\n",
    "mt_queue.peek() = nullptr;\n",
    "\n",
    "// thread 2:\n",
    "std::cout << *mt_queue.peak();\n",
    "```\n"
   ]
  },
  {
   "cell_type": "markdown",
   "metadata": {},
   "source": [
    "Редко когда многопоточный класс может позволить себе такую роскошь как возвращение ссылок/указателей на данные. Как правило, нужно делать defensive copies:\n",
    "\n",
    "```c++\n",
    "class MTQueue {\n",
    "    ...\n",
    "        \n",
    "    std::shared_ptr<T> peek() noexcept\n",
    "    {\n",
    "        std::lock_guard<std::mutex> guard(mtx);\n",
    "        return queue.back();\n",
    "    }\n",
    "};\n",
    "```"
   ]
  },
  {
   "cell_type": "markdown",
   "metadata": {},
   "source": [
    "<br />"
   ]
  },
  {
   "cell_type": "markdown",
   "metadata": {},
   "source": [
    "__Рекомендация__: минимизируйте число классов и объектов в программе, поддерживающих многопоточный доступ. Классы с поддержкой многопоточности сложнее проектировать и сложнее в использовании."
   ]
  },
  {
   "cell_type": "markdown",
   "metadata": {},
   "source": [
    "<br />"
   ]
  },
  {
   "cell_type": "markdown",
   "metadata": {},
   "source": [
    "##### deadlock"
   ]
  },
  {
   "cell_type": "markdown",
   "metadata": {},
   "source": [
    "https://en.wikipedia.org/wiki/Deadlock"
   ]
  },
  {
   "cell_type": "markdown",
   "metadata": {},
   "source": [
    "__Вопрос__: что такое deadlock и как с ним бороться?"
   ]
  },
  {
   "cell_type": "markdown",
   "metadata": {},
   "source": [
    "deadlock классический:\n",
    "    \n",
    "```c++\n",
    "std::mutex m1; // мьютекс для ресурса 1\n",
    "std::mutex m2; // мьютекс для ресурса 2\n",
    "\n",
    "void worker_1()                  |  void worker_2()\n",
    "{                                |  {\n",
    "    std::lock_guard guard1(m1);  |      std::lock_guard guard2(m2);\n",
    "    std::lock_guard guard2(m2);  |      std::lock_guard guard1(m1);\n",
    "    ...;                         |      ...;\n",
    "}                                |  }\n",
    "```"
   ]
  },
  {
   "cell_type": "markdown",
   "metadata": {},
   "source": [
    "__Вопрос__: как его починить?\n",
    "\n",
    "__Ответ__:\n",
    "\n",
    "```c++\n",
    "std::mutex m1; // мьютекс для ресурса 1\n",
    "std::mutex m2; // мьютекс для ресурса 2\n",
    "\n",
    "void worker_1()                  |  void worker_2()\n",
    "{                                |  {\n",
    "    std::lock_guard guard1(m1);  |      std::lock_guard guard1(m1);\n",
    "    std::lock_guard guard2(m2);  |      std::lock_guard guard2(m2);\n",
    "    ...;                         |      ...;\n",
    "}                                |  }\n",
    "```"
   ]
  },
  {
   "cell_type": "markdown",
   "metadata": {},
   "source": [
    "<br />"
   ]
  },
  {
   "cell_type": "markdown",
   "metadata": {},
   "source": [
    "##### scoped_lock"
   ]
  },
  {
   "cell_type": "markdown",
   "metadata": {},
   "source": [
    "Не всегда легко определить правильный порядок блокировки мьютексов.\n",
    "\n",
    "Вспомним `MTQueue` и его `operator =`:\n",
    "\n",
    "```c++\n",
    "template<typename T>\n",
    "class MTQueue\n",
    "{\n",
    "private:\n",
    "    std::mutex mtx;\n",
    "    std::queue<T> queue;\n",
    "\n",
    "public:\n",
    "    MTQueue& operator =(const MTQueue& rhs)\n",
    "    {\n",
    "        if (this != &rhs)\n",
    "        {\n",
    "            // что блокировать первым?\n",
    "            // std::lock_guard guard_1(mtx);\n",
    "            // std::lock_guard guard_2(rhs.mtx);\n",
    "            queue = rhs.queue;\n",
    "        }\n",
    "        return *this;\n",
    "    }\n",
    "};\n",
    "\n",
    "MTQueue<int> q1;\n",
    "MTQueue<int> q2;\n",
    "\n",
    "// thread 1:\n",
    "q2 = q1;\n",
    "\n",
    "// thread 2:\n",
    "q1 = q2;\n",
    "```\n",
    "\n",
    "или, например:\n",
    "\n",
    "```c++\n",
    "bool operator == (const MTQueue& lhs, const MTQueue& rhs)\n",
    "{\n",
    "    // что блокировать первым?\n",
    "    // std::lock_guard guard_1(lhs.mtx);\n",
    "    // std::lock_guard guard_2(rhs.mtx);\n",
    "    return lhs.queue == rhs.queue;\n",
    "}\n",
    "\n",
    "// thread 1:\n",
    "q1 == q2\n",
    "\n",
    "\n",
    "// thread 2:\n",
    "q2 == q1\n",
    "```\n",
    "\n",
    "В таком коде нет правильного выбора последовательности блокировок"
   ]
  },
  {
   "cell_type": "markdown",
   "metadata": {},
   "source": [
    "<br />"
   ]
  },
  {
   "cell_type": "markdown",
   "metadata": {},
   "source": [
    "Для решения проблемы существует `std::scoped_lock`:"
   ]
  },
  {
   "cell_type": "markdown",
   "metadata": {},
   "source": [
    "https://en.cppreference.com/w/cpp/thread/scoped_lock"
   ]
  },
  {
   "cell_type": "markdown",
   "metadata": {},
   "source": [
    "```c++\n",
    "bool operator == (const MTQueue& lhs, const MTQueue& rhs)\n",
    "{\n",
    "    std::scoped_lock guard(lhs.mtx, rhs.mtx);\n",
    "\n",
    "    return lhs.queue == rhs.queue;\n",
    "}\n",
    "```\n",
    "\n",
    "и:\n",
    "\n",
    "```c++\n",
    "template<typename T>\n",
    "class MTQueue\n",
    "{\n",
    "private:\n",
    "    std::mutex mtx;\n",
    "    std::queue<T> queue;\n",
    "\n",
    "public:\n",
    "    MTQueue& operator =(const MTQueue& rhs)\n",
    "    {\n",
    "        if (this != &rhs)\n",
    "        {\n",
    "            std::scoped_lock guard(mtx, rhs.mtx);\n",
    "\n",
    "            queue = rhs.queue;\n",
    "        }\n",
    "        return *this;\n",
    "    }\n",
    "};\n",
    "```"
   ]
  },
  {
   "cell_type": "markdown",
   "metadata": {},
   "source": [
    "<br />"
   ]
  },
  {
   "cell_type": "markdown",
   "metadata": {},
   "source": [
    "Для варианта:\n",
    "\n",
    "```c++\n",
    "std::mutex m1;\n",
    "std::mutex m2;\n",
    "\n",
    "std::scoped_lock guard_1{m1, m2};  // thread 1\n",
    "std::scoped_lock guard_2{m2, m1};  // thread 2\n",
    "```\n",
    "\n",
    "`std::scoped_lock` автоматически определяет порядок, таким образом, что `guard_1{m1, m2}` и `guard_2{m2, m1}` на разных потоках \"эквивалентны\" и не приведут к deadlock."
   ]
  },
  {
   "cell_type": "markdown",
   "metadata": {},
   "source": [
    "**Вопрос:** Как это можно было бы реализовать?"
   ]
  },
  {
   "cell_type": "markdown",
   "metadata": {},
   "source": [
    "<br />"
   ]
  },
  {
   "cell_type": "markdown",
   "metadata": {},
   "source": [
    "**Практические упражнения**\n",
    "\n",
    "* `num_threads` потоков параллельно ищут все вхождения элемента в массиве,  \n",
    "  когда находят, выводят в `std::cout` строку `\"thread {thread_num} has found {element} at index {ix}\"`\n",
    "* Решить предыдущую задачу без использования `std::mutex`\n",
    "* Найти наиболее часто встречающийся символ в строке в несколько потоков. Для решения использовать 256 счётчиков и 256 мьютексов.\n",
    "* Напишите многопоточную очередь `MTQueue` с ограничением в 10 элементов в очереди.\n",
    "* Напишите программу, в которой:\n",
    "  * один фоновый поток кладёт в `MTQueue` 20 элементов и завершается\n",
    "  * второй фоновый достаёт их из `MTQueue` и распечатывает.\n",
    "  * главный поток через 3 секунды работы приложения сигнализирует второму, что нужно завершиться (\"сигнализирование\" можно сделать через bool-переменную, которую фоновый поток будет читать)."
   ]
  },
  {
   "cell_type": "markdown",
   "metadata": {},
   "source": [
    "<br />"
   ]
  },
  {
   "cell_type": "markdown",
   "metadata": {},
   "source": [
    "##### Резюме"
   ]
  },
  {
   "cell_type": "markdown",
   "metadata": {},
   "source": [
    "* `std::mutex` - один из вариантов избавления от race condition\n",
    "* захватывать и освобождать `std::mutex` желательно через RAII: `std::lock_guard`\n",
    "* объекты с многопоточным доступом требуют более тщательной проработки дизайна\n",
    "* `std::scoped_lock` как вариант лечения deadlock"
   ]
  }
 ],
 "metadata": {
  "kernelspec": {
   "display_name": "Python 3 (ipykernel)",
   "language": "python",
   "name": "python3"
  },
  "language_info": {
   "codemirror_mode": {
    "name": "ipython",
    "version": 3
   },
   "file_extension": ".py",
   "mimetype": "text/x-python",
   "name": "python",
   "nbconvert_exporter": "python",
   "pygments_lexer": "ipython3",
   "version": "3.12.3"
  }
 },
 "nbformat": 4,
 "nbformat_minor": 4
}
