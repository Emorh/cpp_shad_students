{
 "cells": [
  {
   "cell_type": "markdown",
   "metadata": {},
   "source": [
    "### Многопоточность. Atomics."
   ]
  },
  {
   "cell_type": "markdown",
   "metadata": {},
   "source": [
    "<br />"
   ]
  },
  {
   "cell_type": "markdown",
   "metadata": {},
   "source": [
    "Документация:\n",
    "* https://en.cppreference.com/w/cpp/atomic\n",
    "* https://en.cppreference.com/w/cpp/atomic/memory_order\n",
    "\n",
    "Серия статей от Jeff Pershing на понимание atomics, memory model && lock free:\n",
    "* https://preshing.com/20120515/memory-reordering-caught-in-the-act/\n",
    "* https://preshing.com/20120612/an-introduction-to-lock-free-programming\n",
    "* https://preshing.com/20120625/memory-ordering-at-compile-time/\n",
    "* https://preshing.com/20120710/memory-barriers-are-like-source-control-operations/\n",
    "* https://preshing.com/20120913/acquire-and-release-semantics/\n",
    "* https://preshing.com/20120930/weak-vs-strong-memory-models/\n",
    "* https://preshing.com/20121019/this-is-why-they-call-it-a-weakly-ordered-cpu/\n",
    "* https://preshing.com/20130618/atomic-vs-non-atomic-operations/\n",
    "* https://preshing.com/20130702/the-happens-before-relation/\n",
    "* https://preshing.com/20130922/acquire-and-release-fences/\n",
    "* https://preshing.com/20130823/the-synchronizes-with-relation/\n",
    "* https://preshing.com/20130930/double-checked-locking-is-fixed-in-cpp11/\n",
    "* https://preshing.com/20131125/acquire-and-release-fences-dont-work-the-way-youd-expect/\n",
    "* https://preshing.com/20140709/the-purpose-of-memory_order_consume-in-cpp11/\n",
    "* В конце своих статей Джефф даёт ссылки на полезные материалы, их тоже рекомендуется почитать. Не стоит рассчитывать, что управитесь со всем багажом знаний за полчасика.\n",
    "* И в комментарии к статьям приходят специалисты (Herb Sutter, Tarvis Downs), и объясняют, в чём Джефф был не прав, поэтому комментарии желательно тоже смотреть.\n",
    "\n",
    "Другие статьи:\n",
    "* [Memory Barriers: a Hardware View for Software Hackers](http://www.rdrop.com/users/paulmck/scalability/paper/whymb.2010.07.23a.pdf)\n",
    "* [LINUX KERNEL MEMORY BARRIERS](https://www.kernel.org/doc/Documentation/memory-barriers.txt)\n",
    "* [Максим Хижинский. Lock-free Data Structures. Basics: Atomicity and Atomic Primitives](https://kukuruku.co/post/lock-free-data-structures-basics-atomicity-and-atomic-primitives/)\n",
    "* [Максим Хижинский. C++ Siberia 2019: Максим Хижинский, Hazard Pointer внутри и снаружи](https://www.youtube.com/watch?v=aczfcRhXrzI)\n",
    "* [Bjarne Stroustrup про ABA-проблему и как её решать](http://www.stroustrup.com/isorc2010.pdf)\n",
    "\n",
    "Доклады про многопоточность:\n",
    "* [CppCon 2017: Fedor Pikus “C++ atomics, from basic to advanced. What do they really do?”](https://www.youtube.com/watch?v=ZQFzMfHIxng)\n",
    "* [CppCon 2018: Bryce Adelstein Lelbach “The C++ Execution Model”](https://www.youtube.com/watch?v=FJIn1YhPJJc)\n",
    "* [CppCon 2019: Bryce Adelstein Lelbach “The C++20 Synchronization Library”](https://www.youtube.com/watch?v=Zcqwb3CWqs4)"
   ]
  },
  {
   "cell_type": "markdown",
   "metadata": {},
   "source": [
    "##### atomic basics (since C++11)"
   ]
  },
  {
   "cell_type": "markdown",
   "metadata": {},
   "source": [
    "Вспомним задачу параллельного суммирования массива из второй лекции на многопоточность.\n",
    "\n",
    "Её реализация с ошибкой:\n",
    "\n",
    "```c++\n",
    "int parallel_sum(const std::vector<int>& v, const unsigned threads_count)\n",
    "{\n",
    "    const unsigned len = v.size() / threads_count;\n",
    "    assert(len * threads_count == v.size());\n",
    "\n",
    "    int rv = 0;\n",
    "\n",
    "    std::vector<std::thread> threads;\n",
    "    for (unsigned i = 0; i < threads_count; ++i)\n",
    "        threads.emplace_back([&v, &rv, i, len](){\n",
    "            for (unsigned ix = len * i, final_ix = len * (i + 1); ix < final_ix; ++ix)\n",
    "                 rv += v[ix];\n",
    "        });\n",
    "\n",
    "    for (auto& t: threads)\n",
    "        t.join();\n",
    "\n",
    "    return rv;\n",
    "}\n",
    "```\n",
    "\n",
    "**Вопрос**: напомните, в чём ошибка?"
   ]
  },
  {
   "cell_type": "markdown",
   "metadata": {},
   "source": [
    "<br />"
   ]
  },
  {
   "cell_type": "markdown",
   "metadata": {},
   "source": [
    "Во второй лекции проблему решали через `mutex`.\n",
    "\n",
    "**Вопрос**: как лучше всего решить задачу, чтобы синхронизаций было поменьше?"
   ]
  },
  {
   "cell_type": "markdown",
   "metadata": {},
   "source": [
    "Сейчас будем писать тоже неидеальное решение - через `std::atomic`"
   ]
  },
  {
   "cell_type": "markdown",
   "metadata": {},
   "source": [
    "Атомарность операции означает, что никакой из потоков не может отследить промежуточное состояние операции: либо состояние до изменений, либо состояние после изменений.\n",
    "\n",
    "**Пример:**\n",
    "\n",
    "`std::atomic<int>` имеет операцию `fetch_add`:\n",
    "\n",
    "`var.fetch_add(int x)` имеет три условных стадии выполнения:\n",
    "\n",
    "1. считать текущее значение из памяти в регистр\n",
    "2. увеличить регистр на значение `x`\n",
    "3. записать значение регистра в память\n",
    "\n",
    "Никакой поток не может вклиниться в работу с `var`, пока выполняются шаги 1-2-3. Он либо работает с `var` до шага 1, либо после шага 3.\n",
    "\n",
    "\n",
    "**Вопрос:** в примере ниже:\n",
    "1. какое значение `counter` возможно после того как потоки выполняют свою работу?\n",
    "2. если бы гарантии атомарности не было, какое значение мы могнли бы получить?\n",
    "\n",
    "```c++\n",
    "std::atomic<int> counter{0};\n",
    "\n",
    "void thread_1_worker() { counter.fetch_add(1); }\n",
    "void thread_2_worker() { counter.fetch_add(1); }\n",
    "\n",
    "std::thread t1(thread_1_worker), t2(thread_2_worker);\n",
    "t1.join(); t2.join();\n",
    "```\n"
   ]
  },
  {
   "cell_type": "markdown",
   "metadata": {},
   "source": [
    "Из документации по типу `atomic<T>`:\n",
    "\n",
    "> Each instantiation and full specialization of the `std::atomic` template defines an atomic type. If one thread writes to an atomic object while another thread reads from it, the behavior is well-defined (see memory model for details on data races)"
   ]
  },
  {
   "cell_type": "markdown",
   "metadata": {},
   "source": [
    "Какие типы `T` можно подставлять?\n",
    "\n",
    "Обратимся опять к документации:\n",
    "\n",
    "> The primary `std::atomic` template may be instantiated with any `TriviallyCopyable` type `T` satisfying both `CopyConstructible` and `CopyAssignable`. The program is ill-formed if any of following values is false:\n",
    "* `std::is_trivially_copyable<T>::value`\n",
    "* `std::is_copy_constructible<T>::value`\n",
    "* `std::is_move_constructible<T>::value`\n",
    "* `std::is_copy_assignable<T>::value`\n",
    "* `std::is_move_assignable<T>::value`"
   ]
  },
  {
   "cell_type": "markdown",
   "metadata": {},
   "source": [
    "Т.е. для любого `TriviallyCopyable` типа `T` объект типа `std::atomic<T>` потокобезопасен на чтение и запись.\n",
    "\n",
    "```c++\n",
    "struct Point\n",
    "{\n",
    "    float x;\n",
    "    float y;\n",
    "    float z;\n",
    "};\n",
    "\n",
    "std::atomic<Point> p;\n",
    "\n",
    "void thread_1_worker() {\n",
    "    p = Point{1.f, 2.f, 3.f};  // ok\n",
    "}\n",
    "\n",
    "void thread_2_worker() {\n",
    "    Point x = p;  // ok\n",
    "}\n",
    "```\n",
    "\n",
    "А вот эти примеры - ill-formed:\n",
    "\n",
    "```c++\n",
    "std::atomic<std::string> s;  // ill-formed\n",
    "std::atomic<std::vector<int>> v;  // ill-formed\n",
    "```"
   ]
  },
  {
   "cell_type": "markdown",
   "metadata": {},
   "source": [
    "<br />"
   ]
  },
  {
   "cell_type": "markdown",
   "metadata": {},
   "source": [
    "##### atomic vs mutex: performance"
   ]
  },
  {
   "cell_type": "markdown",
   "metadata": {},
   "source": [
    "Для каких-то сложных типов (например, `Point`) `std::atomic` реализуется через `std::mutex` или аналогичным образом.\n",
    "\n",
    "Если бы так было для всех типов, то особого смысла в `std::atomic` бы не было.\n",
    "\n",
    "Смысл в том, что для простых типов (`int`, `bool`, `int64_t` ...) многие CPU поддерживают более дешёвые способы синхронизации. Набор типов и степень их дешевизны зависят от архитектуры CPU."
   ]
  },
  {
   "cell_type": "markdown",
   "metadata": {},
   "source": [
    "Напишем реализацию паралелльной суммы через `std::atomic<int>`:\n",
    "\n",
    "```c++\n",
    "int parallel_sum(const std::vector<int>& v, const unsigned threads_count)\n",
    "{\n",
    "    const unsigned len = v.size() / threads_count;\n",
    "    assert(len * threads_count == v.size());\n",
    "\n",
    "    std::atomic<int> rv{0};\n",
    "\n",
    "    std::vector<std::thread> threads;\n",
    "    for (unsigned i = 0; i < threads_count; ++i)\n",
    "        threads.emplace_back([&v, &rv, i, len](){\n",
    "            for (unsigned ix = len * i, final_ix = len * (i + 1); ix < final_ix; ++ix)\n",
    "                 rv.fetch_add(v[ix]);\n",
    "        });\n",
    "\n",
    "    for (auto& t: threads)\n",
    "        t.join();\n",
    "\n",
    "    return rv;\n",
    "}\n",
    "```\n",
    "\n",
    "И через `std::mutex`:\n",
    "\n",
    "```c++\n",
    "int parallel_sum(const std::vector<int>& v, const unsigned threads_count)\n",
    "{\n",
    "    const unsigned len = v.size() / threads_count;\n",
    "    assert(len * threads_count == v.size());\n",
    "\n",
    "    int rv = 0;\n",
    "    std::mutex m;\n",
    "\n",
    "    std::vector<std::thread> threads;\n",
    "    for (unsigned i = 0; i < threads_count; ++i)\n",
    "        threads.emplace_back([&v, &rv, &m, i, len](){\n",
    "            for (unsigned ix = len * i, final_ix = len * (i + 1); ix < final_ix; ++ix)\n",
    "            {\n",
    "                std::lock_guard guard(m);\n",
    "                rv += v[ix];                \n",
    "            }\n",
    "        });\n",
    "\n",
    "    for (auto& t: threads)\n",
    "        t.join();\n",
    "\n",
    "    return rv;\n",
    "}\n",
    "```"
   ]
  },
  {
   "cell_type": "markdown",
   "metadata": {},
   "source": [
    "И сравним производительность на 6 потоках (тестовая машинка: 6 физических ядер Intel Core i5-8400):\n",
    "\n",
    "```sh\n",
    "g++ parallel_sum_atomic.cpp -lpthread -O3 -std=c++17 -o sum_atomic.exe && ./sum_atomic.exe\n",
    "g++ parallel_sum_mutex.cpp  -lpthread -O3 -std=c++17 -o sum_mutex.exe  && ./sum_mutex.exe\n",
    "```\n",
    "\n",
    "вывод:\n",
    "\n",
    "```sh\n",
    "parallel sum atomic:\n",
    "  size          = 60000000\n",
    "  threads_count = 6\n",
    "  result        = 60000000\n",
    "  time, sec     = 1.60537\n",
    " \n",
    "parallel sum mutex:\n",
    "  size          = 60000000\n",
    "  threads_count = 6\n",
    "  result        = 60000000\n",
    "  time, sec     = 6.33526\n",
    "```\n",
    "\n",
    "В зависимости от примитива синхронизации получилось добиться 4-х кратного ускорения алгоритма, что существенно.\n",
    "Такой эффект достигается за счёт того, что в алгоритме слишком агрессивно используется синхронизация данных."
   ]
  },
  {
   "cell_type": "markdown",
   "metadata": {},
   "source": [
    "<br />"
   ]
  },
  {
   "cell_type": "markdown",
   "metadata": {},
   "source": [
    "Чтобы оценить что происходит в бинарном коде закинем файл на godbolt.org (gcc 9.2 -O3 -std=c++17):\n",
    "\n",
    "```c++\n",
    "#include <atomic>\n",
    "#include <mutex>\n",
    "\n",
    "int mutexed_counter = 0;\n",
    "std::mutex m;\n",
    "\n",
    "std::atomic<int> atomic_counter{0};\n",
    "\n",
    "void add_mutexed(int value)\n",
    "{\n",
    "    std::lock_guard guard{m};\n",
    "    mutexed_counter += value;\n",
    "}\n",
    "\n",
    "void add_atomic(int value)\n",
    "{\n",
    "    atomic_counter += value;\n",
    "}\n",
    "```\n",
    "\n",
    "**Вопрос**: Перед тем как посмотреть на ответ, подскажите, что происходит внутри `lock_guard` и `mutex` в этом коде?"
   ]
  },
  {
   "cell_type": "markdown",
   "metadata": {},
   "source": [
    "```asm\n",
    "add_mutexed(int):\n",
    "        push    rbp\n",
    "        mov     ebp, OFFSET FLAT:_ZL28__gthrw___pthread_key_createPjPFvPvE\n",
    "        push    rbx\n",
    "        mov     ebx, edi\n",
    "        sub     rsp, 8\n",
    "        test    rbp, rbp\n",
    "        je      .L2\n",
    "        mov     edi, OFFSET FLAT:m\n",
    "        call    __gthrw_pthread_mutex_lock(pthread_mutex_t*)\n",
    "        test    eax, eax\n",
    "        jne     .L12\n",
    ".L2:\n",
    "        add     DWORD PTR mutexed_counter[rip], ebx\n",
    "        test    rbp, rbp\n",
    "        je      .L1\n",
    "        add     rsp, 8\n",
    "        mov     edi, OFFSET FLAT:m\n",
    "        pop     rbx\n",
    "        pop     rbp\n",
    "        jmp     __gthrw_pthread_mutex_unlock(pthread_mutex_t*)\n",
    ".L1:\n",
    "        add     rsp, 8\n",
    "        pop     rbx\n",
    "        pop     rbp\n",
    "        ret\n",
    ".L12:\n",
    "        mov     edi, eax\n",
    "        call    std::__throw_system_error(int)\n",
    "        \n",
    "add_atomic(int):\n",
    "        lock add        DWORD PTR atomic_counter[rip], edi\n",
    "        ret\n",
    "```"
   ]
  },
  {
   "cell_type": "markdown",
   "metadata": {},
   "source": [
    "Внутри `add_mutexed` можно наблюдать уход в ядро ОС через `pthread`.\n",
    "\n",
    "А весь `add_atomic` - одна инструкция `lock add` - особая атомарная инструкция сложения."
   ]
  },
  {
   "cell_type": "markdown",
   "metadata": {},
   "source": [
    "<br />"
   ]
  },
  {
   "cell_type": "markdown",
   "metadata": {},
   "source": [
    "##### atomics: hardware"
   ]
  },
  {
   "cell_type": "markdown",
   "metadata": {},
   "source": [
    "Сначала рассмотрим hardware-нюансы обзорно.\n",
    "\n",
    "Вспомним многоуровневую организацию кешей памяти:"
   ]
  },
  {
   "cell_type": "markdown",
   "metadata": {},
   "source": [
    "<img src=\"cpu_caches_ram.png\" width=50% height=50% />"
   ]
  },
  {
   "cell_type": "markdown",
   "metadata": {},
   "source": [
    "При работе многопоточного приложения одна и та же ячейка памяти может оказаться одновременно в разных кешах L1 разных CPU.\n",
    "\n",
    "Если при этом происходит только чтение из памяти, то проблем не возникает. Возникают проблемы, когда нужна запись.\n",
    "\n",
    "Записанное значение должно \"просочиться\" по всем уровням иерархии кешей вплоть до RAM... и обновиться в кешах соседних CPU.\n",
    "\n",
    "Процесс \"просачивания\" не быстрый, другие CPU могут читать устаревшее значение или попытаться записать своё.\n",
    "\n",
    "Особые atomic-инструкции решают эту проблему, они гарантируют, что записанное одним CPU значение \"просочится\" по всей иерархии кешей и будет корректно прочитано другими CPU.\n",
    "\n",
    "Поэтому атомарные инструкции (как правило - зависит от железа) медленнее аналогичных неатомарных инструкций:\n",
    "  * `+=` для `std::atomic<int>` будет медленнее чем для `int`\n",
    "  * также работа с `std::atomic<int>` отключает некоторые оптимизации компилятора (подробности в разделе про instruction reordering && memory model)\n",
    "\n",
    "Это упрощённое описание. Пока что его будет достаточно для дальнейшей работы. Нюансы о гарантиях и оптимизации atomic - раздел про memory model, о нём позже."
   ]
  },
  {
   "cell_type": "markdown",
   "metadata": {},
   "source": [
    "<br />"
   ]
  },
  {
   "cell_type": "markdown",
   "metadata": {},
   "source": [
    "##### instructions reordering"
   ]
  },
  {
   "cell_type": "markdown",
   "metadata": {},
   "source": [
    "* https://preshing.com/20120625/memory-ordering-at-compile-time/\n",
    "* https://preshing.com/20120710/memory-barriers-are-like-source-control-operations/"
   ]
  },
  {
   "cell_type": "markdown",
   "metadata": {},
   "source": [
    "Переупорядочивание инструкций - изменение порядка выполняемых команд \"без видимых эффектов\" - одна из оптимизаций программ, будучи полностью прозрачной для однопоточного кода, начинает играть роль для некорректного многопоточного кода (для корректного всё хорошо).\n",
    "\n",
    "Важно, что _ассемблерные_ инструкции не могут быть переупорядочены, если между ними есть зависимость по данным."
   ]
  },
  {
   "cell_type": "markdown",
   "metadata": {},
   "source": [
    "Переупорядочивание инструкций можно разделить на 2 типа:\n",
    "* в compile time\n",
    "* в runtime"
   ]
  },
  {
   "cell_type": "markdown",
   "metadata": {},
   "source": [
    "<br />"
   ]
  },
  {
   "cell_type": "markdown",
   "metadata": {},
   "source": [
    "**compile-time**"
   ]
  },
  {
   "cell_type": "markdown",
   "metadata": {},
   "source": [
    "Во-первых, компилятор может решить, что лучше команды выполнять не в той последовательности, в которой их описал программист.\n",
    "\n",
    "Рассмотрим такой код:\n",
    "\n",
    "```c++\n",
    "\n",
    "double some_value = 0.;\n",
    "bool value_is_set = false;\n",
    "\n",
    "\n",
    "void run_setup()\n",
    "{\n",
    "    some_value = 3.14;    // между some_value и value_is_set нет зависимости\n",
    "    value_is_set = true;  // по данным, компилятор вправе поменять присванивания местами\n",
    "}\n",
    "\n",
    "void process()\n",
    "{\n",
    "    if (value_is_set)\n",
    "        assert(some_value == 3.14);\n",
    "}\n",
    "```\n",
    "\n",
    "В однопоточном приложении здесь всё будет хорошо, а в многопоточном и так плохо т.к. нет нужных синхронизаций, но переупорядочивание инструкций может увеличить вероятность ошибки.\n",
    "\n",
    "\n",
    "Другой пример с переупорядочиванием инструкций, когда зависимость по данным есть в плюсовом коде, но её нет на увроне инструкций ассемблера:\n",
    "\n",
    "```c++\n",
    "int A, B;\n",
    "\n",
    "void foo()\n",
    "{\n",
    "    A = B + 1;\n",
    "    B = 0;\n",
    "}\n",
    "```\n",
    "\n",
    "Здесь компилятор так же вправе сгенерировать запись в ячейку памяти B раньше чем в A:\n",
    "\n",
    "либо так:\n",
    "\n",
    "```asm\n",
    "mov     eax, DWORD PTR _B\n",
    "add     eax, 1\n",
    "mov     DWORD PTR _A, eax\n",
    "mov     DWORD PTR _B, 0\n",
    "```\n",
    "\n",
    "либо так:\n",
    "\n",
    "```asm\n",
    "mov     eax, DWORD PTR B\n",
    "mov     DWORD PTR B, 0\n",
    "add     eax, 1\n",
    "mov     DWORD PTR A, eax\n",
    "```\n",
    "\n",
    "Опять же, для однопоточного кода такие трюки должны быть прозрачны. Они начинают играть свою роль только для многопоточного кода.\n",
    "\n",
    "**Замечание**: есть способ запретить копилятору переупорядочивать некоторые операции, добавив барьер, [подробнее - читайте по ссылке выше](https://preshing.com/20120625/memory-ordering-at-compile-time/)"
   ]
  },
  {
   "cell_type": "markdown",
   "metadata": {},
   "source": [
    "<br />"
   ]
  },
  {
   "cell_type": "markdown",
   "metadata": {},
   "source": [
    "**runtime**"
   ]
  },
  {
   "cell_type": "markdown",
   "metadata": {},
   "source": [
    "Во-вторых, даже если компилятор сохранил последовательность команд программиста, CPU может иметь своё мнение, и решить, что быстрее будет их выполнить в ином порядке."
   ]
  },
  {
   "cell_type": "markdown",
   "metadata": {},
   "source": [
    "Рассмотрим пример такого устройства:"
   ]
  },
  {
   "cell_type": "markdown",
   "metadata": {},
   "source": [
    "![](cpu_mem_organization.jpg)"
   ]
  },
  {
   "cell_type": "markdown",
   "metadata": {},
   "source": [
    "В этой схеме у каждого ядра \"своя личная область работы\" - кеш L1, а \"общая область\" - кеш L2 + RAM.\n",
    "\n",
    "Рассмотрим случай, когда в какой-то программе поток 1 выполняет код на ядре 1, а поток 2 выполняет код на ядре 2:\n",
    "\n",
    "```c++\n",
    "int x = 0, y = 0;\n",
    "int a = 0, b = 0;\n",
    "\n",
    "std::thread t1([&]() {\n",
    "    x = 1; y = 2;\n",
    "    \n",
    "    if (b == 5)\n",
    "        assert(a == 4);  // fail\n",
    "});\n",
    "\n",
    "std::thread t2([&]() {\n",
    "    a = 4; b = 5;\n",
    "\n",
    "    if (y == 2)\n",
    "        assert(x == 1);  // fail\n",
    "});\n",
    "\n",
    "t1.join();\n",
    "t2.join();\n",
    "```\n",
    "\n",
    "В таком коде нет гарантий на порядок записи / чтения между \"личной областью работы\" и \"общей областью работы\".\n",
    "\n",
    "* Порядок, кто из `x`, `y` раньше попадёт в L2 + RAM не определён, так же как и время, через которое они туда попадут.\n",
    "  * вполне может оказаться так, что y улетит в RAM первым, а x ещё долго провисят недоставленными по адресу в L1\n",
    "* Аналогично, не определён порядок попадания `a`, `b` в \"общую область работы\"\n",
    "* Не определён порядок попадания `x`, `y` в \"личную область работы\" потока 2, т.е. при чтении тоже нет гарантий, что поток 2, увидев `y == 2`, получит `x == 1`\n",
    "* Если запустить поток 3 на cpu 3, он может увидеть совсем другую последовательность значений `x`, `y` чем поток 2\n",
    "\n",
    "При таких условиях многопоточных код писать невозможно. Чтобы справляться с этими проблемами есть особые барьеры памяти (их много и разных видов), о них поговорим чуть позже.\n",
    "\n",
    "Если коротко, без использования барьеров памяти:\n",
    "* значения на запись уходят в \"общую область\" сколь угодно долго и в произвольном порядке\n",
    "* значения на чтение приходят в \"личную область\" сколько угодно долго и в произвольном порядке"
   ]
  },
  {
   "cell_type": "markdown",
   "metadata": {},
   "source": [
    "<br />"
   ]
  },
  {
   "cell_type": "markdown",
   "metadata": {},
   "source": [
    "##### double checked locking"
   ]
  },
  {
   "cell_type": "markdown",
   "metadata": {},
   "source": [
    "https://preshing.com/20130930/double-checked-locking-is-fixed-in-cpp11/\n",
    "\n",
    "http://www.cs.umd.edu/~pugh/java/memoryModel/DoubleCheckedLocking.html\n",
    "\n",
    "https://www.aristeia.com/Papers/DDJ_Jul_Aug_2004_revised.pdf"
   ]
  },
  {
   "cell_type": "markdown",
   "metadata": {},
   "source": [
    "DCLP - double checked locking pattern - популярный шаблон организации потокобезопасного доступа к данным/объектам с ленивой инициализацией. Пример: синглтоны с ленивой инициализацией."
   ]
  },
  {
   "cell_type": "markdown",
   "metadata": {},
   "source": [
    "**Вопрос-напоминалка**: что такое синглтон?"
   ]
  },
  {
   "cell_type": "markdown",
   "metadata": {},
   "source": [
    "Однопоточный вариант организации ленивого синглтона:\n",
    "    \n",
    "```c++\n",
    "class Singleton\n",
    "{\n",
    "    static Singleton* object;\n",
    "\n",
    "public:\n",
    "    static Singleton* instance()\n",
    "    {\n",
    "        if (!object)\n",
    "            object = new Singleton;\n",
    "        return object;\n",
    "    }\n",
    "};\n",
    "```\n",
    "\n",
    "**Вопрос**: Почему эта реализация не работает в многопоточной среде? Приведите пример последовательности выполнения потоков, при котором возникает ошибка."
   ]
  },
  {
   "cell_type": "markdown",
   "metadata": {},
   "source": [
    "<br />"
   ]
  },
  {
   "cell_type": "markdown",
   "metadata": {},
   "source": [
    "Многопоточный вариант реализации ленивого синглтона:\n",
    "    \n",
    "```c++\n",
    "class Singleton\n",
    "{\n",
    "    static Singleton* object;\n",
    "    static std::mutex mtx;\n",
    "\n",
    "public:\n",
    "    static Singleton* instance()\n",
    "    {\n",
    "        std::lock_guard guard(mtx);\n",
    "        \n",
    "        if (!object)\n",
    "            object = new Singleton;\n",
    "        return object;\n",
    "    }\n",
    "};\n",
    "```\n",
    "\n",
    "**Вопрос**: корректна ли эта реализация? Какие у неё проблемы?\n",
    "\n",
    "<details>\n",
    "<summary>ответ</summary>\n",
    "<p>\n",
    "\n",
    "Корректна, но очень дорого: когда синглтон инициализирован каждый из потоков спотыкается об `mutex` при доступе к синглтону. `mutex`-ы уходят в kernel space, хочется что-нибудь подешевле.\n",
    "\n",
    "</p>\n",
    "</details>"
   ]
  },
  {
   "cell_type": "markdown",
   "metadata": {},
   "source": [
    "<br />"
   ]
  },
  {
   "cell_type": "markdown",
   "metadata": {},
   "source": [
    "Вариант double checked locking pattern:\n",
    "\n",
    "```c++\n",
    "class Singleton\n",
    "{\n",
    "    static Singleton* object;\n",
    "    static std::mutex mtx;\n",
    "\n",
    "public:\n",
    "    static Singleton* instance()\n",
    "    {\n",
    "        if (!object)  // check 1\n",
    "        {\n",
    "            std::lock_guard guard(mtx);\n",
    "\n",
    "            if (!object)  // check 2\n",
    "                object = new Singleton;\n",
    "        }\n",
    "        return object;\n",
    "    }\n",
    "};\n",
    "```\n",
    "\n",
    "**Вопросы**: (чтобы тщательно разобрать код)\n",
    "* зачем нужна вторая проверка, будет ли код корректен без неё?\n",
    "* корректен ли код?"
   ]
  },
  {
   "cell_type": "markdown",
   "metadata": {},
   "source": [
    "<br />"
   ]
  },
  {
   "cell_type": "markdown",
   "metadata": {},
   "source": [
    "Со временем в этом шаблоне нашли хитрые race condition, что отчасти и подтолкнуло сообщество к формализации memory model в языках Java и С++.\n",
    "* до Java 2004 DCLP не работал [(подробности)](http://www.cs.umd.edu/~pugh/java/memoryModel/DoubleCheckedLocking.html)\n",
    "* до С++11 не было портируемого способа реализовать DCLP (стандарт не давал необходимых для этого инструментов и гарантий) "
   ]
  },
  {
   "cell_type": "markdown",
   "metadata": {},
   "source": [
    "Проблема в этой строчке:\n",
    "    \n",
    "```c++\n",
    "object = new Singleton;\n",
    "```"
   ]
  },
  {
   "cell_type": "markdown",
   "metadata": {},
   "source": [
    "Программист мог бы подумать, что этот код выполняется в такой последовательности:\n",
    "* выделить память под `Singleton`\n",
    "* позвать конструктор `Singleton`\n",
    "* записать указатель в `object`\n",
    "\n",
    "Здесь в игру вступает instructions reordering.\n",
    "\n",
    "Например, если компилятор может доказать, что конструктор `Singleton` не бросает исключений, он вправе сгенерировать такой код:\n",
    "\n",
    "```c++\n",
    "class Singleton\n",
    "{\n",
    "    static Singleton* object = nullptr;\n",
    "    static std::mutex mtx;\n",
    "\n",
    "public:\n",
    "    static Singleton* instance()\n",
    "    {\n",
    "        if (!object)  // check 1\n",
    "        {\n",
    "            std::lock_guard guard(mtx);\n",
    "\n",
    "            if (!object)  // check 2\n",
    "            {\n",
    "                object = operator new(sizeof(Singleton));\n",
    "                new (object) Singleton;\n",
    "            }\n",
    "        }\n",
    "        return object;\n",
    "    }\n",
    "};\n",
    "```\n",
    "\n",
    "**Вопрос:** в чём здесь проблема? как её можно поймать?\n",
    "\n",
    "Как это пытались починить различными способами до стандартизации модели памяти, и почему они не работают - [в статье от Мейерса и Александреску](https://www.aristeia.com/Papers/DDJ_Jul_Aug_2004_revised.pdf)"
   ]
  },
  {
   "cell_type": "markdown",
   "metadata": {},
   "source": [
    "<br />"
   ]
  },
  {
   "cell_type": "markdown",
   "metadata": {},
   "source": [
    "Корректная реализация double checked locking pattern будет выглядеть так:\n",
    "\n",
    "```c++\n",
    "class Singleton\n",
    "{\n",
    "    static std::atomic<Singleton*> object;\n",
    "    static std::mutex mtx;\n",
    "\n",
    "public:\n",
    "    static Singleton* instance()\n",
    "    {\n",
    "        auto* tmp = object.load();\n",
    "\n",
    "        if (!tmp)  // check 1\n",
    "        {\n",
    "            std::lock_guard<std::mutex> lock(mtx);\n",
    "\n",
    "            tmp = object.load();\n",
    "            if (!tmp)  // check 2\n",
    "            {\n",
    "                tmp = new Singleton;\n",
    "                object.store(tmp);\n",
    "            }\n",
    "        }\n",
    "        return tmp;\n",
    "    }\n",
    "};\n",
    "```\n",
    "\n",
    "В этом примере методы `load`/`store` у атомарных типов гарантируют корректный порядок операций между потоками.\n",
    "\n",
    "Как именно получаются гарантии и как сделать реализацию быстрее - рассмотрим позже, когда поговорим про memory model."
   ]
  },
  {
   "cell_type": "markdown",
   "metadata": {},
   "source": [
    "<br />"
   ]
  },
  {
   "cell_type": "markdown",
   "metadata": {},
   "source": [
    "Если мы хотим ленивую инициализацию синглтона, то 11-ый стандарт даёт два варианта, которые скрывают проблемы DCLP от программиста:"
   ]
  },
  {
   "cell_type": "markdown",
   "metadata": {},
   "source": [
    "**Вариант 1**: специальная конструкция для ленивых многопоточных синглтонов - `static`-переменные внутри функции:\n",
    "\n",
    "```c++\n",
    "class Singleton\n",
    "{\n",
    "public:\n",
    "    static Singleton& instance()\n",
    "    {\n",
    "        static Singleton object;\n",
    "        return object;\n",
    "    }\n",
    "};\n",
    "```\n",
    "\n",
    "`static`-переменные внутри функций/методов (не путать с глобальными `static`-переменными!):\n",
    "* инициализируются лениво при первом обращении\n",
    "* компилятор с поддержкой С++11 обязан сгенерировать потокобезопасную инициализацию переменной. Компилятор не знает, будет этот код использован в многопоточном варианте или в однопоточном, поэтому он всегда генерирует безопасный многопоточный вариант\n",
    "* компилятор не обязан использовать DCLP, он может выбрать любой способ, который на его взгляд, работает лучше для данного случая, поэтому:\n",
    "\n",
    "```c++\n",
    "#include <string>\n",
    "\n",
    "float get_circle_area(const float radius)\n",
    "{\n",
    "    // скорее всего, здесь не будет никаких синхронизаций,\n",
    "    // но и static в этом месте - лишнее, лучше удалить\n",
    "    static const float pi = 3.14f;\n",
    "    return pi * radius * radius;\n",
    "}\n",
    "\n",
    "std::string add_12345(const std::string& x)\n",
    "{\n",
    "    // скорее всего, здесь будет синхронизация\n",
    "    static const std::string s = \"12345\";\n",
    "    return x + s;\n",
    "}\n",
    "```\n",
    "\n",
    "Закинуть на godbolt.org этот пример, показать."
   ]
  },
  {
   "cell_type": "markdown",
   "metadata": {},
   "source": [
    "**Вопрос на понимание**: в чём разница этих трёх решений?\n",
    "\n",
    "```c++\n",
    "std::string add_12345_1(const std::string& x)\n",
    "{\n",
    "    static const std::string s = \"12345\";\n",
    "    return x + s;\n",
    "}\n",
    "```\n",
    "\n",
    "и\n",
    "\n",
    "```c++\n",
    "static const std::string s = \"12345\";\n",
    "\n",
    "std::string add_12345_2(const std::string& x)\n",
    "{\n",
    "    return x + s;\n",
    "}\n",
    "```\n",
    "\n",
    "и\n",
    "\n",
    "```c++\n",
    "std::string add_12345_3(const std::string& x)\n",
    "{\n",
    "    const std::string s = \"12345\";\n",
    "    return x + s;\n",
    "}\n",
    "```"
   ]
  },
  {
   "cell_type": "markdown",
   "metadata": {},
   "source": [
    "<br />"
   ]
  },
  {
   "cell_type": "markdown",
   "metadata": {},
   "source": [
    "**Вариант 2**: `std::call_once` (since C++11)\n",
    "\n",
    "https://en.cppreference.com/w/cpp/thread/call_once\n",
    "\n"
   ]
  },
  {
   "cell_type": "markdown",
   "metadata": {},
   "source": [
    "```c++\n",
    "template< class Callable, class... Args >\n",
    "void call_once( std::once_flag& flag, Callable&& f, Args&&... args );\n",
    "```\n",
    "\n",
    "> Executes the Callable object `f` exactly once, even if called concurrently, from several threads.\n",
    "\n",
    "`std::call_once` позволяет гарантировать, что какая-то работа будет выполнена только один раз в многопоточной среде."
   ]
  },
  {
   "cell_type": "markdown",
   "metadata": {},
   "source": [
    "Более подробно про использование:\n",
    "\n",
    "```c++\n",
    "// какая-то работа, единоразовое выполнение которой нужно гарантировать\n",
    "void some_job(int param, int param2) {  /*...*/ }\n",
    "\n",
    "// где-то завели флажок, была ли выполнена работа\n",
    "// (специальный тип std::once_flag)\n",
    "std::once_flag my_flag;\n",
    "\n",
    "// вызываем std::call_once в любом потоке:\n",
    "std::vector<std::thread> threads;\n",
    "for (int i = 0; i != 5; ++i)\n",
    "    threads.emplace_back([&once_flag, i](){\n",
    "        /* .. */\n",
    "        \n",
    "        std::call_once(once_flag, some_job, i, i + 1);\n",
    "        \n",
    "        /* ... */        \n",
    "    });\n",
    "\n",
    "for (auto& t : threads)\n",
    "    t.join();\n",
    "```\n",
    "\n",
    "В этом примере гарантировано, что `some_job` *отработает* только единожды (с каким `param` - неизвестно, с которым первым получится). Когда `some_job` *отработает*, флаг `my_flag` будет взведён, и больше `some_job` не будет вызываться."
   ]
  },
  {
   "cell_type": "markdown",
   "metadata": {},
   "source": [
    "<br />"
   ]
  },
  {
   "cell_type": "markdown",
   "metadata": {},
   "source": [
    "**Резюме** по блоку double checked locking pattern:\n",
    "* instructions reordering может принести неожиданные сюрпризы в многопоточных программах\n",
    "* гарантии на последовательность операций дают `std::atomic`-операции со стандарта С++11\n",
    "* если нужно лениво инициализировать глобальную переменную / константу, предпочтительнее использовать `static`-переменную внутри функции / метода, хороший компилятор выберет наиболее предпочтительный способ синхронизации для вашего случая.\n",
    "* если нужно гарантировать разовое выполнение работы в многопоточной среде - используйте связку `std::call_once + std::once_flag`"
   ]
  },
  {
   "cell_type": "markdown",
   "metadata": {},
   "source": [
    "Сравнение производительности `static` / `call_once` и других подходов:\n",
    "    \n",
    "http://www.modernescpp.com/index.php/thread-safe-initialization-of-a-singleton\n",
    "    \n",
    "Спойлер: `static` всех победил"
   ]
  },
  {
   "cell_type": "markdown",
   "metadata": {},
   "source": [
    "<br />"
   ]
  },
  {
   "cell_type": "markdown",
   "metadata": {},
   "source": [
    "**Практические упражнения**:\n",
    "    \n",
    "* Найти в 2 потока сумму элементов в массиве целых через одну атомарную переменную, через mutex и независимо по памяти между потоками. Сравнить производительность.\n",
    "* Найти в 2 потока кол-во вхождений элемента в массив через одну атомарную переменную\n",
    "* Переписать класс, чтобы подсчитывалось кол-во живых объектов этого класса и общее кол-во созданных объектов\n",
    "\n",
    "```c++\n",
    "struct Person {\n",
    "    int age;\n",
    "    std::string name;\n",
    "};\n",
    "```\n",
    "\n",
    "* Найти в 2 потока максимальный элемент в массиве целых через одну атомарную переменную"
   ]
  }
 ],
 "metadata": {
  "kernelspec": {
   "display_name": "Python 3",
   "language": "python",
   "name": "python3"
  },
  "language_info": {
   "codemirror_mode": {
    "name": "ipython",
    "version": 3
   },
   "file_extension": ".py",
   "mimetype": "text/x-python",
   "name": "python",
   "nbconvert_exporter": "python",
   "pygments_lexer": "ipython3",
   "version": "3.6.9"
  }
 },
 "nbformat": 4,
 "nbformat_minor": 2
}
