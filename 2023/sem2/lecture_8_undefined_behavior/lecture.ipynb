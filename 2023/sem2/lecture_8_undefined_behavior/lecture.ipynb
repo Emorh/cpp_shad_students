{
 "cells": [
  {
   "cell_type": "markdown",
   "metadata": {},
   "source": [
    "### Undefined behavior"
   ]
  },
  {
   "cell_type": "markdown",
   "metadata": {},
   "source": [
    "Что такое C++ abstract machine:\n",
    "* [CppCon 2020: Bob Steagall \"Back to Basics: The Abstract Machine\" - обстоятельный рассказ про C++ abstract machine с примерами](https://www.youtube.com/watch?v=ZAji7PkXaKY)\n",
    "\n",
    "Определение UB в стандарте:\n",
    "* https://en.cppreference.com/w/cpp/language/ub\n",
    "\n",
    "Статьи про UB от разработчиков компилятора clang:\n",
    "* [What every c programmer should know about UB. Part 1](http://blog.llvm.org/2011/05/what-every-c-programmer-should-know.html)\n",
    "* [What every c programmer should know about UB. Part 2](http://blog.llvm.org/2011/05/what-every-c-programmer-should-know_14.html)\n",
    "* [What every c programmer should know about UB. Part 3](http://blog.llvm.org/2011/05/what-every-c-programmer-should-know_21.html)\n",
    "\n",
    "Толковые доклады про UB на cppcon:\n",
    "* [CppCon 2019: Timur Doumler “Type punning in modern C++”](https://www.youtube.com/watch?v=_qzMpk-22cc)\n",
    "* [CppCon 2019: Miro Knejp “Non-conforming C++: the Secrets the Committee Is Hiding From You”](https://www.youtube.com/watch?v=IAdLwUXRUvg)\n",
    "* [CppCon 2017: Piotr Padlewski “Undefined Behaviour is awesome!”](https://www.youtube.com/watch?v=ehyHyAIa5so)\n",
    "\n",
    "\n",
    "Прочее:\n",
    "* [Как использование UB с signed integer ovreflow позволяет компилятору генерировать более быстрый код обработки циклов](https://gist.github.com/rygorous/e0f055bfb74e3d5f0af20690759de5a7)"
   ]
  },
  {
   "cell_type": "markdown",
   "metadata": {},
   "source": [
    "<br />"
   ]
  },
  {
   "cell_type": "markdown",
   "metadata": {},
   "source": [
    "##### ill-formed / well-formed program"
   ]
  },
  {
   "cell_type": "markdown",
   "metadata": {},
   "source": [
    "* __ill-formed__ программа - содержит синтаксические или диагностируемые семантические ошибки. Компилятор должен выдать на такие программы сообщение (error или warning).\n",
    "\n",
    "\n",
    "* __ill-formed no diagnostic required__ программа - содержит недиагностируемые семантические ошибки (либо их вычислительно дорого диагностировать). Пример: ODR violation нельзя определить во время компиляции.\n",
    "\n",
    "\n",
    "__Замечание__: на уровне стандарта закреплено, что компилятор имеет false-positive ошибки при ответе на вопрос \"это программа?\".\n",
    "\n",
    "Т.е. стандарт в некоторых случаях разрешает компилятору компилировать тексты, не являющиеся программами с точки зрения стандарта.\n",
    "\n",
    "(Потому что не все ошибки диагностируемы)  "
   ]
  },
  {
   "cell_type": "markdown",
   "metadata": {},
   "source": [
    "<br />"
   ]
  },
  {
   "cell_type": "markdown",
   "metadata": {},
   "source": [
    "##### Разные степени ответственности компиляторов"
   ]
  },
  {
   "cell_type": "markdown",
   "metadata": {},
   "source": [
    "* __implementation-defined behavior__ - разрешается различное поведение стандартом. Конкретное поведение строго документируется реализацией (компилятор + его опции, архитектура, стандартная библиотека), и в одних реализациях всегда одинакого. Примеры:\n",
    "    * тип `std::size_t`\n",
    "    * размер `int`\n",
    "    * какую строку возвращает `std::bad_alloc::what`\n",
    "    \n",
    "    \n",
    "* __unspecified behavior__ - разрешается различное поведение стандартом. Поведение может отличаться даже в рамках одной и той же реализации. Классический пример:\n",
    "    * порядок вычисления аргументов функции (при повторном вызове порядок уже может быть иной)\n",
    "\n",
    "\n",
    "* __undefined behavior__ - компилятор / программа не несёт никакой ответственности за то, что будет происходить дальше. Компиляторы не обязаны диагностировать undefined behavior. Примеры:\n",
    "    * доступ за границы массива\n",
    "    * арифметика указателей за границами массива\n",
    "    * операции над указателем на удалённый объект\n",
    "    * переполнение знаковых целых\n",
    "    * разыменование нулевого указателя\n",
    "    * доступ до объекта через указатель другого типа\n",
    "    * использование неинициализированной переменной (`int x; std::cout << x;`)\n",
    "    * побитовый сдвиг больше чем размер типа (`uint32_t x = 1; x << 32;`). Почему так:\n",
    "        * X86 truncates 32-bit shift amount to 5 bits (so a shift by 32-bits is the same as a shift by 0-bits)\n",
    "        * but PowerPC truncates 32-bit shift amounts to 6 bits (so a shift by 32 produces zero)\n",
    "    * ..."
   ]
  },
  {
   "cell_type": "markdown",
   "metadata": {},
   "source": [
    "Древняя пасхалка в gcc: если компилятор встречал определённого типа конструкцию в коде (то ли undefined, то ли implementation defined), то он запускал игрушку\n",
    "\n",
    "https://feross.org/gcc-ownage/"
   ]
  },
  {
   "cell_type": "markdown",
   "metadata": {},
   "source": [
    "<br />"
   ]
  },
  {
   "cell_type": "markdown",
   "metadata": {},
   "source": [
    "* implementation defined - иди читай документацию\n",
    "* unspecified - иди читай код, убеждайся, что всё нормально\n",
    "* undefined - срочно править"
   ]
  },
  {
   "cell_type": "markdown",
   "metadata": {},
   "source": [
    "<br />"
   ]
  },
  {
   "cell_type": "markdown",
   "metadata": {},
   "source": [
    "__Вопросы для обсуждения__:\n",
    "\n",
    "* зачем нужен undefined behavior?\n",
    "\n",
    "<details>\n",
    "<summary>Подсказка</summary>\n",
    "<p>\n",
    "\n",
    "1. иногда без него нельзя. Пример: ODR во время компиляции.\n",
    "2. для скорости программы. Пример: `vector::operator[]` - без проверок на выход за границы\n",
    "3. для генерации более быстрого кода компилятором. Компилятор делает вид, что программист умный, \"ub\"-сценариев быть не может, и на базе этого применяет некоторые оптимизации. Примеры - далее.\n",
    "\n",
    "Ответственность за проверку корректности перекладывается с инструмента на программиста\n",
    "\n",
    "</p>\n",
    "</details>\n",
    "\n",
    "* Основная критика UB:\n",
    "\n",
    "    * Ответственность на человеке\n",
    "    * Люди... далеки от идеала\n",
    "    \n",
    "\n",
    "* Почему критика оправдана?\n",
    "\n",
    "<details>\n",
    "<summary>Подсказка</summary>\n",
    "<p>\n",
    "\n",
    "     * потому что работает принцип Парето: 10% кода съедают 90% времени\n",
    "     * \"выжимать\" performance нужно только в 10% кода\n",
    "     * в остальных 90% можно иметь медленный код без граблей\n",
    "     * проблемы undefined behavior распространяются на 100% кода\n",
    "     \n",
    "Замечание: Rust и его unsafe-секции - попытка реализовать этот баланс. В 10% кода пишем unsafe-секции, где страх и ужас, в 90% кода пишем безопасный код.\n",
    "\n",
    "</p>\n",
    "</details>"
   ]
  },
  {
   "cell_type": "markdown",
   "metadata": {},
   "source": [
    "<br />"
   ]
  },
  {
   "cell_type": "markdown",
   "metadata": {},
   "source": [
    "##### Пример как UB помогает компилятору генерировать более эффективный код"
   ]
  },
  {
   "cell_type": "markdown",
   "metadata": {},
   "source": [
    "Нарушение __Type Rules__ - undefined behavior. Type Rules (за хитрыми исключениями типа `char/unsigned char/std::byte`) запрещает обращаться к объектам одного типа через другой тип.\n",
    "\n",
    "Т.е. запрещено взять массив `float`-ов как `float*`, перекастить его через `int*` и дальше работать как с `int`.\n",
    "\n",
    "Это даёт компилятору такой код:\n",
    "\n",
    "```c++\n",
    "float *P;\n",
    "void zero_array() {\n",
    "    for (int i = 0; i < 10000; ++i)\n",
    "        p[i] = 0.0f;\n",
    "}\n",
    "```\n",
    "\n",
    "Оптимизировать в такой (в разы быстрее):\n",
    "\n",
    "```c++\n",
    "float *p;\n",
    "void zero_array() {\n",
    "    memset(p, 0, 40'000);\n",
    "}\n",
    "```\n",
    "\n",
    "У компилятора есть гарантии через ub, что в выражении `p[i] = 0.f;` не будет перезаписан сам `p`, т.к. типы `float` и `float*` разные.\n",
    "\n",
    "Если какой-то программист решить нарушить Type Tules:\n",
    "\n",
    "```c++\n",
    "p = (float*)&p;\n",
    "zero_array();\n",
    "```\n",
    "\n",
    "то изначальный и оптимизированный варианты неэквивалентны, но понятие UB позволяет компилятору с честными голубыми глазами применять оптимизации, программист сам виноват."
   ]
  },
  {
   "cell_type": "markdown",
   "metadata": {},
   "source": [
    "<br />"
   ]
  },
  {
   "cell_type": "markdown",
   "metadata": {},
   "source": [
    "##### В случае UB разный порядок оптимизаций может дать разный результат"
   ]
  },
  {
   "cell_type": "markdown",
   "metadata": {},
   "source": [
    "Рассмотрим пример (упрощённая версия одного бага из linux kernel):\n",
    "    \n",
    "```c++\n",
    "void f(int *p) {\n",
    "    int dead = *p;  // unused variable\n",
    "    if (p == 0)     // check against nullptr after derefence\n",
    "        return;\n",
    "    *p = 4;\n",
    "}\n",
    "```"
   ]
  },
  {
   "cell_type": "markdown",
   "metadata": {},
   "source": [
    "Рассмотрим 2 оптимизации компилятора:\n",
    "* Dead Code Elimination\n",
    "* Redundant Null Check Elimination"
   ]
  },
  {
   "cell_type": "markdown",
   "metadata": {},
   "source": [
    "__Вариант 1__:\n",
    "        \n",
    "* шаг 1: применили dead code elimination\n",
    "\n",
    "```c++\n",
    "void f(int *p) {\n",
    "    // int dead = *p;  // deleted by the optimizer.\n",
    "    if (p == 0)\n",
    "        return;\n",
    "    *p = 4;\n",
    "}\n",
    "```\n",
    "\n",
    "* шаг 2: применили redundant null check elimination\n",
    "\n",
    "```c++\n",
    "void f(int *p) {\n",
    "    if (p == 0)   // Null check is not redundant, and is kept.\n",
    "        return;\n",
    "    *p = 4;\n",
    "}\n",
    "```"
   ]
  },
  {
   "cell_type": "markdown",
   "metadata": {},
   "source": [
    "__Вариант 2:__\n",
    "\n",
    "* шаг 1: применили redundant null check elimination\n",
    "\n",
    "```c++\n",
    "void f(int *p) {\n",
    "    int dead = *p;\n",
    "    if (false)  // p was dereferenced by this point, so it can't be null \n",
    "        return;\n",
    "    *p = 4;\n",
    "}\n",
    "```\n",
    "\n",
    "* шаг 2: применили dead code elimination\n",
    "\n",
    "```c++\n",
    "void f(int *p) {\n",
    "    *p = 4;\n",
    "}\n",
    "```"
   ]
  },
  {
   "cell_type": "markdown",
   "metadata": {},
   "source": [
    "<br />"
   ]
  },
  {
   "cell_type": "markdown",
   "metadata": {},
   "source": [
    "##### Пример про удаление содержимого диска"
   ]
  },
  {
   "cell_type": "markdown",
   "metadata": {},
   "source": [
    "```c++\n",
    "static void (*FP)() = 0;\n",
    "\n",
    "static void impl() {\n",
    "    system(\"rm -rf /\");\n",
    "}\n",
    "\n",
    "void set() {\n",
    "  FP = impl;\n",
    "}\n",
    "\n",
    "void call() {\n",
    "    FP();\n",
    "}\n",
    "```"
   ]
  },
  {
   "cell_type": "markdown",
   "metadata": {},
   "source": [
    "Т.к. разыменование нулевого указателя - UB, по-другому `FP` проинициализировать нельзя, то clang оптимизирует такой код в:"
   ]
  },
  {
   "cell_type": "markdown",
   "metadata": {},
   "source": [
    "```c++\n",
    "void set() {}\n",
    "\n",
    "void call() {\n",
    "    system(\"rm -rf /\");\n",
    "}\n",
    "```"
   ]
  },
  {
   "cell_type": "markdown",
   "metadata": {},
   "source": [
    "<br />"
   ]
  },
  {
   "cell_type": "markdown",
   "metadata": {},
   "source": [
    "##### Примеры, во что может компилироваться ub"
   ]
  },
  {
   "cell_type": "markdown",
   "metadata": {},
   "source": [
    "Объяснить каждый пример, почему компилятор генерит такой выхлоп"
   ]
  },
  {
   "cell_type": "markdown",
   "metadata": {},
   "source": [
    "Пример:\n",
    "\n",
    "\n",
    "```c++\n",
    "int foo(int x) {\n",
    "    return x + 1 > x; // int overflow\n",
    "}\n",
    "```\n",
    "\n",
    "`-->` (gcc 9.2)\n",
    "\n",
    "```asm\n",
    "# always returns true\n",
    "foo(int):\n",
    "        movl    $1, %eax\n",
    "        ret\n",
    "```"
   ]
  },
  {
   "cell_type": "markdown",
   "metadata": {},
   "source": [
    "<br />"
   ]
  },
  {
   "cell_type": "markdown",
   "metadata": {},
   "source": [
    "Пример:\n",
    "\n",
    "```c++\n",
    "int f(int x, int y)\n",
    "{\n",
    "    if (x > 500000 && y > 500000)\n",
    "        return x * y;\n",
    "    return 42;\n",
    "}\n",
    "```\n",
    "\n",
    "`-->` (gcc 9.2)\n",
    "\n",
    "```c++\n",
    "f(int, int):\n",
    "        cmp     edi, 500000\n",
    "        jle     .L3\n",
    "        cmp     esi, 500000\n",
    "        jle     .L3\n",
    "        mov     eax, 2147483647\n",
    "        ret\n",
    ".L3:\n",
    "        mov     eax, 42\n",
    "        ret\n",
    "```"
   ]
  },
  {
   "cell_type": "markdown",
   "metadata": {},
   "source": [
    "<br />"
   ]
  },
  {
   "cell_type": "markdown",
   "metadata": {},
   "source": [
    "Пример:\n",
    "\n",
    "```c++\n",
    "int table[4] = {};\n",
    "bool exists_in_table(int v)\n",
    "{\n",
    "    for (int i = 0; i <= 4; i++)  // out-of-boundary access\n",
    "        if (table[i] == v)\n",
    "            return true;\n",
    "    return false;\n",
    "}\n",
    "```\n",
    "\n",
    "`-->`\n",
    "\n",
    "```asm\n",
    "# always returns true\n",
    "exists_in_table(int):\n",
    "        movl    $1, %eax\n",
    "        ret\n",
    "```"
   ]
  },
  {
   "cell_type": "markdown",
   "metadata": {},
   "source": [
    "<br />"
   ]
  },
  {
   "cell_type": "markdown",
   "metadata": {},
   "source": [
    "Пример:\n",
    "\n",
    "```c++\n",
    "std::size_t f(int x)\n",
    "{\n",
    "    std::size_t a;  // uninitialized\n",
    "    if (x)  // either x nonzero or UB\n",
    "        a = 42;\n",
    "    return a;  // might be an access to uninitialized\n",
    "}\n",
    "```\n",
    "\n",
    "`-->`\n",
    "\n",
    "```asm\n",
    "# always returns 42\n",
    "f(int):\n",
    "        mov     eax, 42\n",
    "        ret\n",
    "```"
   ]
  },
  {
   "cell_type": "markdown",
   "metadata": {},
   "source": [
    "<br />"
   ]
  },
  {
   "cell_type": "markdown",
   "metadata": {},
   "source": [
    "Пример:\n",
    "\n",
    "```c++\n",
    "bool p;\n",
    "\n",
    "// access to uninitialized\n",
    "if (p)\n",
    "    std::puts(\"p is true\");\n",
    "\n",
    "// access to uninitialized\n",
    "if (!p)\n",
    "    std::puts(\"p is false\");\n",
    "```\n",
    "\n",
    "output:\n",
    "\n",
    "```\n",
    "p is true\n",
    "p is false\n",
    "```"
   ]
  },
  {
   "cell_type": "markdown",
   "metadata": {},
   "source": [
    "<br />"
   ]
  },
  {
   "cell_type": "markdown",
   "metadata": {},
   "source": [
    "Пример - опровержение теоремы Ферма:\n",
    "    \n",
    "```c++\n",
    "#include <iostream>\n",
    " \n",
    "int fermat() {\n",
    "  const int MAX = 1000;\n",
    "  int a = 1, b = 1, c = 1;\n",
    "  // Endless loop without side effects is UB\n",
    "  while (1)\n",
    "  {\n",
    "    if (a*a*a == b*b*b + с*c*c)\n",
    "        return 1;\n",
    "    a++;\n",
    "    if (a > MAX) { a = 1; b++; }\n",
    "    if (b > MAX) { b = 1; c++; }\n",
    "    if (c > MAX) { c = 1; }\n",
    "  }\n",
    "  return 0;\n",
    "}\n",
    " \n",
    "int main() {\n",
    "  if (fermat())\n",
    "    std::cout << \"Fermat's Last Theorem has been disproved.\\n\";\n",
    "  else\n",
    "    std::cout << \"Fermat's Last Theorem has not been disproved.\\n\";\n",
    "}\n",
    "```\n",
    "\n",
    "`-->`\n",
    "\n",
    "```\n",
    "Fermat's Last Theorem has been disproved.\n",
    "```"
   ]
  },
  {
   "cell_type": "markdown",
   "metadata": {},
   "source": [
    "<br />"
   ]
  },
  {
   "cell_type": "markdown",
   "metadata": {},
   "source": [
    "##### Пример из Quake 3"
   ]
  },
  {
   "cell_type": "markdown",
   "metadata": {},
   "source": [
    "Знаменитый пример кода из quake 3. Долгое время про него говорили как умопомрачительный трюк сумрачного гения - способ ускорить вычисление $1 / \\sqrt(x)$. Функция ищет решение с достаточной для геймдева точностью."
   ]
  },
  {
   "cell_type": "markdown",
   "metadata": {},
   "source": [
    "Операция (по слухам) является критичной в коде рендеринга сцены, поэтому её ускорение давало значимый прирост в FPS."
   ]
  },
  {
   "cell_type": "markdown",
   "metadata": {},
   "source": [
    "Объяснить код:"
   ]
  },
  {
   "cell_type": "markdown",
   "metadata": {},
   "source": [
    "```c++\n",
    "float Q_rsqrt(float number)\n",
    "{\n",
    "    float x2 = number * 0.5f;\n",
    "    float y = number;\n",
    "    int i = * (int *) &y;\n",
    "    i = 0x5f3759df - (i >> 1);  // dark magic\n",
    "    y = * (float *) &i;\n",
    "    return y * (1.5f - (x2 * y * y));\n",
    "}\n",
    "```"
   ]
  },
  {
   "cell_type": "markdown",
   "metadata": {},
   "source": [
    "**Вопрос:** Где здесь ошибка?\n",
    "\n",
    "<details>\n",
    "<summary>Ответ</summary>\n",
    "<p>\n",
    "    \n",
    "**Type Rules** - запрещено обращаться к объектам одного типа через другой тип (есть тонкие исключения про `char/unsigned char/std::byte` - про них не будем говорить). Такое обращение - UB. \n",
    "\n",
    "В данном примере к `float`-у обращаются как будто это `int` и наоборот.\n",
    "    \n",
    "</p>    \n",
    "</details>"
   ]
  },
  {
   "cell_type": "markdown",
   "metadata": {},
   "source": [
    "<br />"
   ]
  },
  {
   "cell_type": "markdown",
   "metadata": {},
   "source": [
    "Как реализовать то же самое без UB"
   ]
  },
  {
   "cell_type": "markdown",
   "metadata": {},
   "source": [
    "```c++\n",
    "float Q_rsqrt(float number)\n",
    "{\n",
    "    int i;\n",
    "    float x2 = number * 0.5f;\n",
    "    float y = number;\n",
    "    \n",
    "    static_assert(sizeof(int) == sizeof(float));\n",
    "    std::memcpy(&i, &y, sizeof(float));\n",
    "    \n",
    "    i = 0x5f3759df - (i >> 1);  // dark magic\n",
    "\n",
    "    static_assert(sizeof(int) == sizeof(float));\n",
    "    std::memcpy(&y, &i, sizeof(float));\n",
    "\n",
    "    return y * (1.5f - (x2 * y * y));\n",
    "}\n",
    "```"
   ]
  },
  {
   "cell_type": "markdown",
   "metadata": {},
   "source": [
    "Или со стандарта C++20:"
   ]
  },
  {
   "cell_type": "markdown",
   "metadata": {},
   "source": [
    "```c++\n",
    "float Q_rsqrt(float number)\n",
    "{\n",
    "    float x2 = number * 0.5f;\n",
    "    float y = number;\n",
    "    \n",
    "    int i = std::bit_cast<int>(y);\n",
    "\n",
    "    i = 0x5f3759df - (i >> 1);  // dark magic\n",
    "    \n",
    "    y = std::bit_cast<float>(i);\n",
    "\n",
    "    return y * (1.5f - (x2 * y * y));\n",
    "}\n",
    "```"
   ]
  },
  {
   "cell_type": "markdown",
   "metadata": {},
   "source": [
    "Замедления здесь не будет.\n",
    "\n",
    "Компиляторы достаточно хороши в оптимизации, чтобы для исправленной версии сгенерировать код, аналогичный UB-версии (если UB-версия скомпилировалась без сюрпризов)."
   ]
  },
  {
   "cell_type": "markdown",
   "metadata": {},
   "source": [
    "<br />"
   ]
  },
  {
   "cell_type": "markdown",
   "metadata": {},
   "source": [
    "##### Пример, почему важно понимать, что программирование на С++ - это программирование абстрактной С++ машины для компиляторов, а не битов для процессора"
   ]
  },
  {
   "cell_type": "markdown",
   "metadata": {},
   "source": [
    "```c++\n",
    "struct X\n",
    "{\n",
    "    int a;\n",
    "    int b;\n",
    "};\n",
    "\n",
    "X* create_x()\n",
    "{\n",
    "    X* p = (X*)malloc(sizeof(X));\n",
    "    p->a = 1;\n",
    "    p->b = 2;\n",
    "    return p;\n",
    "}\n",
    "```"
   ]
  },
  {
   "cell_type": "markdown",
   "metadata": {},
   "source": [
    "**Вопрос:** Как ни странно, здесь UB, но в чём ошибка?\n",
    "\n",
    "<details>\n",
    "<summary>Ответ</summary>\n",
    "<p>\n",
    "    \n",
    "С точки зрения абстрактной машины С++ объект типа X не создан:\n",
    "* под объект выделена память\n",
    "* но конструктор объекта не вызван\n",
    "* да, конструктор ничего не делает, но ОН НЕ ВЫЗВАН!\n",
    "\n",
    "Объектом по адресу `p` пользоваться нельзя\n",
    "\n",
    "</p>\n",
    "</details>\n",
    "\n",
    "**Замечание**: В стандарте С++20 подправили эффект от memmove, malloc и т.д., и больше это не UB. Объяснение:\n",
    "* стандарт С работает с памятью и понятием effective type\n",
    "* стандарт C++ работает с понятием объекта\n",
    "* поэтому некоторые С-шные трюки с памятью ведут к UB в С++\n",
    "* теперь некоторые С-шные трюки с памятью стали валидны в С++"
   ]
  },
  {
   "cell_type": "markdown",
   "metadata": {},
   "source": [
    "<br />"
   ]
  },
  {
   "cell_type": "markdown",
   "metadata": {},
   "source": [
    "Способ (предположительно) это поправить:"
   ]
  },
  {
   "cell_type": "markdown",
   "metadata": {},
   "source": [
    "```c++\n",
    "struct X\n",
    "{\n",
    "    int a;\n",
    "    int b;\n",
    "};\n",
    "\n",
    "X* create_x()\n",
    "{\n",
    "    char* storage = new char[sizeof(X)];\n",
    "    X* p = new(storage) X;\n",
    "    p->a = 1;\n",
    "    p->b = 2;\n",
    "    return p;\n",
    "}\n",
    "```"
   ]
  },
  {
   "cell_type": "markdown",
   "metadata": {},
   "source": [
    "Нооооо... он работает через раз.\n",
    "\n",
    "**Вопрос:** Почему? Вспомним лекцию про layout класса.\n",
    "\n",
    "<details>\n",
    "<summary>Ответ</summary>\n",
    "<p>\n",
    "\n",
    "У `char` alignment = 1. У `X` alignment = 4 или 8.\n",
    "\n",
    "</p>\n",
    "</details>"
   ]
  },
  {
   "cell_type": "markdown",
   "metadata": {},
   "source": [
    "И это ещё не все грабли, которые ждут вас на пути (следующая грабля - нюансы арфиметики указателей в абстрактной машине С++ и UB на UB через UB)"
   ]
  },
  {
   "cell_type": "markdown",
   "metadata": {},
   "source": [
    "<br />"
   ]
  },
  {
   "cell_type": "markdown",
   "metadata": {},
   "source": [
    "Способ это исправить - использовать стандартный механизм, где умные люди за вас решили все проблемы:"
   ]
  },
  {
   "cell_type": "markdown",
   "metadata": {},
   "source": [
    "```c++\n",
    "struct X\n",
    "{\n",
    "    int a;\n",
    "    int b;\n",
    "};\n",
    "\n",
    "X* create_x()\n",
    "{\n",
    "    X* p = new X;\n",
    "    p->a = 1;\n",
    "    p->b = 2;\n",
    "    return p;\n",
    "}\n",
    "```"
   ]
  },
  {
   "cell_type": "markdown",
   "metadata": {},
   "source": [
    "1. Вам не нужно мучиться с вопросами работы с сырой памятью и трюками с типами в ней в \"нормальном\" С++\n",
    "2. Эти вопросы возникают, когда вы начинаете писать custom allocator\n",
    "3. **НИКОГДА НЕ ПИШИТЕ CUSTOM ALLOCATOR** (см. доклады с cppcon вверху занятия, особенно от Miro Knejp про flexible member array data member)\n",
    "4. Людей, способных написать custom allocator без UB, думаю, не больше 10 в мире (судя по отзывам из комитета стандартизации, далеко не каждый участник комитета способен написать custom allocator без UB)"
   ]
  },
  {
   "cell_type": "markdown",
   "metadata": {},
   "source": [
    "<br />"
   ]
  },
  {
   "cell_type": "markdown",
   "metadata": {},
   "source": [
    "##### Как избежать проблем с UB?\n",
    "* поменять язык\n",
    "* `constexpr` (в продолжении курса)\n",
    "* статические анализаторы кода\n",
    "* санитары (asan, msan, tsan, ubsan ...), valgrind, drmemory ... - динамические анализаторы кода\n",
    "* различные встроенные отладочные механизмы. Примеры:\n",
    "    * проверки корректности [внутри имплементаций STL](https://gcc.gnu.org/onlinedocs/libstdc++/manual/debug_mode.html)\n",
    "    * проверки кучи на целостность после операций с аллокаторами в windows [CrtSetDbgFlag](https://docs.microsoft.com/ru-ru/cpp/c-runtime-library/reference/crtsetdbgflag?view=vs-2019)\n",
    "    * windows-specific [debugging tools](https://docs.microsoft.com/en-us/windows-hardware/drivers/debugger/gflags)\n",
    "* повышать свой уровень грамотности С++"
   ]
  },
  {
   "cell_type": "markdown",
   "metadata": {},
   "source": [
    "<br />"
   ]
  },
  {
   "cell_type": "markdown",
   "metadata": {},
   "source": [
    "__Резюме:__\n",
    "* implementation defined - иди читай документацию\n",
    "* unspecified - иди читай код, убеждайся, что всё нормально\n",
    "* undefined - срочно править\n",
    "* регулярно гонять статические анализаторы по коду (и читать их отчёты)\n",
    "* регулярно гонять тесты и основные сценарии под санитарами (и читать их отчёты)\n",
    "* `constexpr` to the rescue! (как `constexpr` ловит ub - поговорим в продолжении курса)"
   ]
  }
 ],
 "metadata": {
  "kernelspec": {
   "display_name": "Python 3 (ipykernel)",
   "language": "python",
   "name": "python3"
  },
  "language_info": {
   "codemirror_mode": {
    "name": "ipython",
    "version": 3
   },
   "file_extension": ".py",
   "mimetype": "text/x-python",
   "name": "python",
   "nbconvert_exporter": "python",
   "pygments_lexer": "ipython3",
   "version": "3.9.6"
  }
 },
 "nbformat": 4,
 "nbformat_minor": 2
}
