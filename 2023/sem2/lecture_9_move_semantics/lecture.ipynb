{
 "cells": [
  {
   "cell_type": "markdown",
   "metadata": {},
   "source": [
    "### move-семантика (since C++11)"
   ]
  },
  {
   "cell_type": "markdown",
   "metadata": {},
   "source": [
    "Выдать домашнее задание про тайловую карту"
   ]
  },
  {
   "cell_type": "markdown",
   "metadata": {},
   "source": [
    "<br />"
   ]
  },
  {
   "cell_type": "markdown",
   "metadata": {},
   "source": [
    "##### Rationale"
   ]
  },
  {
   "cell_type": "markdown",
   "metadata": {},
   "source": [
    "**Скорость**: решается проблема лишних копирований"
   ]
  },
  {
   "cell_type": "markdown",
   "metadata": {},
   "source": [
    "```c++\n",
    "// before C++11\n",
    "std::vector<int> a = make_items(); // если компилятор не смог в NRVO, RVO, будет копирование\n",
    "                                   // а можно бы и не копировать, объект всё равно временный.\n",
    "\n",
    "// before C++11\n",
    "std::vector<int> b;\n",
    "a = b; // b больше не нужен, программист уверен,\n",
    "       // зачем копировать контент b и сразу его уничтожать,\n",
    "       // почему бы сразу контент не переиспользовать?\n",
    "```"
   ]
  },
  {
   "cell_type": "markdown",
   "metadata": {},
   "source": [
    "```c++\n",
    "// since C++11\n",
    "std::vector<int> a = make_items(); // no copy\n",
    "\n",
    "// since C++11\n",
    "std::vector<int> b;\n",
    "a = std::move(b);  // no copy\n",
    "```"
   ]
  },
  {
   "cell_type": "markdown",
   "metadata": {},
   "source": [
    "**Удобство**: можно возвращать некопируемые объекты"
   ]
  },
  {
   "cell_type": "markdown",
   "metadata": {},
   "source": [
    "```c++\n",
    "// since C++11\n",
    "\n",
    "// std::unique_ptr is non-copyable type\n",
    "std::unique_ptr<Person> create_person();\n",
    "\n",
    "// std::thread is non-copyable type\n",
    "std::thread make_worker_thread();\n",
    "```"
   ]
  },
  {
   "cell_type": "markdown",
   "metadata": {},
   "source": [
    "<br />"
   ]
  },
  {
   "cell_type": "markdown",
   "metadata": {},
   "source": [
    "##### Theory: lvalue, rvalue and more"
   ]
  },
  {
   "cell_type": "markdown",
   "metadata": {},
   "source": [
    "https://devblogs.microsoft.com/cppblog/rvalue-references-c0x-features-in-vc10-part-2/\n",
    "\n",
    "https://en.cppreference.com/w/cpp/language/value_category\n",
    "\n",
    "http://www.stroustrup.com/terminology.pdf\n",
    "\n",
    "http://www.open-std.org/jtc1/sc22/wg21/docs/papers/2006/n2027.html\n",
    "\n",
    "[Доклад \"Understanding value categories in C++\"](https://youtu.be/liAnuOfc66o)"
   ]
  },
  {
   "cell_type": "markdown",
   "metadata": {},
   "source": [
    "Полное описание с длинным списком и исключениями можно посмотреть по ссылке на cppreference, здесь ниже будет дано словесное описание и опущены некоторые детали (типа функций, bitfields ...)"
   ]
  },
  {
   "cell_type": "markdown",
   "metadata": {},
   "source": [
    "**C++98/03:**"
   ]
  },
  {
   "cell_type": "markdown",
   "metadata": {},
   "source": [
    "> C++03 3.10/1: “Every expression is either an lvalue or an rvalue.”\n",
    "\n",
    "<u>Важно для понимания: lvalue/rvalue - свойство выражений, а не объектов</u>\n",
    "\n",
    "\n",
    "* `lvalue` - описывают объекты, которые остаются жить за рамками выражения. Примеры:\n",
    "\n",
    "    ```c++\n",
    "    obj\n",
    "    *ptr\n",
    "    ptr[index]\n",
    "    ++x\n",
    "    f() // T& f()\n",
    "    ```\n",
    "    \n",
    "    Признак lvalue: если выражение представляет собой имя, то это однозначно lvalue.\n",
    "    \n",
    "    Обратное неверно: `ptr[index]` собой имя не представляет, но это тоже lvalue.\n",
    "    \n",
    "\n",
    "* `rvalue` - временные сущности, которые испаряются сразу в конце выражения (например, за точкой-с-запятой). Примеры:\n",
    "\n",
    "    ```c++\n",
    "    42\n",
    "    x + y\n",
    "    std::string(\"abc\")\n",
    "    x++\n",
    "    f() // T f()\n",
    "    ```"
   ]
  },
  {
   "cell_type": "markdown",
   "metadata": {},
   "source": [
    "<br />"
   ]
  },
  {
   "cell_type": "markdown",
   "metadata": {},
   "source": [
    "И `lvalue`, и `rvalue` выражения могут быть изменяемые (non-const) или неизменяемые (const). Примеры:\n",
    "\n",
    "```c++\n",
    "string       one(“cute”);\n",
    "const string two(“fluffy”);\n",
    "string       three() { return “kittens”; }\n",
    "const string four() { return “are an essential part of a healthy diet”; }\n",
    "\n",
    "one;     // mutable lvalue\n",
    "two;     // const   lvalue\n",
    "three(); // mutable rvalue\n",
    "four();  // const   rvalue  <-- no practical sense\n",
    "```"
   ]
  },
  {
   "cell_type": "markdown",
   "metadata": {},
   "source": [
    "Правилами С++ установлено, что:\n",
    "* Изменяемую ссылку (`Type&`) можно привязать только к mutable lvalue:\n",
    "\n",
    "    ```c++\n",
    "    string& ref = one;     // ok\n",
    "    string& ref = two;     // compile error, only to mutable lvalue\n",
    "    string& ref = three(); // compile error, only to mutable lvalue\n",
    "    string& ref = four();  // compile error, only to mutable lvalue\n",
    "    ```\n",
    "    \n",
    "* Неизменяемую ссылку (`const Type&`) можно привязать к чему угодно:\n",
    "\n",
    "    ```c++\n",
    "    const string& ref = one;     // ok\n",
    "    const string& ref = two;     // ok\n",
    "    const string& ref = three(); // ok\n",
    "    const string& ref = four();  // ok\n",
    "    ```"
   ]
  },
  {
   "cell_type": "markdown",
   "metadata": {},
   "source": [
    "<u>Важно для понимания:</u> В записи:\n",
    "\n",
    "```c++\n",
    "{\n",
    "    const std::string& ref = three();\n",
    "    print_something(ref);\n",
    "}\n",
    "```\n",
    "\n",
    "`three()` - это rvalue-выражение (т.к. временный объект), а `ref`- это lvalue-выражение (потому что дано имя). Когда возвращаемое значение функции как выражение привязывается к `const Type&`-ссылке, время жизни временного объекта продлевается до конца блока."
   ]
  },
  {
   "cell_type": "markdown",
   "metadata": {},
   "source": [
    "**Замечание**: обычно не рекомендуется писать код в стиле\n",
    "\n",
    " ```c++\n",
    "const std::string& ref = three();\n",
    "print_something(ref);\n",
    "```\n",
    "    \n",
    "Потому что это сбивает с толку."
   ]
  },
  {
   "cell_type": "markdown",
   "metadata": {},
   "source": [
    "Теперь вы понимаете (теоретически), почему такой код по стандарту не компилируется:\n",
    "    \n",
    "```c++\n",
    "void func(std::string& s);\n",
    "\n",
    "func(\"hohoho\");\n",
    "```\n",
    "\n",
    "А такой компилируется:\n",
    "\n",
    "```c++\n",
    "void func_1(std::string& s);\n",
    "\n",
    "std::string s = \"hohoho\";\n",
    "func_1(s);\n",
    "\n",
    "//---\n",
    "\n",
    "void func_2(const std::string& s);\n",
    "\n",
    "func_2(\"hohoho\");\n",
    "```"
   ]
  },
  {
   "cell_type": "markdown",
   "metadata": {},
   "source": [
    "<br />"
   ]
  },
  {
   "cell_type": "markdown",
   "metadata": {},
   "source": [
    "**C++11/17:**"
   ]
  },
  {
   "cell_type": "markdown",
   "metadata": {},
   "source": [
    "![](value_categories.png)"
   ]
  },
  {
   "cell_type": "markdown",
   "metadata": {},
   "source": [
    "В С++11 у *выражения* вводится 2 свойства: has identity && can be moved from:\n",
    "\n",
    "* `has identity` - у результата таких выражений можно взять адрес и сравнением адресов узнать, один и тот же это объект или нет.\n",
    "* `can be moved from` - к выражению можно забиндить move-конструктор, move-assignment или другую функцию, реализующую move-семантику"
   ]
  },
  {
   "cell_type": "markdown",
   "metadata": {},
   "source": [
    "Категории:\n",
    "\n",
    "* `lvalue` = `has identity` + `can not be moved from`\n",
    "    ```c++\n",
    "    ++a;\n",
    "    a += 3;\n",
    "    *ptr;\n",
    "    \"hello world\"\n",
    "    f()  // T& f()\n",
    "    ```\n",
    "* `xvalue` (expiring value) = `has identity` + `can be moved from`\n",
    "    ```c++\n",
    "    std::move(s)  // string s;\n",
    "    f()  // T&& f()\n",
    "    ```\n",
    "* `prvalue` = `has no identity` + `can be moved from`\n",
    "    ```c++\n",
    "    a + b\n",
    "    f()  // T f()\n",
    "    ```\n",
    "* `glvalue` (generalized lvalue) = `has identity`\n",
    "* `rvalue` = `can be moved from`\n",
    "\n",
    "**Замечание:** это образное понимание категорий. Строгих и понятных правил, под какую категорию попадает выражение, нет. Вариант определения из [документации](https://en.cppreference.com/w/cpp/language/value_category): перечислить всевозможные выражения и <s>методом ленинского прищура</s> экспертным взглядом комитета прописать им категорию. Если обратите внимание на раздел \"Defect reports\" в документации, то видно, что не всегда экспертный взгляд комитета работал безошибочно."
   ]
  },
  {
   "cell_type": "markdown",
   "metadata": {},
   "source": [
    "<br />"
   ]
  },
  {
   "cell_type": "markdown",
   "metadata": {},
   "source": [
    "##### Поддержка move-операций классами"
   ]
  },
  {
   "cell_type": "markdown",
   "metadata": {},
   "source": [
    "move-операции должны оставить объект в валидном состоянии (возможно, unspecified)"
   ]
  },
  {
   "cell_type": "markdown",
   "metadata": {},
   "source": [
    "**Вопрос:**\n",
    "\n",
    "<details>\n",
    "<summary>Что значит \"валидное состояние\"?</summary>\n",
    "<p>\n",
    "Соблюдены инварианты класса\n",
    "</p>\n",
    "</details>"
   ]
  },
  {
   "cell_type": "markdown",
   "metadata": {},
   "source": [
    "Попробуем организовать move-операции для простенького класса строки:\n",
    "\n",
    "```c++\n",
    "class string {\n",
    "public:\n",
    "    string();\n",
    "    ~string();\n",
    "    \n",
    "    string(const string& rhs);  \n",
    "    string& operator =(const string& rhs);\n",
    "    \n",
    "    string(string&& rhs);\n",
    "    string& operator =(string&& rhs);\n",
    "\n",
    "private:\n",
    "    char *s;\n",
    "    size_t n;\n",
    "};\n",
    "```"
   ]
  },
  {
   "cell_type": "markdown",
   "metadata": {},
   "source": [
    "Начнём с move constructor:\n",
    "\n",
    "```c++\n",
    "// move c-tor\n",
    "string::string(string&& rhs)\n",
    "    : s(rhs.s)\n",
    "    , n(rhs.n)\n",
    "{\n",
    "    rhs.s = nullptr;\n",
    "    rhs.n = 0;\n",
    "}\n",
    "```\n",
    "\n",
    "**Вопрос:**\n",
    "\n",
    "<details>\n",
    "<summary>Корректен ли он?</summary>\n",
    "<p>\n",
    "\n",
    "`rhs` должен остаться в валидном состоянии. Класс должен поддерживать опцию `s == nullptr, n == 0` как реализацию пустой строки (во всех своих операциях)\n",
    "\n",
    "</p>\n",
    "</details>"
   ]
  },
  {
   "cell_type": "markdown",
   "metadata": {},
   "source": [
    "Теперь move assignment operator\n",
    "\n",
    "```c++\n",
    "// move assignment operator\n",
    "// option 1\n",
    "string& string::operator = (string&& rhs) {\n",
    "    std::swap(s, rhs.s);\n",
    "    std::swap(n, rhs.n);\n",
    "    return *this;\n",
    "}\n",
    "\n",
    "// move assignment operator\n",
    "// option 2\n",
    "string& string::operator = (string&& rhs) {\n",
    "    s = rhs.s;\n",
    "    n = rhs.n;\n",
    "    rhs.s = nulltr;\n",
    "    rhs.n = 0;\n",
    "    return *this;\n",
    "}\n",
    "```\n",
    "\n",
    "**Вопросы:**\n",
    "\n",
    "* Какой вариант лучше? Чем?\n",
    "\n",
    "<details>\n",
    "<summary>ответ</summary>\n",
    "<p>\n",
    "    \n",
    "В варианте 2 memory leak у `this->s`. А если его пофиксить:\n",
    "\n",
    "1. вариант 1 работает для любой реализации строки, но потребляет лишнюю память\n",
    "2. вариант 2 требует поддержать реализацию `s == nullptr, n == 0`, но потребление памяти меньше\n",
    "\n",
    "</p>\n",
    "</details>\n",
    "\n",
    "* Какая неточность допущена в реализации второго варианта?\n",
    "\n",
    "<details>\n",
    "<summary>ответ</summary>\n",
    "<p>\n",
    "\n",
    "лучше поддержать безопасный вариант self-assigment: `x = std::move(x)`.\n",
    "\n",
    "почему \"лучше\", но не обязательно?\n",
    "\n",
    "</p>\n",
    "</details>\n"
   ]
  },
  {
   "cell_type": "markdown",
   "metadata": {},
   "source": [
    "Исправленный вариант 2:\n",
    "\n",
    "```c++\n",
    "// move assignment operator\n",
    "// option 2, better\n",
    "string& string::operator = (string&& rhs) {\n",
    "    if (this != &rhs)\n",
    "    {\n",
    "        s = rhs.s;\n",
    "        n = rhs.n;\n",
    "        rhs.s = nulltr;\n",
    "        rhs.n = 0;\n",
    "    }\n",
    "    return *this;\n",
    "}\n",
    "```\n",
    "\n",
    "**Вопрос:**\n",
    "\n",
    "* Чего ещё не хватает в реализации?\n",
    "\n",
    "<details>\n",
    "<summary>ответ</summary>\n",
    "<p>\n",
    "    \n",
    "`noexcept` у move-операций. Напомните, зачем?\n",
    "\n",
    "</p>\n",
    "</details>"
   ]
  },
  {
   "cell_type": "markdown",
   "metadata": {},
   "source": [
    "Исправленный вариант 2:\n",
    "\n",
    "```c++\n",
    "// move assignment operator\n",
    "// option 2, better\n",
    "string& string::operator = (string&& rhs) noexcept {\n",
    "    if (this != &rhs)\n",
    "    {\n",
    "        s = rhs.s;\n",
    "        n = rhs.n;\n",
    "        rhs.s = nulltr;\n",
    "        rhs.n = 0;\n",
    "    }\n",
    "    return *this;\n",
    "}\n",
    "```"
   ]
  },
  {
   "cell_type": "markdown",
   "metadata": {},
   "source": [
    "<br />"
   ]
  },
  {
   "cell_type": "markdown",
   "metadata": {},
   "source": [
    "##### автогенерированные move -операции"
   ]
  },
  {
   "cell_type": "markdown",
   "metadata": {},
   "source": [
    "https://en.cppreference.com/w/cpp/language/move_constructor\n",
    "\n",
    "https://en.cppreference.com/w/cpp/language/move_assignment"
   ]
  },
  {
   "cell_type": "markdown",
   "metadata": {},
   "source": [
    "* Компилятор генерирует move constructor сам, если пользователь НЕ определил ни одну из операций: copy constructor, copy assignment operator, move assignment operator, destructors\n",
    "* Компилятор генерирует move assignment сам, если пользователь НЕ определил ни одну из операций: copy-constructor, move constructor, copy assignment, destructor\n",
    "\n",
    "**Вопрос:** Конечно же, все эти нюансы помнить не надо, потому что есть правило 6. А что такое правило 6?"
   ]
  },
  {
   "cell_type": "markdown",
   "metadata": {},
   "source": [
    "С автогенерируемыми move-операциями следует быть крайне осторожными:\n",
    "* они выполняют move по полям\n",
    "* компилятор не заботится о наличии и сохранении инвариантов\n",
    "\n",
    "Пример:\n",
    "\n",
    "```c++\n",
    "class ForwardListWithSizeCaching\n",
    "{\n",
    "private:\n",
    "    std::forward_list<int> items;\n",
    "    size_t count;\n",
    "    \n",
    "public:\n",
    "    // auto generated move constructor\n",
    "    ForwardListWithSizeCaching(ForwardListWithSizeCaching&& rhs)\n",
    "        : items(std::move(rhs.items))  // likely rhs.items is empty after c-tor call\n",
    "        , count(std::move(rhs.count))  // likely rhs.count is unchanged after c-tor call\n",
    "    {\n",
    "    }\n",
    "    // Автогенерированный move-конструктор нарушает инварианты\n",
    "    // внутри rhs, он остаётся сломан и пользоваться им нельзя\n",
    "};\n",
    "```\n",
    "\n",
    "А здесь всё хорошо:\n",
    "\n",
    "```c++\n",
    "struct Person\n",
    "{\n",
    "    std::string name;\n",
    "    std::string surname;\n",
    "    std::uint32_t age;\n",
    "};\n",
    "```"
   ]
  },
  {
   "cell_type": "markdown",
   "metadata": {},
   "source": [
    "<br />"
   ]
  },
  {
   "cell_type": "markdown",
   "metadata": {},
   "source": [
    "##### Упражнение"
   ]
  },
  {
   "cell_type": "markdown",
   "metadata": {},
   "source": [
    "Что будет вызвано?\n",
    "\n",
    "```c++\n",
    "class string {\n",
    "public:\n",
    "    string();\n",
    "    string(const string& rhs);\n",
    "    string(string&& rhs);\n",
    "    string& operator =(const string& rhs);\n",
    "    string& operator =(string&& rhs);\n",
    "    ~string();\n",
    "private:\n",
    "    char *s;\n",
    "    size_t n;\n",
    "};\n",
    "\n",
    "std::string         get_obj();\n",
    "std::string&        get_ref();\n",
    "std::string&&       get_exp_obj();\n",
    "const std::string   get_cobj();\n",
    "const std::string&  get_cref();\n",
    "const std::string&& get_exp_cobj();\n",
    "\n",
    "string s1;                 // ???\n",
    "string s(s1);              // ???\n",
    "string s{s1};              // ???\n",
    "s = s1;                    // ???\n",
    "string s = get_obj();      // ???\n",
    "string s = get_ref();      // ???\n",
    "string s = get_exp_obj();  // ???\n",
    "string s = get_cobj();     // ???\n",
    "string s = get_cref();     // ???\n",
    "string s = get_exp_cobj(); // ???\n",
    "```"
   ]
  },
  {
   "cell_type": "markdown",
   "metadata": {},
   "source": [
    "<br />"
   ]
  },
  {
   "cell_type": "markdown",
   "metadata": {},
   "source": [
    "##### move-операции и POD-типы"
   ]
  },
  {
   "cell_type": "markdown",
   "metadata": {},
   "source": [
    "move-операции для POD-типов бесмысленны:"
   ]
  },
  {
   "cell_type": "markdown",
   "metadata": {},
   "source": [
    "```c++\n",
    "int get_number();\n",
    "\n",
    "const int x = get_number(); // no so much win\n",
    "```"
   ]
  },
  {
   "cell_type": "markdown",
   "metadata": {},
   "source": [
    "```c++\n",
    "struct Color\n",
    "{\n",
    "    char r;\n",
    "    char g;\n",
    "    char b;\n",
    "};\n",
    "\n",
    "\n",
    "// well ...\n",
    "struct Color\n",
    "{\n",
    "    ...\n",
    "        \n",
    "    // not so much win\n",
    "    Color(Color&& rhs)\n",
    "        : r(std::move(rhs.r))\n",
    "        , g(std::move(rhs.g))\n",
    "        , b(std::move(rhs.b))\n",
    "    {}\n",
    "};\n",
    "```"
   ]
  },
  {
   "cell_type": "markdown",
   "metadata": {},
   "source": [
    "Случаи, в которых move-операции имеют смысл:\n",
    "\n",
    "* когда можно реализовать более эффективный перенос ресурсов:\n",
    "\n",
    "    ```c++\n",
    "    std::string\n",
    "    std::vector\n",
    "    ```\n",
    "    \n",
    "* когда можно переиспользовать более эффективный move:\n",
    "\n",
    "    ```c++\n",
    "    struct Person\n",
    "    {\n",
    "        std::string name;\n",
    "        std::string surname;\n",
    "        std::uint32_t age;\n",
    "    };\n",
    "    ```\n",
    "    \n",
    "* когда копирование запрещено:\n",
    "\n",
    "    ```c++\n",
    "    std::unique_ptr\n",
    "    std::thread\n",
    "    ```"
   ]
  },
  {
   "cell_type": "markdown",
   "metadata": {},
   "source": [
    "<br />"
   ]
  },
  {
   "cell_type": "markdown",
   "metadata": {},
   "source": [
    "##### std::move"
   ]
  },
  {
   "cell_type": "markdown",
   "metadata": {},
   "source": [
    "<u>std::move does not move!</u>"
   ]
  },
  {
   "cell_type": "markdown",
   "metadata": {},
   "source": [
    "Как реализован `std::move`:\n",
    "\n",
    "```c++\n",
    "template<class T>\n",
    "inline constexpr typename remove_reference<T>::type&& move(T&& t) noexcept\n",
    "{\n",
    "    return static_cast<typename remove_reference<T>::type&&>(t);\n",
    "}\n",
    "```\n",
    "\n",
    "Чтобы было проще прочитать, введём сокращение:\n",
    "\n",
    "`TV = typename remove_reference<T>::type` - удаление `&` и `&&` у типа `T`.\n",
    "\n",
    "И спрячем модификаторы `inline`, `constexpr`, `noexcept`, т.к. они принципиально на понимание не влияют:\n",
    "\n",
    "```c++\n",
    "template<class T>\n",
    "TV&& move(T&& t)\n",
    "{\n",
    "    return static_cast<TV&&>(t);\n",
    "}\n",
    "```\n",
    "\n",
    "Т.о. `std::move` принимает ссылку на объект и пытается вернуть rvalue-ссылку:\n",
    "\n",
    "* `string&` -> `string&&`\n",
    "* `string&&` -> `string&&`\n",
    "* `const string&` -> `const string&&`\n",
    "* `const string&&` -> `const string&&`\n",
    "\n",
    "С самим объектом ничего не происходит.\n",
    "\n",
    "**Вопрос на понимание зачем нужен std::move:** Пусть есть строка `string s`. Какого типа выражения `s` и `std::move(s)`?\n",
    "\n",
    "<details>\n",
    "<summary>ответ</summary>\n",
    "<p>\n",
    "\n",
    "`s` - lvalue (т.к. выражение - имя)\n",
    "\n",
    "`std::move(s)` - xvalue (см. примеры)\n",
    "\n",
    "Обратите внимание, что объект один и тот же, но поменялся тип выражения, который его обозначает.\n",
    "\n",
    "</p>\n",
    "</details>"
   ]
  },
  {
   "cell_type": "markdown",
   "metadata": {},
   "source": [
    "<br />"
   ]
  },
  {
   "cell_type": "markdown",
   "metadata": {},
   "source": [
    "Примеры использования `std::move`:\n",
    "\n",
    "```c++\n",
    "std::string s1 = ...;\n",
    "std::string s2 = s1;             // s1 unused below\n",
    "std::string s2 = std::move(s1);  // s1 unused below\n",
    "// вопрос: какое состояние s1 здесь?\n",
    "\n",
    "struct Person\n",
    "{\n",
    "    std::string name;\n",
    "    std::string surname;\n",
    "    \n",
    "    ...\n",
    "    Person(Person&& rhs);\n",
    "};\n",
    "\n",
    "Person::Person(Person&& rhs)\n",
    "    : name(rhs.name)        // rhs.name is lvalue, copy c-tor called\n",
    "    , surname(rhs.surname)  // rhs.surname is lvalue, copy c-tor called\n",
    "{\n",
    "}\n",
    "\n",
    "Person::Person(Person&& rhs)\n",
    "    : name(std::move(rhs.name))        // std::move(rhs.name) is xvalue, move c-tor called\n",
    "    , surname(std::move(rhs.surname))  // std::move(rhs.surname) is xvalue, move c-tor called\n",
    "{\n",
    "}\n",
    "```"
   ]
  },
  {
   "cell_type": "markdown",
   "metadata": {},
   "source": [
    "<br />"
   ]
  },
  {
   "cell_type": "markdown",
   "metadata": {},
   "source": [
    "**Отступление про ссылки и категории**\n",
    "\n",
    "Рассмотрим функцию:\n",
    "\n",
    "```c++\n",
    "void func(std::string&& name) { /*...*/ }\n",
    "```\n",
    "\n",
    "Функция может принимать только rvalue - выражения. Варианты её вызова:\n",
    "\n",
    "```c++\n",
    "// prvalue\n",
    "std::string make_name();\n",
    "func(make_name());\n",
    "\n",
    "// xvalue\n",
    "std::string city_name = \"Novosibirsk\";\n",
    "func(std::move(city_name));\n",
    "```\n",
    "\n",
    "В функции:\n",
    "* `name` - это rvalue-reference, т.е. ссылка на временный объект\n",
    "* `name` - как выражение - lvalue (почему?)\n",
    "\n",
    "поэтому внутри функции, если мы хотим срабатывание move-операций, нужно делать так:\n",
    "\n",
    "```c++\n",
    "void func(std::string&& name)\n",
    "{\n",
    "    std::string full_name = name;\n",
    "    std::string full_name = std::move(name);  // std::move здесь конвертирует lvalue-выражение в xvalue-выражение,\n",
    "                                              // оба выражения обозначают один и тот же объект - rvalue-reference to temporary\n",
    "    /*...*/\n",
    "}\n",
    "```"
   ]
  },
  {
   "cell_type": "markdown",
   "metadata": {},
   "source": [
    "<br />"
   ]
  },
  {
   "cell_type": "markdown",
   "metadata": {},
   "source": [
    "##### Упражнения с std::move"
   ]
  },
  {
   "cell_type": "markdown",
   "metadata": {},
   "source": [
    "Что будет вызвано? Как преобразует тип выражения `std::move`?\n",
    "\n",
    "```c++\n",
    "class string {\n",
    "public:\n",
    "    string();\n",
    "    string(const string& rhs);\n",
    "    string(string&& rhs);\n",
    "    string& operator =(const string& rhs);\n",
    "    string& operator =(string&& rhs);\n",
    "    ~string();\n",
    "private:\n",
    "    char *s;\n",
    "    size_t n;\n",
    "};\n",
    "\n",
    "std::string         get_obj();\n",
    "std::string&        get_ref();\n",
    "std::string&&       get_exp_obj();\n",
    "const std::string   get_cobj();\n",
    "const std::string&  get_cref();\n",
    "const std::string&& get_exp_cobj();\n",
    "\n",
    "string s1;                            // ???\n",
    "const string& cs1 = s1;               // ???\n",
    "string s(std::move(s1));              // ???\n",
    "string s = std::move(s1);             // ???\n",
    "s = std::move(s1);                    // ???\n",
    "string s = std::move(cs1);            // ???\n",
    "string s = std::move(get_obj());      // ???\n",
    "string s = std::move(get_ref());      // ???\n",
    "string s = std::move(get_exp_obj());  // ???\n",
    "string s = std::move(get_cobj());     // ???\n",
    "string s = std::move(get_cref());     // ???\n",
    "string s = std::move(get_exp_cobj()); // ???\n",
    "```"
   ]
  },
  {
   "cell_type": "markdown",
   "metadata": {},
   "source": [
    "<br />"
   ]
  },
  {
   "cell_type": "markdown",
   "metadata": {},
   "source": [
    "##### стандартные ошибки"
   ]
  },
  {
   "cell_type": "markdown",
   "metadata": {},
   "source": [
    "**Ошибка 1**: self-move-assignment для типов, реализацию которых вы не контроллируете\n",
    "\n",
    "```c++\n",
    "std::vector<int> v = ...;\n",
    "v = std::move(v);\n",
    "```\n",
    "\n",
    "v - unspecified valid state (скорее всего, пустой)"
   ]
  },
  {
   "cell_type": "markdown",
   "metadata": {},
   "source": [
    "**Ошибка 2**: std::move(pod)\n",
    "\n",
    "```c++\n",
    "struct Color\n",
    "{\n",
    "    unsigned char r;\n",
    "    unsigned char g;\n",
    "    unsigned char b;\n",
    "};\n",
    "\n",
    "Color c = ...;\n",
    "Color x = std::move(c);\n",
    "```\n",
    "\n",
    "или так:\n",
    "\n",
    "```c++\n",
    "std::string s1 = “run, Forest, run!”;\n",
    "std::string s2;\n",
    "std::move(s1.begin(), s1.end(), std::back_inserter(s2));  // алгоритм, выполняющий std::move поэлементно\n",
    "```"
   ]
  },
  {
   "cell_type": "markdown",
   "metadata": {},
   "source": [
    "**Ошибка 3**: std::move(const)\n",
    "\n",
    "```c++\n",
    "void say_my_name(const std::string& name)\n",
    "{\n",
    "    std::string res = std::move(name);  // copy\n",
    "    ...\n",
    "}\n",
    "```"
   ]
  },
  {
   "cell_type": "markdown",
   "metadata": {},
   "source": [
    "<br />"
   ]
  },
  {
   "cell_type": "markdown",
   "metadata": {},
   "source": [
    "##### передача параметров в функцию, метод, конструктор"
   ]
  },
  {
   "cell_type": "markdown",
   "metadata": {},
   "source": [
    "Задача: есть функция `f`, её нужно принять строку `s` как параметр. Как принимать? (про perfect forwarding сейчас не говорим)\n",
    "\n",
    "* Если `s` не меняется и не копируется, то очень просто:\n",
    "\n",
    "```c++\n",
    "void f(const std::string& s);\n",
    "```\n",
    "\n",
    "* Если `s` меняется или копируется - всё становится несколько интереснее\n",
    "\n",
    "Рассмотрим варианты:\n",
    "\n",
    "```c++\n",
    "void f(const std::string& s) { auto sc = s; ... }  // by const lvalue reference\n",
    "void f(std::string s);         // by value\n",
    "void f(std::string&& s);       // by mutable rvalue reference\n",
    "```\n",
    "\n",
    "И варианты вызова:\n",
    "\n",
    "```c++\n",
    "std::string name;\n",
    "std::string make_name();\n",
    "\n",
    "f(name);             // lvalue\n",
    "f(std::move(name));  // xvalue\n",
    "f(make_name());      // prvalue\n",
    "```\n",
    "\n"
   ]
  },
  {
   "cell_type": "markdown",
   "metadata": {},
   "source": [
    "**Упражнение:** Заполним таблицу, какие операции вызываются:\n",
    "\n",
    "\n",
    "| ~                    | `void f(const string& s) { auto sc = s; ... }` | `void f(string s)` | `void f(string&& s)`  |\n",
    "|:---------------------|:----------------------------------------------:|:------------------:|:---------------------:|\n",
    "| `f(name)`            |                                                |                    |                       |\n",
    "| `f(std::move(name))` |                                                |                    |                       |\n",
    "| `f(make_name())`     |                                                |                    |                       |\n"
   ]
  },
  {
   "cell_type": "markdown",
   "metadata": {},
   "source": [
    "<br />"
   ]
  },
  {
   "cell_type": "markdown",
   "metadata": {},
   "source": [
    "**Замечание:** как организовать вызов `f(string&& s)` от lvalue-выражения:\n",
    "\n",
    "```c++\n",
    "string s = \"abc\";\n",
    "f(string(s));\n",
    "```"
   ]
  },
  {
   "cell_type": "markdown",
   "metadata": {},
   "source": [
    "<br />"
   ]
  },
  {
   "cell_type": "markdown",
   "metadata": {},
   "source": [
    "**Ответ:**\n",
    "\n",
    "| ~                    | `void f(const string& s) { auto sc = s; ... }` | `void f(string s)` | `void f(string&& s)`  |\n",
    "|:---------------------|:----------------------------------------------:|:------------------:|:---------------------:|\n",
    "| `f(name)`            | copy                                           | copy               | x (* copy+ugly stx)   |\n",
    "| `f(std::move(name))` | copy                                           | move               |                       |\n",
    "| `f(make_name())`     | copy                                           | move               |                       |\n"
   ]
  },
  {
   "cell_type": "markdown",
   "metadata": {},
   "source": [
    "В случае, если строку нужно копировать или менять внутри функции:\n",
    "\n",
    "```c++\n",
    "void f(string&& s);  // рекомендовано cppcoreguidelines\n",
    "void f(string s);    // обычно рекомендуют в coding styles компаний\n",
    "```"
   ]
  },
  {
   "cell_type": "markdown",
   "metadata": {},
   "source": [
    "<br />"
   ]
  },
  {
   "cell_type": "markdown",
   "metadata": {},
   "source": [
    "Теперь мы хотим передать параметр в конструктор, чтобы инициализировать поле класса:\n",
    "    \n",
    "```c++\n",
    "class Person\n",
    "{\n",
    "private:\n",
    "    std::string name;\n",
    "\n",
    "public:\n",
    "    Person(const std::string& n) : name(n) {}             // by const lvalue reference\n",
    "    Person(std::string n)        : name(std::move(n)) {}  // by value\n",
    "    Person(std::string&& n)      : name(std::move(n)) {}  // by mutable rvalue reference\n",
    "};\n",
    "```"
   ]
  },
  {
   "cell_type": "markdown",
   "metadata": {},
   "source": [
    "И проделаем аналогичное упражнение:\n",
    "    \n",
    "| ~                      | `Person(const string& n)` | `Person(string n)`    | `Person(string&& n)`  |\n",
    "|:-----------------------|:-------------------------:|:---------------------:|:---------------------:|\n",
    "| `Person(s)`            |                           |                       |                       |\n",
    "| `Person(std::move(s))` |                           |                       |                       |\n",
    "| `Person(make_name())`  |                           |                       |                       |\n",
    "\n",
    "**Ответ:**\n",
    "\n",
    "| ~                      | `Person(const string& n)` | `Person(string n)`    | `Person(string&& n)`  |\n",
    "|:-----------------------|:-------------------------:|:---------------------:|:---------------------:|\n",
    "| `Person(s)`            | copy                      | copy + move           | x                     |\n",
    "| `Person(std::move(s))` | copy                      | move + move           | move                  |\n",
    "| `Person(make_name())`  | copy                      | move + move           | move                  |\n",
    "\n",
    "\n",
    "Для инициализации полей класса:\n",
    "\n",
    "```c++\n",
    "Person(string&& s);  // рекомендовано cppcoreguidelines\n",
    "Person(string s);    // обычно рекомендуют в coding styles компаний\n",
    "```"
   ]
  },
  {
   "cell_type": "markdown",
   "metadata": {},
   "source": [
    "<br />"
   ]
  },
  {
   "cell_type": "markdown",
   "metadata": {},
   "source": [
    "##### Perfect forwarding && universal references"
   ]
  },
  {
   "cell_type": "markdown",
   "metadata": {},
   "source": [
    "https://isocpp.org/blog/2012/11/universal-references-in-c11-scott-meyers"
   ]
  },
  {
   "cell_type": "markdown",
   "metadata": {},
   "source": [
    "Для peformance-критичных участков кода хочется:\n",
    "* избежать даже лишних move-ов при передаче аргументов в функцию / конструктор, поэтому вариант `Person(string n)` не подходит.\n",
    "* но при этом писать адекватный код для lvalue-выражений\n",
    "\n",
    "Добавим в класс `Person` фамилию и помотрим как это можно сделать:\n",
    "\n",
    "```c++\n",
    "class Person\n",
    "{\n",
    "private:\n",
    "    string name_;\n",
    "    string surname_;\n",
    "    \n",
    "public:\n",
    "    Person(const string&  name, const string&  surname) : name_(name),            surname_(surname)            {}\n",
    "    Person(const string&  name,       string&& surname) : name_(name),            surname_(std::move(surname)) {}\n",
    "    Person(      string&& name, const string&  surname) : name_(std::move(name)), surname_(surname)            {}\n",
    "    Person(      string&& name,       string&& surname) : name_(std::move(name)), surname_(std::move(surname)) {}\n",
    "};\n",
    "```\n",
    "\n",
    "А потом добавим в `Person` отчество и вечер начинает быть томным."
   ]
  },
  {
   "cell_type": "markdown",
   "metadata": {},
   "source": [
    "<br />"
   ]
  },
  {
   "cell_type": "markdown",
   "metadata": {},
   "source": [
    "Вариант решения проблемы - perfect forwarding && universal references - особая запись особого типа. Сначала рассмотим на примере обычной функции от одного аргумента, потом вернёмся к `Person`:\n",
    "\n",
    "```c++\n",
    "template<typename T>\n",
    "void f(T&& t) { ... }\n",
    "```"
   ]
  },
  {
   "cell_type": "markdown",
   "metadata": {},
   "source": [
    "<u>Важный момент:</u> `T&&` конкретно в такой записи - это НЕ rvalue-reference, это universal reference!\n",
    "\n",
    "*Комитет делает всё возможное чтобы посильнее запутать программистов (нет), но вы должны быть грамотными!*"
   ]
  },
  {
   "cell_type": "markdown",
   "metadata": {},
   "source": [
    "Как это работает:\n",
    "\n",
    "* когда компилятор встречает вызов `f` от lvalue-выражения, он генерирует вариант `f(T&)` или `f(const T&)`\n",
    "* когда компилятор встречает вызов `f` от rvalue-выражения, он генерирует вариант `f(T&&)`"
   ]
  },
  {
   "cell_type": "markdown",
   "metadata": {},
   "source": [
    "Закинуть этот код на godbolt.org и продемонстрировать сколько функций сгенерировал компилятор. Не забыть `-O0 (gcc trunk)`:\n",
    "\n",
    "```c++\n",
    "#include <utility>\n",
    "\n",
    "template<typename T>\n",
    "void some_function(T&& t) {}\n",
    "\n",
    "int main()\n",
    "{\n",
    "    int x = 0;\n",
    "    some_function(x);\n",
    "\n",
    "    some_function(int(x));\n",
    "\n",
    "    const int& cref = x;\n",
    "    some_function(cref);\n",
    "}\n",
    "```"
   ]
  },
  {
   "cell_type": "markdown",
   "metadata": {},
   "source": [
    "<br />"
   ]
  },
  {
   "cell_type": "markdown",
   "metadata": {},
   "source": [
    "Возможная реализация `f`:\n",
    "\n",
    "```c++\n",
    "template<typename T>\n",
    "T turn_fury_on(T&& t)\n",
    "{\n",
    "    // make object to modify (either copy either move)\n",
    "    T rv(std::forward<T>(t));\n",
    "    \n",
    "    // modify object\n",
    "    for (auto& c : rv)\n",
    "        c = to_upper(c);\n",
    "    \n",
    "    return rv;\n",
    "}\n",
    "\n",
    "turn_fury_on(std::string(\"performance matters!\"));  // PERFORMANCE MATTERS!, move inside + NRVO\n",
    "\n",
    "std::string s = \"performance matters!\";\n",
    "turn_fury_on(s);  // PERFORMANCE MATTERS!, copy inside + NRVO\n",
    "```"
   ]
  },
  {
   "cell_type": "markdown",
   "metadata": {},
   "source": [
    "`std::forward` - специальный утилитарный однострочник в стандартной библиотеке, который помогает идеально передать параметры внутри функции. Выглядит он, например, так:\n",
    "\n",
    "```c++\n",
    "template<class T>\n",
    "T&& forward(typename std::remove_reference_t<T>& t) noexcept {\n",
    "  return static_cast<T&&>(t);\n",
    "}\n",
    "\n",
    "template <class T>\n",
    "T&& forward(typename std::remove_reference_t<T>&& t) noexcept {\n",
    "  return static_cast<T&&>(t);\n",
    "}\n",
    "```\n",
    "\n",
    "Или для конкретного типа после разворачивания шаблонов и подстановки universal reference:\n",
    "\n",
    "```c++\n",
    "string& forward(string& t) noexcept {\n",
    "  return static_cast<string&>(t);\n",
    "}\n",
    "\n",
    "string&& forward(string&& t) noexcept {\n",
    "  return static_cast<string&&>(t);\n",
    "}\n",
    "```"
   ]
  },
  {
   "cell_type": "markdown",
   "metadata": {},
   "source": [
    "<br />"
   ]
  },
  {
   "cell_type": "markdown",
   "metadata": {},
   "source": [
    "Тогда реализация perfect forwarding для класса `Person`:\n",
    "\n",
    "```c++\n",
    "class Person\n",
    "{\n",
    "private:\n",
    "    string name_;\n",
    "    string surname_;\n",
    "    \n",
    "public:\n",
    "    template<typename NameT, typename SurnameT>\n",
    "    Person(NameT&& name, SurnameT&& surname)\n",
    "        : name_(std::forward<NameT>(name))\n",
    "        , surname_(std::forward<SurnameT>(surname))\n",
    "    {}\n",
    "    // обратите внимание, что под name и surname\n",
    "    // выделены отдельные типы в шаблоне, т.к.\n",
    "    // один может быть lvalue, другой - rvalue\n",
    "};\n",
    "```\n",
    "\n",
    "и добавить отчество в класс уже не так страшно"
   ]
  },
  {
   "cell_type": "markdown",
   "metadata": {},
   "source": [
    "<br />"
   ]
  },
  {
   "cell_type": "markdown",
   "metadata": {},
   "source": [
    "**Замечание:** тип аргумента должен быть именно `Type&&`:\n",
    "\n",
    "```c++\n",
    "template<typename T>\n",
    "void f(T&& t);               // OK - universal reference\n",
    "\n",
    "template<typename T>\n",
    "void f(std::vector<T>&& t);  // !!! rvalue reference\n",
    "\n",
    "template<typename T>\n",
    "void f(const T&& t);         // !!! rvalue reference\n",
    "```"
   ]
  },
  {
   "cell_type": "markdown",
   "metadata": {},
   "source": [
    "<br />"
   ]
  },
  {
   "cell_type": "markdown",
   "metadata": {},
   "source": [
    "##### Резюме"
   ]
  },
  {
   "cell_type": "markdown",
   "metadata": {},
   "source": [
    "* move-семантика нужная для:\n",
    "    * скорости, чтобы избавиться от лишних копирований\n",
    "    * корректности, чтобы можно было возвращать некопируемые объекты\n",
    "* категории выражений, которые желательно понимать и различать обычным смертным: `lvalue`, `xvalue`, `prvalue`\n",
    "* после выполнения move-операции над классом он остаётся в unspecified valid state (за некоторыми отдельно прописанными исключениями типа `std::unique_ptr`, `std::shared_ptr`, кастомных классов и т.п.)\n",
    "* автогенерированные move-операции работают по полям и могут нарушать инварианты, будьте внимательны\n",
    "* POD-типы move-ать бесмысленно\n",
    "* Ooops:\n",
    "\n",
    "    ```c++\n",
    "    vector<int> v(...);\n",
    "    v = std::move(v);\n",
    "    ```\n",
    "\n",
    "* `std::move`:\n",
    "    * std move does not move, это изменение категории выражения\n",
    "    * std move чаще всего нужен, чтобы mutable lvalue скастовать в rvalue:\n",
    "    \n",
    "    ```c++\n",
    "    std::string s = ...;\n",
    "    v.push_back(std::move(s));\n",
    "    ```\n",
    "    \n",
    "* если нужно изменять передаваемый в функцию объект, то использовать передачу:\n",
    "\n",
    "    ```c++\n",
    "    f(string s);\n",
    "    f(string&& s)\n",
    "    ```\n",
    "\n",
    "* perfect forwarding - способ универсально и оптимально передавать объекты в функции"
   ]
  }
 ],
 "metadata": {
  "kernelspec": {
   "display_name": "Python 3",
   "language": "python",
   "name": "python3"
  },
  "language_info": {
   "codemirror_mode": {
    "name": "ipython",
    "version": 3
   },
   "file_extension": ".py",
   "mimetype": "text/x-python",
   "name": "python",
   "nbconvert_exporter": "python",
   "pygments_lexer": "ipython3",
   "version": "3.6.9"
  }
 },
 "nbformat": 4,
 "nbformat_minor": 2
}
