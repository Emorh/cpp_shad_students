{
 "cells": [
  {
   "cell_type": "markdown",
   "metadata": {},
   "source": [
    "# Иерархия памяти CPU"
   ]
  },
  {
   "cell_type": "markdown",
   "metadata": {},
   "source": [
    "Попытаемся ответить на вопрос, что происходит в железе, когда мы выполняем такой код, сколько тактов он работает:\n",
    "\n",
    "```c++\n",
    "int b = 5;\n",
    "\n",
    "...;\n",
    "\n",
    "int a = b + 3;  // b - переменная на стеке (предположим, компилятор во время оптимизаций её не выкинул)\n",
    "```"
   ]
  },
  {
   "cell_type": "markdown",
   "metadata": {},
   "source": [
    "_(Рисовать как дотянуть переменную `b` из RAM до регистров и зачем нужны кеши)_"
   ]
  },
  {
   "cell_type": "markdown",
   "metadata": {},
   "source": [
    "<br />\n",
    "<br />\n",
    "<br />\n",
    "<br />\n",
    "<br />\n",
    "<br />\n",
    "<br />\n",
    "<br />\n"
   ]
  },
  {
   "cell_type": "markdown",
   "metadata": {},
   "source": [
    "![](mem_hierarchy_single_cpu.png)"
   ]
  },
  {
   "cell_type": "markdown",
   "metadata": {},
   "source": [
    "<br />"
   ]
  },
  {
   "cell_type": "markdown",
   "metadata": {},
   "source": [
    "**Cache line**:"
   ]
  },
  {
   "cell_type": "markdown",
   "metadata": {},
   "source": [
    "Когда данные идут из памяти в регистры через кеши, они идут блоками по (обычно) 64 байта. Этими же блоками они оседают в кешах памяти. Такой блок называется cache line.\n",
    "\n",
    "`64 byte == 8 x int64_t == 8 x double == 16 x int32_t == 16 x float`"
   ]
  },
  {
   "cell_type": "markdown",
   "metadata": {},
   "source": [
    "Рассмотрим функцию, суммирующую элементы массива:\n",
    "\n",
    "```c++\n",
    "float sum(const std::vector<float>& v)\n",
    "{\n",
    "    float rv = 0;\n",
    "    for (float x : v)\n",
    "        rv += x;\n",
    "    return rv;\n",
    "}\n",
    "```"
   ]
  },
  {
   "cell_type": "markdown",
   "metadata": {},
   "source": [
    "_(Рисовать как будут бегать данные между памятью и кешами для этой функции)_"
   ]
  },
  {
   "cell_type": "markdown",
   "metadata": {},
   "source": [
    "<br />"
   ]
  },
  {
   "cell_type": "markdown",
   "metadata": {},
   "source": [
    "## Многопоточность и cache line-ы. Разреженность"
   ]
  },
  {
   "cell_type": "markdown",
   "metadata": {},
   "source": [
    "Рассмотрим две очень похожие функции, суммирующие вектор в 4 потока:"
   ]
  },
  {
   "cell_type": "markdown",
   "metadata": {},
   "source": [
    "```c++\n",
    "unsigned sum_4T_cache_hits(const std::vector<unsigned>& v) {\n",
    "  const unsigned n = v.size();\n",
    "\n",
    "  std::vector<unsigned> sums(4, 0);\n",
    "\n",
    "  const auto calc_sum = [&v, &sums](\n",
    "      unsigned start_ix,\n",
    "      unsigned final_ix,\n",
    "      unsigned sum_ix) {\n",
    "    unsigned &psum = sums[sum_ix];\n",
    "    for (unsigned i = start_ix; i < final_ix; ++i)\n",
    "      psum += v[i];\n",
    "  };\n",
    "\n",
    "  std::thread t1(calc_sum, n * 0/4, n * 1/4, 0);\n",
    "  std::thread t2(calc_sum, n * 1/4, n * 2/4, 1);\n",
    "  std::thread t3(calc_sum, n * 2/4, n * 3/4, 2);\n",
    "  std::thread t4(calc_sum, n * 3/4, n * 4/4, 3);\n",
    "  t1.join(); t2.join(); t3.join(); t4.join();\n",
    "\n",
    "  return sums[0] + sums[1] + sums[2] + sums[3];\n",
    "}\n",
    "```"
   ]
  },
  {
   "cell_type": "markdown",
   "metadata": {},
   "source": [
    "```c++\n",
    "unsigned sum_4T_no_cache_hits(const std::vector<unsigned>& v) {\n",
    "  const unsigned n = v.size();\n",
    "\n",
    "  std::vector<unsigned> sums(1024, 0);\n",
    "\n",
    "  const auto calc_sum = [&v, &sums](\n",
    "      unsigned start_ix,\n",
    "      unsigned final_ix,\n",
    "      unsigned sum_ix) {\n",
    "    unsigned s = 0;\n",
    "    for (unsigned i = start_ix; i < final_ix; ++i)\n",
    "      s += v[i];\n",
    "    sums[sum_ix] = s;\n",
    "  };\n",
    "\n",
    "  std::thread t1(calc_sum, n * 0/4, n * 1/4, 0);\n",
    "  std::thread t2(calc_sum, n * 1/4, n * 2/4, 203);\n",
    "  std::thread t3(calc_sum, n * 2/4, n * 3/4, 405);\n",
    "  std::thread t4(calc_sum, n * 3/4, n * 4/4, 978);\n",
    "  t1.join(); t2.join(); t3.join(); t4.join();\n",
    "\n",
    "  return sums[0] + sums[203] + sums[405] + sums[978];\n",
    "}\n",
    "```"
   ]
  },
  {
   "cell_type": "markdown",
   "metadata": {},
   "source": [
    "Вторая реализация работает (на моей локальной машине) на 14% быстрее.\n",
    "\n",
    "_объяснить причину, нарисовать_"
   ]
  },
  {
   "cell_type": "markdown",
   "metadata": {},
   "source": [
    "<br />"
   ]
  },
  {
   "cell_type": "markdown",
   "metadata": {},
   "source": [
    "**За пределами рассказа**:\n",
    "* ассоциативность кешей\n",
    "* NUMA"
   ]
  }
 ],
 "metadata": {
  "kernelspec": {
   "display_name": "Python 3 (ipykernel)",
   "language": "python",
   "name": "python3"
  },
  "language_info": {
   "codemirror_mode": {
    "name": "ipython",
    "version": 3
   },
   "file_extension": ".py",
   "mimetype": "text/x-python",
   "name": "python",
   "nbconvert_exporter": "python",
   "pygments_lexer": "ipython3",
   "version": "3.9.6"
  }
 },
 "nbformat": 4,
 "nbformat_minor": 2
}
