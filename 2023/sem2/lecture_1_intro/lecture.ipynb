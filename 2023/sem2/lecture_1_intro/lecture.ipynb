{
 "cells": [
  {
   "cell_type": "markdown",
   "metadata": {},
   "source": [
    "### Организационная лекция"
   ]
  },
  {
   "cell_type": "markdown",
   "metadata": {},
   "source": [
    "<br />"
   ]
  },
  {
   "cell_type": "markdown",
   "metadata": {},
   "source": [
    "##### Тематика второго (продвинутого) курса по С++"
   ]
  },
  {
   "cell_type": "markdown",
   "metadata": {},
   "source": [
    "* Многопоточность\n",
    "    * Понятие потока\n",
    "    * Как создавать и завершать поток\n",
    "    * Внутреннее устройство потоков\n",
    "    * Языковые средства коммуникации между потоками\n",
    "    * Race condition и средства борьбы с ними\n",
    "    * Атомарные операции и введение в lock-free\n",
    "\n",
    "\n",
    "* Конструкции языка:\n",
    "    * move-семантика\n",
    "    * compile-time вычисления\n",
    "    * undefined behavior\n",
    "    * advanced templates\n",
    "\n",
    "\n",
    "* Популярные трюки:\n",
    "    * ranges\n",
    "    * форматирование строк"
   ]
  },
  {
   "cell_type": "markdown",
   "metadata": {},
   "source": [
    "<br />"
   ]
  },
  {
   "cell_type": "markdown",
   "metadata": {},
   "source": [
    "##### Прочие орг. вопросы\n",
    "* система выставления оценок\n",
    "* пятиминутки\n",
    "* исходники курса на github"
   ]
  }
 ],
 "metadata": {
  "kernelspec": {
   "display_name": "Python 3 (ipykernel)",
   "language": "python",
   "name": "python3"
  },
  "language_info": {
   "codemirror_mode": {
    "name": "ipython",
    "version": 3
   },
   "file_extension": ".py",
   "mimetype": "text/x-python",
   "name": "python",
   "nbconvert_exporter": "python",
   "pygments_lexer": "ipython3",
   "version": "3.9.6"
  }
 },
 "nbformat": 4,
 "nbformat_minor": 2
}
