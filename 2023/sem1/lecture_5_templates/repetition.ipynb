{
 "cells": [
  {
   "cell_type": "markdown",
   "metadata": {},
   "source": [
    "**Вопросы для повторения:**\n",
    "* Какой способ реализации механизма вызовов виртуальных функций мы смотрели на прошлой лекции?\n",
    "* Что такое чисто виртуальные функции, зачем они нужны?\n",
    "* Что такое `override`, зачем он нужен?\n",
    "* Как компилятор принимает решение: задействовать механизм вызова виртуальных функций или сгенерировать обычный вызов метода?\n",
    "* Какой здесь видите недостаток?\n",
    "\n",
    "```c++\n",
    "class Animal {\n",
    "    bool is_alive;\n",
    "    std::int32_t age;\n",
    "    std::string name;\n",
    "    bool can_fly;\n",
    "};\n",
    "\n",
    "class Cat : public Animal {\n",
    "    std::string breed;\n",
    "};\n",
    "```\n",
    "\n",
    "* Чем `class` отличается от `struct`?\n",
    "* Что даёт модификатор `const` у метода класса? Зачем он нужен?"
   ]
  }
 ],
 "metadata": {
  "kernelspec": {
   "display_name": "Python 3",
   "language": "python",
   "name": "python3"
  },
  "language_info": {
   "codemirror_mode": {
    "name": "ipython",
    "version": 3
   },
   "file_extension": ".py",
   "mimetype": "text/x-python",
   "name": "python",
   "nbconvert_exporter": "python",
   "pygments_lexer": "ipython3",
   "version": "3.6.9"
  }
 },
 "nbformat": 4,
 "nbformat_minor": 2
}
