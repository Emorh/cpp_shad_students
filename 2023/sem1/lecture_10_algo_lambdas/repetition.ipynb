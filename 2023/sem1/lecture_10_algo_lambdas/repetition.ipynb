{
 "cells": [
  {
   "cell_type": "markdown",
   "metadata": {},
   "source": [
    "**Вопросы для повторения:**\n",
    "\n",
    "* что такое calling convention?\n",
    "* что такое RVO / NRVO / copy elision простыми словами?\n",
    "* Какие рекомендации по возвращению объекта из функции?\n",
    "\n",
    "<details>\n",
    "<summary>Ответ</summary>\n",
    "<p>\n",
    "\n",
    "```c++\n",
    "предпочтительнее конструировать объект в return, чтобы отработал copy elision, компилятор его гарантирует\n",
    "\n",
    "  House build() {\n",
    "      ...\n",
    "      return House(...);\n",
    "  }\n",
    "если без именованного объекта не обойтись, желательно заиспользовать NRVO (и молиться на добрую волю компилятора)\n",
    "\n",
    "  House build(bool stone) {\n",
    "      House house;\n",
    "      if (stone) {\n",
    "          ... // setup stone house\n",
    "      } else {\n",
    "          ... // setup another house\n",
    "      }\n",
    "      return house;\n",
    "  }\n",
    "```\n",
    "\n",
    "</p>\n",
    "</details>"
   ]
  }
 ],
 "metadata": {
  "kernelspec": {
   "display_name": "Python 3 (ipykernel)",
   "language": "python",
   "name": "python3"
  },
  "language_info": {
   "codemirror_mode": {
    "name": "ipython",
    "version": 3
   },
   "file_extension": ".py",
   "mimetype": "text/x-python",
   "name": "python",
   "nbconvert_exporter": "python",
   "pygments_lexer": "ipython3",
   "version": "3.9.6"
  }
 },
 "nbformat": 4,
 "nbformat_minor": 2
}
