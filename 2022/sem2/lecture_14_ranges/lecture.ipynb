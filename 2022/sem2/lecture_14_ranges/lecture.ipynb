{
 "cells": [
  {
   "cell_type": "markdown",
   "metadata": {},
   "source": [
    "### ranges"
   ]
  },
  {
   "cell_type": "markdown",
   "metadata": {},
   "source": [
    "[std ranges (v3) (since C++20)](https://en.cppreference.com/w/cpp/ranges)\n",
    "\n",
    "[boost ranges (v2)](https://www.boost.org/doc/libs/1_72_0/libs/range/doc/html/index.html)\n",
    "\n",
    "**Доклады**:\n",
    "* [Effective Ranges: A Tutorial for Using C++2x Ranges - Jeff Garland - CppCon 2023](https://youtu.be/QoaVRQvA6hI?list=PLHTh1InhhwT7gQEuYznhhvAYTel0qzl72)\n",
    "* [C++20 Ranges in Practice - Tristan Brindle - CppCon 2020](https://www.youtube.com/watch?v=d_E-VLyUnzc)"
   ]
  },
  {
   "cell_type": "markdown",
   "metadata": {},
   "source": [
    "<br />"
   ]
  },
  {
   "cell_type": "markdown",
   "metadata": {},
   "source": [
    "#####  Откуда пошли и зачем нужны ranges"
   ]
  },
  {
   "cell_type": "markdown",
   "metadata": {},
   "source": [
    "В STL набор элементов всегда представлен парой итераторов `[begin, end)`.\n",
    "\n",
    "Поэтому код сортировки или проверки нахождения элемента в массиве выглядят так:\n",
    "\n",
    "```c++\n",
    "std::vector<std::string> students_in_the_class = ...;\n",
    "std::sort(students_in_the_class.begin(),\n",
    "          students_in_the_class.end());\n",
    "\n",
    "if (std::find(students_in_the_class.begin(),\n",
    "              students_in_the_class.end(),\n",
    "              \"Those boy Einstein\") != students_in_the_class.end())\n",
    "{\n",
    "    std::cout << \"Oh my God!\" << std::endl;\n",
    "}\n",
    "```\n",
    "\n",
    "А хотелось бы чего-нибудь такого:\n",
    "\n",
    "```c++\n",
    "std::vector<std::string> students_in_the_class = ...;\n",
    "std::sort(students_in_the_class);  // won't compile\n",
    "\n",
    "if (std::contains(students_in_the_class, \"Those boy Einstein\"))  // won't compile\n",
    "{\n",
    "    std::cout << \"Oh my God!\" << std::endl;\n",
    "}\n",
    "```"
   ]
  },
  {
   "cell_type": "markdown",
   "metadata": {},
   "source": [
    "<br />"
   ]
  },
  {
   "cell_type": "markdown",
   "metadata": {},
   "source": [
    "Первая же идея, которая часто приходит в голову: давайте сделаем шаблонный тип - последовательность, хранящий в себе произвольную пару `[begin, end)`, и научим алгоритмы работать с ним. Вот мы и придумали простой вариант `Range`.\n",
    "\n",
    "Но этим все желания не ограничиваются. Что хочется ещё:\n",
    "\n",
    "1. действия над объектами (фильтрация, преобразование ...):\n",
    "\n",
    "    ```c++\n",
    "    auto numbers_rng = /* range of integers: 1, 2, 3, 4, 5 */;\n",
    "    auto even_sqr_numbers = numbers_rns.filter(is_even).transform(sqr); /* range: 4, 16 */\n",
    "    ```\n",
    "\n",
    "2. чтобы программист решал, хочет он ленивое вычисление `even_sqr_numbers` или вычисление всего сразу\n",
    "\n",
    "    в таком варианте хочется не вычислять 500 квадратов, а найти первый и остановиться\n",
    "\n",
    "    ```c++\n",
    "    {\n",
    "        auto numbers_rng = /* range of integers: 1, 2, 3, 4, 5, 6, .... 1000 */;\n",
    "        auto even_sqr_numbers = numbers_rns.filter(is_even).transform(sqr); /* range: 4, 16, 36, ... */\n",
    "        std::cout << *even_sqr_numbers.begin();\n",
    "    }\n",
    "    ```\n",
    "    \n",
    "3. читабельность / производительность / расширяемость / быструю компиляцию / принцессу / полцарства / быть владычицей морскою"
   ]
  },
  {
   "cell_type": "markdown",
   "metadata": {},
   "source": [
    "<br />"
   ]
  },
  {
   "cell_type": "markdown",
   "metadata": {},
   "source": [
    "##### Мотивационные примеры"
   ]
  },
  {
   "cell_type": "markdown",
   "metadata": {},
   "source": [
    "Продемонстрируем возможности std::ranges (v3) по сравнению с обычной библиотекой алгоритмов."
   ]
  },
  {
   "cell_type": "markdown",
   "metadata": {},
   "source": [
    "Определим пару вспомогательных вещей:\n",
    "\n",
    "```c++\n",
    "namespace rs = ranges::v3;\n",
    "namespace rv = ranges::v3::view;\n",
    "namespace ra = ranges::v3::action;\n",
    "\n",
    "std::vector<int> v = {1, 1, 2, 3, 5, 8, 13, 21, 34};\n",
    "\n",
    "bool is_even(int x) {\n",
    "    return x % 2 == 0;\n",
    "}\n",
    "\n",
    "void print_item(int x) {\n",
    "  std::cout << x << std::endl;\n",
    "}\n",
    "```"
   ]
  },
  {
   "cell_type": "markdown",
   "metadata": {},
   "source": [
    "<br />"
   ]
  },
  {
   "cell_type": "markdown",
   "metadata": {},
   "source": [
    "**Задача**: распечатать все элементы вектора в обратном порядке:\n",
    "\n",
    "```c++\n",
    "// std\n",
    "std::for_each(v.rbegin(), v.rend(), print_item);\n",
    "\n",
    "// ranges\n",
    "for (int x : v | rv::reverse)\n",
    "    print_item(x);\n",
    "```\n"
   ]
  },
  {
   "cell_type": "markdown",
   "metadata": {},
   "source": [
    "<br />"
   ]
  },
  {
   "cell_type": "markdown",
   "metadata": {},
   "source": [
    "**Задача**: распечатать все чётные элементы вектора в обратном порядке:\n",
    "\n",
    "```c++\n",
    "// std\n",
    "std::for_each(v.rbegin(), v.rend(),\n",
    "              [&](int x) {\n",
    "                  if (is_even(x))\n",
    "                      print_item(x);\n",
    "              });\n",
    "\n",
    "// ranges\n",
    "for (int x : v | rv::reverse | rv::filter(is_even))\n",
    "   print_elem(x);\n",
    "```"
   ]
  },
  {
   "cell_type": "markdown",
   "metadata": {},
   "source": [
    "<br />"
   ]
  },
  {
   "cell_type": "markdown",
   "metadata": {},
   "source": [
    "**Задача**: положить в вектор квадраты чётных чисел от 1 до 100\n",
    "\n",
    "```c++\n",
    "// std\n",
    "std::vector<int> v;\n",
    "for (int n = 1; n < 101; ++n)\n",
    "    if (is_even(n))\n",
    "        v.push_back(sqr(n));\n",
    "\n",
    "// ranges\n",
    "auto v = rs::iota_view(1, 101)\n",
    "        | rv::filter(is_even)\n",
    "        | rv::transform(sqr)\n",
    "        | rv::to<std::vector>;\n",
    "```"
   ]
  },
  {
   "cell_type": "markdown",
   "metadata": {},
   "source": [
    "<br />"
   ]
  },
  {
   "cell_type": "markdown",
   "metadata": {},
   "source": [
    "**Задача**: положить в вектор три наибольших числа из промежутка `[100, 200]`, делящиеся на 7, в порядке убывания\n",
    "\n",
    "```c++\n",
    "// std\n",
    "std::vector<int> v;\n",
    "for (int n = 200, count = 0; n >= 100 && count < 3; --n)\n",
    "{\n",
    "    if (n % 7 == 0)\n",
    "    {\n",
    "        v.push_back(n);\n",
    "        ++count;\n",
    "    }\n",
    "}\n",
    "\n",
    "// ranges\n",
    "auto v = rs::iota_view(100, 201)\n",
    "       | rv::reverse\n",
    "       | rv::filter([](int x){ return x % 7 == 0; })\n",
    "       | rv::take(3)\n",
    "       | rs::to<std::vector>;\n",
    "```"
   ]
  },
  {
   "cell_type": "markdown",
   "metadata": {},
   "source": [
    "<br />"
   ]
  },
  {
   "cell_type": "markdown",
   "metadata": {},
   "source": [
    "**Задача**: отсортировать вектор по убыванию и оставить уникальные элементы\n",
    "\n",
    "```c++\n",
    "// std\n",
    "std::sort(v.begin(), v.end());\n",
    "v.erase(std::unique(v.begin(), v.end()), v.end());\n",
    "std::reverse(v.begin(), v.end());\n",
    "\n",
    "// ranges\n",
    "v = std::move(v) | ra::sort |  ra::unique | ra::reverse;\n",
    "```"
   ]
  },
  {
   "cell_type": "markdown",
   "metadata": {},
   "source": [
    "<br />"
   ]
  },
  {
   "cell_type": "markdown",
   "metadata": {},
   "source": [
    "**Задача**: собрать все ключи отображения в вектор\n",
    "\n",
    "```c++\n",
    "std::map<int, std::string> m;\n",
    "\n",
    "// std\n",
    "std::vector<int> v;\n",
    "for (const auto& [k, _]: m)\n",
    "    v.push_back(k);\n",
    "\n",
    "// ranges\n",
    "auto v = m | rv::keys | rs::to<std::vector>;\n",
    "```"
   ]
  },
  {
   "cell_type": "markdown",
   "metadata": {},
   "source": [
    "<br />"
   ]
  },
  {
   "cell_type": "markdown",
   "metadata": {},
   "source": [
    "##### views are lazy, actions are eager"
   ]
  },
  {
   "cell_type": "markdown",
   "metadata": {},
   "source": [
    "Кроме `range` в range-v3 ещё есть `view` и `action`.\n",
    "\n",
    "Их основное отличие:\n",
    "* `view` вычисляют результат лениво\n",
    "* `action` вычисляют результат сразу"
   ]
  },
  {
   "cell_type": "markdown",
   "metadata": {},
   "source": [
    "С `action` всё более-менее понятно:\n",
    "\n",
    "```c++\n",
    "std::vector<std::string> v1;\n",
    "auto v2 = v1 | ra::sort | ra::unique;\n",
    "\n",
    "// v2 - готовый std::vector<std::string>\n",
    "```"
   ]
  },
  {
   "cell_type": "markdown",
   "metadata": {},
   "source": [
    "<br />"
   ]
  },
  {
   "cell_type": "markdown",
   "metadata": {},
   "source": [
    "Разберёмся с lazy-свойством у `view`:"
   ]
  },
  {
   "cell_type": "markdown",
   "metadata": {},
   "source": [
    "```c++\n",
    "std::vector<int> v = {1, 2, 3, 4, 5};\n",
    "auto even_numbers = v | rv::reverse | rv::filter(is_even);\n",
    "// к этой строке функция |is_even| не была вызвана ни разу\n",
    "\n",
    "std::cout << *rg::begin(even_numbers);\n",
    "// Вопрос: сколько раз is_even должен позваться здесь?\n",
    "```"
   ]
  },
  {
   "cell_type": "markdown",
   "metadata": {},
   "source": [
    "**Вопрос:**\n",
    "\n",
    "* как можно было бы организовать `rv::reverse` внутри, чтобы обеспечить ленивое вычисление\n",
    "* как можно было бы организовать `rv::filter` внутри, чтобы обеспечить ленивое вычисление\n",
    "\n",
    "<details>\n",
    "<summary>возможный ответ</summary>\n",
    "    \n",
    "* `reverse`-объект (адаптер) хранит ссылку на ренж, который ему пришёл\n",
    "* `filter`-объект (адаптер) хранит ссылку на ренж, который ему пришёл\n",
    "* у `reverse` и у `filter` будут спрашивать итераторы, когда по ним будут итерироваться\n",
    "* `reverse` должен вернуть reverse iterator\n",
    "* `filter` должен вернуть особый итератор, который в своём `operator++` будет пропускать элементы исходного рэнжа, пока не выполнится условие\n",
    "    \n",
    "</details>"
   ]
  },
  {
   "cell_type": "markdown",
   "metadata": {},
   "source": [
    "**Вопрос:** что не так с этим кодом?\n",
    "\n",
    "```c++\n",
    "auto generate_even_numbers_view(int max_num)\n",
    "{\n",
    "    std::vector<int> v;\n",
    "    for (int i = 0; i <= max_num; ++i)\n",
    "        v.push_back(i);\n",
    "    \n",
    "    return v | rv::filter(is_even);\n",
    "}\n",
    "```"
   ]
  },
  {
   "cell_type": "markdown",
   "metadata": {},
   "source": [
    "**Вопрос:** что-нибудь напоминает?"
   ]
  },
  {
   "cell_type": "markdown",
   "metadata": {},
   "source": [
    "<br />"
   ]
  },
  {
   "cell_type": "markdown",
   "metadata": {},
   "source": [
    "**Замечание**: Вы можете создавать собственные `view` / `action`, но это немного хардкорно сделано в ranges-v3, и поэтому не войдёт в рамки лекции."
   ]
  },
  {
   "cell_type": "markdown",
   "metadata": {},
   "source": [
    "<br />"
   ]
  },
  {
   "cell_type": "markdown",
   "metadata": {},
   "source": [
    "##### ranges-v3 features: generalized callables && projections"
   ]
  },
  {
   "cell_type": "markdown",
   "metadata": {},
   "source": [
    "Generalized callables - фича, позволяющая передавать в range-алгоритмы конструкции, которые нельзя передавать в обычные алгоритмы.\n",
    "\n",
    "Например, указатель на метод класса нельзя передать в обычный алгоритм, а в range-алгоритмы можно:\n",
    "\n",
    "```c++\n",
    "class Widget {\n",
    "public:\n",
    "  void hide();\n",
    "};\n",
    "\n",
    "std::vector<Widget> widgets { /*...*/ };\n",
    "\n",
    "// compiler error\n",
    "// std::for_each(widgets.begin(), widgets.end(), &Widget::hide);\n",
    "\n",
    "// ok for ranges\n",
    "rg::for_each(widgets, &Widget::hide);\n",
    "```"
   ]
  },
  {
   "cell_type": "markdown",
   "metadata": {},
   "source": [
    "**Вопрос:** скомпилируется ли такой код?\n",
    "\n",
    "```c++\n",
    "class Widget {\n",
    "public:\n",
    "  void set_visible(bool is_visible);\n",
    "};\n",
    "\n",
    "std::vector<Widget> widgets { /*...*/ };\n",
    "rg::for_each(widgets, &Widget::set_visible);\n",
    "```\n",
    "\n",
    "<details>\n",
    "<summary>ещё вопрос</summary>\n",
    "    \n",
    "а как сделать чтобы скомпилировался?\n",
    "    \n",
    "</details>"
   ]
  },
  {
   "cell_type": "markdown",
   "metadata": {},
   "source": [
    "<br />"
   ]
  },
  {
   "cell_type": "markdown",
   "metadata": {},
   "source": [
    "Projections - возможность \"проецировать\" объекты в алгоритмах через callable."
   ]
  },
  {
   "cell_type": "markdown",
   "metadata": {},
   "source": [
    "Например: подставлять указатель на поле класса (проекция всего объекта на какое-то из его полей).\n",
    "\n",
    "```c++\n",
    "struct Person\n",
    "{\n",
    "  std::size_t age;\n",
    "  std::string name;\n",
    "};\n",
    "\n",
    "std::vector<Person> people = { /*...*/ };\n",
    "\n",
    "// отсортировать людей по имени\n",
    "rs::sort(people, rg::less{}, &Person::name);\n",
    "\n",
    "// проверить, что есть человек Добрыня\n",
    "std::cout << \"Is Dobrynia here: \" << rs::contains(people, \"Dobrynia\", &Person::name));\n",
    "```"
   ]
  },
  {
   "cell_type": "markdown",
   "metadata": {},
   "source": [
    "Например: преобразовать объект в другой объект через функцию / лямбду (проекция как функция в другое пространство)\n",
    "        \n",
    "```c++\n",
    "struct Point\n",
    "{\n",
    "    float x;\n",
    "    float y;\n",
    "};\n",
    "\n",
    "std::array<Point, 10> points = { /*...*/ };\n",
    "\n",
    "// найти точку с расстоянием до начала координат равным 5\n",
    "auto it = rs::find(points, 5.0, [](Point p) { return sqrt(p.x*p.x + p.y*p.y); });\n",
    "```    "
   ]
  },
  {
   "cell_type": "markdown",
   "metadata": {},
   "source": [
    "<br />"
   ]
  },
  {
   "cell_type": "markdown",
   "metadata": {},
   "source": [
    "##### range generators"
   ]
  },
  {
   "cell_type": "markdown",
   "metadata": {},
   "source": [
    "Билиотека предоставляет тривиальные генераторы ренжей. Ходят слухи по сети интернет, что они бывают полезны:\n",
    "    \n",
    "```c++\n",
    "rv::iota(i)       // generates infinite range [i, i+1, i+2, i+3, ...)\n",
    "rv::iota(i, j)    // generates [i, i+1, i+2, ..., j-1] (or [i,j))\n",
    "rv::single(x)     // generates range of single element x\n",
    "rv::empty<T>      // generates empty range\n",
    "rv::counted(x, n) // generates range [x, x, ..., x] of size n\n",
    "```"
   ]
  },
  {
   "cell_type": "markdown",
   "metadata": {},
   "source": [
    "Если с конечными рэнжами всё более-менее понятно, то бесконечный ренж `rv::iota(i)` не сразу понятно как использовать.\n",
    "\n",
    "Напомню, что числа он генерирует ленивым образом. Т.е. пока его не попросили, новое число он не посчиитает.\n",
    "\n",
    "Логично, что пытаться сконструировать из него `std::vector` - так себе идея. Надо как-то обрывать его работу. Можно сделать это, например, через view-адаптер `take(n)`:\n",
    "\n",
    "```c++\n",
    "auto v = rv::iota(1)\n",
    "       | rv::filter(is_even)\n",
    "       | rv::transform(sqr)\n",
    "       | rv::take(6)\n",
    "       | rs::to<std::vector>();\n",
    "```"
   ]
  },
  {
   "cell_type": "markdown",
   "metadata": {},
   "source": [
    "<br />"
   ]
  },
  {
   "cell_type": "markdown",
   "metadata": {},
   "source": [
    "##### Примеры того, когда НЕ надо использовать рэнжи"
   ]
  },
  {
   "cell_type": "markdown",
   "metadata": {},
   "source": [
    "Сайт Эрика Ниблера содержит хорошие примеры с рэнжами.\n",
    "\n",
    "На мой субъективный вгляд, часть из них - примеры того, когда рэнжи вредны, и вместо них лучше было бы написать стандартный алгоритм. Но у других программистов может быть другое представление о прекрасном."
   ]
  },
  {
   "cell_type": "markdown",
   "metadata": {},
   "source": [
    "**Пример**: сумма квадратов первых 10 чисел:\n",
    "\n",
    "```c++\n",
    "// ranges\n",
    "const int sum = rs::accumulate(rv::ints(1)\n",
    "                               | rv::transform([](int i){ return i*i; })\n",
    "                               | rv::take(10), 0);\n",
    "\n",
    "// std\n",
    "int sum = 0;\n",
    "for (int i = 1; i < 11; ++i)\n",
    "    sum += i * i;\n",
    "```\n"
   ]
  },
  {
   "cell_type": "markdown",
   "metadata": {},
   "source": [
    "**Пример**: генерация `vector<int>`, где элемент `i` повторён `i` раз, `v == {1,2,2,3,3,3,4,4,4,4,5,5,5,5,5,...}`:\n",
    "\n",
    "```c++\n",
    "// ranges\n",
    "const auto v = rv::for_each(rv::ints(1, 10),\n",
    "                            [](int i) {\n",
    "                                return yield_from(rv::repeat_n(i, i));\n",
    "                            })\n",
    "               | to<std::vector>();\n",
    "\n",
    "// std\n",
    "std::vector<int> v;\n",
    "for (int i = 1; i < 10; ++i)\n",
    "    for (int x = 0; x < i; ++x)\n",
    "        v.push_back(i);\n",
    "```"
   ]
  },
  {
   "cell_type": "markdown",
   "metadata": {},
   "source": [
    "**Пример**: Пифагоровы тройки чисел тут http://ericniebler.com/2018/12/05/standard-ranges/"
   ]
  },
  {
   "cell_type": "markdown",
   "metadata": {},
   "source": [
    "**Замечание**: в каждом конкретном случае руководствуйтесь своим собственным представлением о прекрасном (другого у вас, скорее всего, нет). В первую очередь - простота и читаемость."
   ]
  },
  {
   "cell_type": "markdown",
   "metadata": {},
   "source": [
    "<br />"
   ]
  },
  {
   "cell_type": "markdown",
   "metadata": {},
   "source": [
    "##### TPOIASI problem"
   ]
  },
  {
   "cell_type": "markdown",
   "metadata": {},
   "source": [
    "https://www.fluentcpp.com/2019/02/12/the-terrible-problem-of-incrementing-a-smart-iterator/\n",
    "\n",
    "https://www.fluentcpp.com/2019/04/16/an-alternative-design-to-iterators-and-ranges-using-stdoptional/\n",
    "\n",
    "https://www.fluentcpp.com/2019/02/15/how-smart-output-iterators-fare-with-the-terrible-problem-of-incrementing-a-smart-iterator/"
   ]
  },
  {
   "cell_type": "markdown",
   "metadata": {},
   "source": [
    "TPOIASI - шуточное называние проблемы лишних вычислений при работе с ranges.\n",
    "\n",
    "TPOIASI = Terrible Problem Of Incrementing A Smart Iterator"
   ]
  },
  {
   "cell_type": "markdown",
   "metadata": {},
   "source": [
    "Иллюстрация проблемы:\n",
    "    \n",
    "```c++\n",
    "int transform_fn(int x)\n",
    "{\n",
    "    std::cout << \"transform is called for \" << x << std::end;\n",
    "    return x * 2;\n",
    "}\n",
    "\n",
    "bool filter_fn(int x)\n",
    "{\n",
    "    return x % 4 == 0;\n",
    "}\n",
    "\n",
    "std::vector<int> numbers = {1, 2, 3, 4, 5};\n",
    "std::vector<int> results;\n",
    "for (int x : numbers | rv::transform(transform_fn)\n",
    "                     | rv::filter(filter_fn))\n",
    "     results.push_back(x);\n",
    "```"
   ]
  },
  {
   "cell_type": "markdown",
   "metadata": {},
   "source": [
    "В результате отработки кода будет выведено:\n",
    "    \n",
    "```sh\n",
    "transform is called for 1\n",
    "transform is called for 2  # !!!\n",
    "transform is called for 2  # !!!\n",
    "transform is called for 3\n",
    "transform is called for 4  # !!!\n",
    "transform is called for 4  # !!!\n",
    "transform is called for 5\n",
    "```"
   ]
  },
  {
   "cell_type": "markdown",
   "metadata": {},
   "source": [
    "Проблема в том, что при проходе по рэнжу нужно делать 2 операции: `operator++` и `operator*`.\n",
    "\n",
    "`rv::filter` должен:\n",
    "* при итерировании `operator++` дойти до того элемента, на котором `filter_fn` вернёт `true` (а значит, вызывать `transform_fn` для каждого числа)\n",
    "* при разыменовании `operator*` нужно вернуть элемент (а значит, снова его вычислить через `transform_fn`). Ни `rv::filter`, ни `rv::transform` не кешируют промежуточных вычислений"
   ]
  },
  {
   "cell_type": "markdown",
   "metadata": {},
   "source": [
    "Всё становится ещё хуже, если мы захотим конструировать вектор через range:\n",
    "\n",
    "```c++\n",
    "// ex. 1\n",
    "results = v | rv::transform(transform_fn)\n",
    "            | rv::filter(filter_fn)\n",
    "            | rs::to<std::vector>();\n",
    "\n",
    "// ex. 2\n",
    "rs::push_back(results,\n",
    "              v | rv::transform(transform_fn)\n",
    "                | rv::filter(filter_fn));\n",
    "```\n",
    "\n",
    "В обоих случаях вывод будем следующим:\n",
    "\n",
    "```sh\n",
    "transform is called for 1\n",
    "transform is called for 2\n",
    "transform is called for 3\n",
    "transform is called for 4\n",
    "transform is called for 5\n",
    "transform is called for 2  # !!!\n",
    "transform is called for 3  # !!!\n",
    "transform is called for 4  # !!!\n",
    "transform is called for 4  # !!! !!!\n",
    "transform is called for 5  # !!!\n",
    "```\n",
    "\n",
    "**Вопрос**: почему так?\n",
    "\n",
    "<details>\n",
    "<summary>ответ</summary>\n",
    "<p>\n",
    "    \n",
    "`to<std::vector>` и `std::ranges::push_back` - оптимизированы для вектора, они вытаются вызвать `reserve` перед вставкой. Для вызова `reserve` они сначала узнают будущий размер вектора (первый проход по всем элементам), затем выполняют обычное итерирование с разыменованием как в первом примере, по-видимому, начиная уже с первого подходящего элемента.\n",
    "    \n",
    "</p>\n",
    "</details>"
   ]
  },
  {
   "cell_type": "markdown",
   "metadata": {},
   "source": [
    "Автор статей предлагает свои способы исправления проблемы, но в ranges-v3 предусмотрен фикс через особый `rv::cache1` - кеширование результата предыдущего рэнжа в пайплайне:\n",
    "\n",
    "```c++\n",
    "results = v | rv::transform(transform_fn)\n",
    "            | rv::cache1\n",
    "            | rv::filter(filter_fn)\n",
    "            | rs::to<std::vector>();\n",
    "```\n",
    "\n",
    "соответствующий вывод:\n",
    "\n",
    "```sh\n",
    "transform is called for 1\n",
    "transform is called for 2\n",
    "transform is called for 3\n",
    "transform is called for 4\n",
    "transform is called for 5\n",
    "```"
   ]
  },
  {
   "cell_type": "markdown",
   "metadata": {},
   "source": [
    "<br />"
   ]
  },
  {
   "cell_type": "markdown",
   "metadata": {},
   "source": [
    "**Замечание**: TPOIASI делает использование ranges дороже чем можно предположить: не только оверхед на лишние вызовы и лишние хранения итераторов-функций, но множественное лишнее перевычисление или, если программист озаботился, накладные расходы на кеширование.\n",
    "\n",
    "**Замечание**: Скорее всего, ranges-специфичный код компилятору будет сложнее оптимизировать чем обычные алгоритмы. На дворе 2020-й, а топовые компиляторы плохо оптимизируют `std::find_if` по `std::vector<int>`, не говоря о ranges (см. лекцию о производительности 1 семестра). Это тоже часть платы производительностью за ренжи."
   ]
  },
  {
   "cell_type": "markdown",
   "metadata": {},
   "source": [
    "<br />"
   ]
  },
  {
   "cell_type": "markdown",
   "metadata": {},
   "source": [
    "##### ещё пару полезных примеров"
   ]
  },
  {
   "cell_type": "markdown",
   "metadata": {},
   "source": [
    "`join`"
   ]
  },
  {
   "cell_type": "markdown",
   "metadata": {},
   "source": [
    "```c++\n",
    "std::vector<std::string> words = {\"London\", \"is\", \"the\", \"capital\", \"of\", \"Great\", \"Britain\"};\n",
    "std::string sentence = words | rv::join(' ') | rs::to<std::string>;\n",
    "std::cout << sentence << '.' << std::endl;\n",
    "```\n",
    "\n",
    "вывод:\n",
    "\n",
    "```sh\n",
    "London is the capital of Great Britain.\n",
    "```"
   ]
  },
  {
   "cell_type": "markdown",
   "metadata": {},
   "source": [
    "<br />"
   ]
  },
  {
   "cell_type": "markdown",
   "metadata": {},
   "source": [
    "`concat` - ленивая (если view) конкатенация входных ренжей"
   ]
  },
  {
   "cell_type": "markdown",
   "metadata": {},
   "source": [
    "```c++\n",
    "std::vector<int> v1 = {1, 2, 3};\n",
    "std::vector<int> v2 = {4, 5, 6};\n",
    "std::vector<int> v3 = {7, 8, 9};\n",
    "for (int x : rv::concat(v1, v2, v3))\n",
    "    std::cout << x;\n",
    "```\n",
    "\n",
    "вывод:\n",
    "\n",
    "```sh\n",
    "123456789\n",
    "```"
   ]
  },
  {
   "cell_type": "markdown",
   "metadata": {},
   "source": [
    "**Вопрос на понимание:** как можно реализовать `concat`?"
   ]
  },
  {
   "cell_type": "markdown",
   "metadata": {},
   "source": [
    "<br />"
   ]
  },
  {
   "cell_type": "markdown",
   "metadata": {},
   "source": [
    "`enumerate` - python-like enumerate"
   ]
  },
  {
   "cell_type": "markdown",
   "metadata": {},
   "source": [
    "```c++\n",
    "std::vector<std::string> names = { \"Dobrynia\", \"Ilya\", \"Alesha\" };\n",
    "for (const auto& [ix, name] : names | rv::enumerate)\n",
    "    std::cout << ix << \": \"  << name << std::endl;\n",
    "```\n",
    "\n",
    "вывод:\n",
    "\n",
    "```sh\n",
    "0: Dobrynia\n",
    "1: Ilya\n",
    "2: Alesha\n",
    "```"
   ]
  },
  {
   "cell_type": "markdown",
   "metadata": {},
   "source": [
    "**Вопрос на понимание**: как можно реализовать `enumerate`?"
   ]
  },
  {
   "cell_type": "markdown",
   "metadata": {},
   "source": [
    "<br />"
   ]
  },
  {
   "cell_type": "markdown",
   "metadata": {},
   "source": [
    "`push_back` - для заполнения `std::vector` с предварительным вызовом `reserve`."
   ]
  },
  {
   "cell_type": "markdown",
   "metadata": {},
   "source": [
    "```c++\n",
    "std::vector<int> v;\n",
    "rs::push_back(v, rv::iota(1, 10));\n",
    "```"
   ]
  },
  {
   "cell_type": "markdown",
   "metadata": {},
   "source": [
    "<br />"
   ]
  },
  {
   "cell_type": "markdown",
   "metadata": {},
   "source": [
    "##### boost::ranges"
   ]
  },
  {
   "cell_type": "markdown",
   "metadata": {},
   "source": [
    "[boost ranges (v2)](https://www.boost.org/doc/libs/1_72_0/libs/range/doc/html/index.html)"
   ]
  },
  {
   "cell_type": "markdown",
   "metadata": {},
   "source": [
    "Если у вас по какой-то причине ranges-v3 недоступны, можно использовать реализацию ranges из boost. Они же ranges-v2."
   ]
  },
  {
   "cell_type": "markdown",
   "metadata": {},
   "source": [
    "Помимо другого namespace, других имён, отстутствия projections и прочего, в boost::ranges нет `action` (в терминологии v3) через `operator|()`. Это связано с одним принципом дизайна boost::ranges:\n",
    "\n",
    "```\n",
    "boost range adaptors are always lazy:\n",
    "...\n",
    "\n",
    "4. operator|() is used to add new behaviour lazily and never modifies its left argument.\n",
    "```\n",
    "\n",
    "В некотором смысле это приятное упущение, т.к. программист явно видит, что при наличии `operator|` все операции ленивые, в то время как в v3 надо начинать думать."
   ]
  },
  {
   "cell_type": "markdown",
   "metadata": {},
   "source": [
    "Далее рассмотрим несколько примеров как можно обращаться с boost::ranges. Совсем тривиальные с filter / transform / reverse опустим."
   ]
  },
  {
   "cell_type": "markdown",
   "metadata": {},
   "source": [
    "<br />"
   ]
  },
  {
   "cell_type": "markdown",
   "metadata": {},
   "source": [
    "[`indexed` adaptor (like enumerate in python)](https://www.boost.org/doc/libs/1_72_0/libs/range/doc/html/range/reference/adaptors/reference/indexed.html)\n",
    "\n",
    "```c++\n",
    "using namespace boost::adaptors;\n",
    "\n",
    "std::vector<int> input = { /*...*/ };\n",
    "\n",
    "for (const auto& element : input | indexed(0))\n",
    "{\n",
    "    std::cout << \"Element = \" << element.value()\n",
    "              << \" Index = \" << element.index()\n",
    "              << std::endl;\n",
    "}\n",
    "```"
   ]
  },
  {
   "cell_type": "markdown",
   "metadata": {},
   "source": [
    "<br />"
   ]
  },
  {
   "cell_type": "markdown",
   "metadata": {},
   "source": [
    "[`indirected` adaptor](https://www.boost.org/doc/libs/1_72_0/libs/range/doc/html/range/reference/adaptors/reference/indirected.html)\n",
    "\n",
    "```c++\n",
    "using namespace boost::adaptors;\n",
    "\n",
    "std::vector<std::shared_ptr<int> > input;\n",
    "for (int i = 0; i < 10; ++i)\n",
    "    input.push_back(std::make_shared<int>(i));\n",
    "\n",
    "boost::copy(\n",
    "    input | indirected,\n",
    "    std::ostream_iterator<int>(std::cout, \",\"));\n",
    "```"
   ]
  },
  {
   "cell_type": "markdown",
   "metadata": {},
   "source": [
    "<br />"
   ]
  },
  {
   "cell_type": "markdown",
   "metadata": {},
   "source": [
    "[`map keys`](https://www.boost.org/doc/libs/1_72_0/libs/range/doc/html/range/reference/adaptors/reference/map_keys.html) / [`map_values`](https://www.boost.org/doc/libs/1_72_0/libs/range/doc/html/range/reference/adaptors/reference/map_values.html)\n",
    "\n",
    "```c++\n",
    "using namespace boost::adaptors;\n",
    "\n",
    "std::map<int,int> input;\n",
    "for (int i = 0; i < 10; ++i)\n",
    "    input.insert(std::make_pair(i, i * 10));\n",
    "\n",
    "boost::copy(\n",
    "    input | map_keys,\n",
    "    std::ostream_iterator<int>(std::cout, \",\"));\n",
    "\n",
    "boost::copy(\n",
    "    input | map_values,\n",
    "    std::ostream_iterator<int>(std::cout, \",\"));\n",
    "```"
   ]
  },
  {
   "cell_type": "markdown",
   "metadata": {},
   "source": [
    "<br />"
   ]
  },
  {
   "cell_type": "markdown",
   "metadata": {},
   "source": [
    "[`tokenized`](https://www.boost.org/doc/libs/1_72_0/libs/range/doc/html/range/reference/adaptors/reference/tokenized.html)\n",
    "\n",
    "```c++\n",
    "using match_type = boost::sub_match<std::string::iterator>;\n",
    "\n",
    "std::string input = \" a b c d e f g hijklmnopqrstuvwxyz\";\n",
    "boost::copy(\n",
    "    input | tokenized(boost::regex(\"\\\\w+\")),\n",
    "    std::ostream_iterator<match_type>(std::cout, \"\\n\"));\n",
    "```"
   ]
  },
  {
   "cell_type": "markdown",
   "metadata": {},
   "source": [
    "<br />"
   ]
  },
  {
   "cell_type": "markdown",
   "metadata": {},
   "source": [
    "[`irange`](https://www.boost.org/doc/libs/1_72_0/libs/range/doc/html/range/reference/ranges/irange.html)\n",
    "\n",
    "```c++\n",
    "    for (int i : boost::irange(0, 100))  // [0, 100)\n",
    "        std::cout << i << ' ';\n",
    "```"
   ]
  },
  {
   "cell_type": "markdown",
   "metadata": {},
   "source": [
    "<br />"
   ]
  },
  {
   "cell_type": "markdown",
   "metadata": {},
   "source": [
    "##### boost range algorithms"
   ]
  },
  {
   "cell_type": "markdown",
   "metadata": {},
   "source": [
    "https://www.boost.org/doc/libs/1_72_0/libs/range/doc/html/range/reference/algorithms.html"
   ]
  },
  {
   "cell_type": "markdown",
   "metadata": {},
   "source": [
    "Аналогично ranges-v3 в boost range есть алгоритмы, работающие с ренжами.\n",
    "\n",
    "```c++\n",
    "std::vector<int> v = { /*...*/ };\n",
    "\n",
    "boost::sort(v);\n",
    "\n",
    "boost::remove_erase_if(v, is_even);\n",
    "```\n",
    "\n",
    "Полный набор алгоритмов можно найти по ссылке на документацию.\n",
    "\n",
    "_По возможности пробегитесь по ним глазами на досуге, скорее всего, вы найдёте для себя что-нибудь новенькое, интересное._"
   ]
  },
  {
   "cell_type": "markdown",
   "metadata": {},
   "source": [
    "<br />"
   ]
  },
  {
   "cell_type": "markdown",
   "metadata": {},
   "source": [
    "**Резюме**:\n",
    "* Ranges есть в стандартной библиотеке (since C++20) и в boost (используйте их, если С++20 недоступен), можно поискать ещё реализаций.\n",
    "* Ranges _при правильном использовании_ делают код более коротким и понятным, чем std-алгоритмы.\n",
    "* Цена ranges - время компиляции и производительность (мелкие накладные расходы + подводные камни в виде TPOIASI)"
   ]
  }
 ],
 "metadata": {
  "kernelspec": {
   "display_name": "Python 3",
   "language": "python",
   "name": "python3"
  },
  "language_info": {
   "codemirror_mode": {
    "name": "ipython",
    "version": 3
   },
   "file_extension": ".py",
   "mimetype": "text/x-python",
   "name": "python",
   "nbconvert_exporter": "python",
   "pygments_lexer": "ipython3",
   "version": "3.6.9"
  }
 },
 "nbformat": 4,
 "nbformat_minor": 2
}
