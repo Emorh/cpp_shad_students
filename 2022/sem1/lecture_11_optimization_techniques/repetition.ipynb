{
 "cells": [
  {
   "cell_type": "markdown",
   "metadata": {},
   "source": [
    "**Вопросы для повторения:**\n",
    "\n",
    "* Что такое функтор? Что такое лямбда?\n",
    "\n",
    "* Что здесь происходит?\n",
    "\n",
    "    ```c++\n",
    "    auto make_age_less_filter(int x)\n",
    "    {\n",
    "        return [&x](const Person& person){ return person.age < x; };\n",
    "    }\n",
    "\n",
    "    std::copy_if(people.begin(),\n",
    "                 people.end(),\n",
    "                 make_age_less_filter(33),\n",
    "                 std::ostream_iterator<Person>(std::cout, \"\\n\"));\n",
    "    ```"
   ]
  }
 ],
 "metadata": {
  "kernelspec": {
   "display_name": "Python 3 (ipykernel)",
   "language": "python",
   "name": "python3"
  },
  "language_info": {
   "codemirror_mode": {
    "name": "ipython",
    "version": 3
   },
   "file_extension": ".py",
   "mimetype": "text/x-python",
   "name": "python",
   "nbconvert_exporter": "python",
   "pygments_lexer": "ipython3",
   "version": "3.6.9"
  }
 },
 "nbformat": 4,
 "nbformat_minor": 2
}
