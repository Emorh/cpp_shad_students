{
 "cells": [
  {
   "cell_type": "markdown",
   "metadata": {},
   "source": [
    "__Вопросы для повторения:__\n",
    "* зачем нужны исключения?\n",
    "\n",
    "* какие конструкторы-деструкторы здесь будут вызваны?\n",
    "\n",
    "```c++\n",
    "class M { ... };\n",
    "\n",
    "class D {\n",
    "public:\n",
    "    D() { throw std::runtime_error(\"error\"); }\n",
    "    M m_;\n",
    "};\n",
    "\n",
    "D d;\n",
    "```\n",
    "\n",
    "* откуда в `collect_team` может быть брошено исключение?\n",
    "\n",
    "```c++\n",
    "const Dwarf& find_dwarf(int id) noexcept;\n",
    "\n",
    "std::vector<int> get_dwarfs_ids();\n",
    "\n",
    "auto collect_team()\n",
    "{\n",
    "    const auto ids = get_dwarfs_ids();\n",
    "    \n",
    "    std::vector<Dwarf> dwarfs;\n",
    "    for (int id : ids)\n",
    "        dwarfs.push_back(find_dwarf(id));\n",
    "    \n",
    "    std::puts(\"dream team:\");\n",
    "    for (const Dwarf dwarf : dwarfs)\n",
    "        std::cout << dwarf.name << '\\n';\n",
    "    \n",
    "    return dwarfs;    \n",
    "}\n",
    "```\n",
    "\n",
    "* почему move-операции желательно делать `noexcept`?"
   ]
  }
 ],
 "metadata": {
  "kernelspec": {
   "display_name": "Python 3",
   "language": "python",
   "name": "python3"
  },
  "language_info": {
   "codemirror_mode": {
    "name": "ipython",
    "version": 3
   },
   "file_extension": ".py",
   "mimetype": "text/x-python",
   "name": "python",
   "nbconvert_exporter": "python",
   "pygments_lexer": "ipython3",
   "version": "3.6.9"
  }
 },
 "nbformat": 4,
 "nbformat_minor": 2
}
