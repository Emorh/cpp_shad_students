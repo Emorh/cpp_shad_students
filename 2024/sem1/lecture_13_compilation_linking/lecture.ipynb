{
 "cells": [
  {
   "cell_type": "markdown",
   "metadata": {},
   "source": [
    "### Компиляция и линковка."
   ]
  },
  {
   "cell_type": "markdown",
   "metadata": {},
   "source": [
    "<br />"
   ]
  },
  {
   "cell_type": "markdown",
   "metadata": {},
   "source": [
    "##### Hello world одним файлом: компиляция и линковка"
   ]
  },
  {
   "cell_type": "markdown",
   "metadata": {},
   "source": [
    "Напишем программу `hello_world.cpp` одним файлом:"
   ]
  },
  {
   "cell_type": "markdown",
   "metadata": {},
   "source": [
    "```c++\n",
    "#include <cstdio>\n",
    "\n",
    "void print_hello_world()\n",
    "{\n",
    "    std::puts(\"hello world!\");\n",
    "}\n",
    "\n",
    "int main()\n",
    "{\n",
    "    print_hello_world();\n",
    "    return 0;\n",
    "}\n",
    "```"
   ]
  },
  {
   "cell_type": "markdown",
   "metadata": {},
   "source": [
    "Сборка С++ - программ делится на 2 этапа:\n",
    "* компиляция объектных файлов (.o/.obj) с ассемблером из исходных текстов (.cpp)\n",
    "* линковка (связывание) нескольких объектных файлов в один исполняемый"
   ]
  },
  {
   "cell_type": "markdown",
   "metadata": {},
   "source": [
    "Соберём компилятором clang:"
   ]
  },
  {
   "cell_type": "code",
   "execution_count": 1,
   "metadata": {},
   "outputs": [
    {
     "name": "stdout",
     "output_type": "stream",
     "text": [
      "hello world!\r\n"
     ]
    }
   ],
   "source": [
    "# компилируем объектный файл:\n",
    "!clang++ -Os -c hello_world.cpp -o hello_world.o\n",
    "\n",
    "# собираем все объектные файлы (1 штука) в исполняемый:\n",
    "!clang++ hello_world.o -o hello_world.exe\n",
    "\n",
    "# проверим:\n",
    "!./hello_world.exe"
   ]
  },
  {
   "cell_type": "markdown",
   "metadata": {},
   "source": [
    "Вроде работает"
   ]
  },
  {
   "cell_type": "markdown",
   "metadata": {},
   "source": [
    "<br />"
   ]
  },
  {
   "cell_type": "markdown",
   "metadata": {},
   "source": [
    "Проанализиурем содержимое объектного файла `hello_world.o`.\n",
    "\n",
    "Посмотрим на символы внутри него:"
   ]
  },
  {
   "cell_type": "code",
   "execution_count": 2,
   "metadata": {},
   "outputs": [
    {
     "name": "stdout",
     "output_type": "stream",
     "text": [
      "\r\n",
      "hello_world.o:     file format elf64-x86-64\r\n",
      "\r\n",
      "SYMBOL TABLE:\r\n",
      "0000000000000000 l    df *ABS*\t0000000000000000 hello_world.cpp\r\n",
      "0000000000000000 l    d  .text\t0000000000000000 .text\r\n",
      "0000000000000000 l    d  .rodata.str1.1\t0000000000000000 .rodata.str1.1\r\n",
      "0000000000000000 g     F .text\t000000000000000a print_hello_world()\r\n",
      "000000000000000a g     F .text\t000000000000000f main\r\n",
      "0000000000000000         *UND*\t0000000000000000 puts\r\n",
      "\r\n",
      "\r\n"
     ]
    }
   ],
   "source": [
    "!objdump -C -t hello_world.o"
   ]
  },
  {
   "cell_type": "markdown",
   "metadata": {},
   "source": [
    "**Уровень видимости символа:**\n",
    "* `l` - локальный символ (видимый только внутренним сущностям этого объектного файла)\n",
    "* `g` - глобальный символ (видимый для других объектных файлов)"
   ]
  },
  {
   "cell_type": "code",
   "execution_count": 3,
   "metadata": {},
   "outputs": [
    {
     "name": "stdout",
     "output_type": "stream",
     "text": [
      "\r\n",
      "hello_world.o:     file format elf64-x86-64\r\n",
      "\r\n",
      "Contents of section .rodata.str1.1:\r\n",
      " 0000 68656c6c 6f20776f 726c6421 00        hello world!.   \r\n"
     ]
    }
   ],
   "source": [
    "# наша строка:\n",
    "!objdump -s --section=.rodata.str1.1 hello_world.o"
   ]
  },
  {
   "cell_type": "code",
   "execution_count": 4,
   "metadata": {},
   "outputs": [
    {
     "name": "stdout",
     "output_type": "stream",
     "text": [
      "\r\n",
      "hello_world.o:     file format elf64-x86-64\r\n",
      "\r\n",
      "\r\n",
      "Disassembly of section .text:\r\n",
      "\r\n",
      "0000000000000000 <print_hello_world()>:\r\n",
      "   0:\tbf 00 00 00 00       \tmov    $0x0,%edi\r\n",
      "   5:\te9 00 00 00 00       \tjmpq   a <main>\r\n",
      "\r\n",
      "000000000000000a <main>:\r\n",
      "   a:\t50                   \tpush   %rax\r\n",
      "   b:\tbf 00 00 00 00       \tmov    $0x0,%edi\r\n",
      "  10:\te8 00 00 00 00       \tcallq  15 <main+0xb>\r\n",
      "  15:\t31 c0                \txor    %eax,%eax\r\n",
      "  17:\t59                   \tpop    %rcx\r\n",
      "  18:\tc3                   \tretq   \r\n"
     ]
    }
   ],
   "source": [
    "# код функций:\n",
    "!objdump -C -d hello_world.o"
   ]
  },
  {
   "cell_type": "markdown",
   "metadata": {},
   "source": [
    "<br />"
   ]
  },
  {
   "cell_type": "markdown",
   "metadata": {},
   "source": [
    "##### Hello world одним файлом: изменение уровня видимости символа"
   ]
  },
  {
   "cell_type": "markdown",
   "metadata": {},
   "source": [
    "Напомню содержимое файла hello_world.cpp:\n",
    "\n",
    "```c++\n",
    "#include <cstdio>\n",
    "\n",
    "void print_hello_world()\n",
    "{\n",
    "    std::puts(\"hello world!\");\n",
    "}\n",
    "\n",
    "int main()\n",
    "{\n",
    "    print_hello_world();\n",
    "    return 0;\n",
    "}\n",
    "```"
   ]
  },
  {
   "cell_type": "markdown",
   "metadata": {},
   "source": [
    "Если внимательно присмотреться к программе:\n",
    "* Функция `main` должна быть видима снаружи объектного файла (почему?). `main` - глобальный символ, это нормально.\n",
    "* Функция `print_hello_world` снаружи объектного файла не используется. Этот символ можно (нужно) сделать локальным."
   ]
  },
  {
   "cell_type": "markdown",
   "metadata": {},
   "source": [
    "**Замечание:**\n",
    "В терминах стандарта это называется `internal linkage` / `external linkage` (https://en.cppreference.com/w/cpp/language/storage_duration)"
   ]
  },
  {
   "cell_type": "markdown",
   "metadata": {},
   "source": [
    "В С++ есть два способа сделать функцию / глобальную переменную / глобальную константу локальным символом:\n",
    "* обернуть в анонимный namespace:\n",
    "\n",
    "```c++\n",
    "namespace {\n",
    "    void print_hello_world()\n",
    "    {\n",
    "        std::puts(\"hello world!\");\n",
    "    }\n",
    "}\n",
    "```\n",
    "\n",
    "* добавить ключевое слово `static`:\n",
    "\n",
    "```c++\n",
    "static void print_hello_world()\n",
    "{\n",
    "    std::puts(\"hello world!\");\n",
    "}\n",
    "```"
   ]
  },
  {
   "cell_type": "markdown",
   "metadata": {},
   "source": [
    "Сделаем символ `print_hello_world()` локальным в файле `hello_world_local.cpp` и скомпилируем:"
   ]
  },
  {
   "cell_type": "markdown",
   "metadata": {},
   "source": [
    "```c++\n",
    "#include <cstdio>\n",
    "\n",
    "static void print_hello_world()\n",
    "{\n",
    "    std::puts(\"hello world!\");\n",
    "}\n",
    "\n",
    "int main()\n",
    "{\n",
    "    print_hello_world();\n",
    "    return 0;\n",
    "}\n",
    "```"
   ]
  },
  {
   "cell_type": "code",
   "execution_count": 5,
   "metadata": {},
   "outputs": [
    {
     "name": "stdout",
     "output_type": "stream",
     "text": [
      "hello world!\r\n"
     ]
    }
   ],
   "source": [
    "# компилируем объектный файл:\n",
    "!clang++ -Os -c hello_world_local.cpp -o hello_world_local.o\n",
    "\n",
    "# собираем все объектные файлы (1 штука) в исполняемый:\n",
    "!clang++ hello_world_local.o -o hello_world_local.exe\n",
    "\n",
    "!./hello_world_local.exe"
   ]
  },
  {
   "cell_type": "markdown",
   "metadata": {},
   "source": [
    "Посмотрим на содержимое объектного файла `hello_world_local.o`:"
   ]
  },
  {
   "cell_type": "code",
   "execution_count": 6,
   "metadata": {},
   "outputs": [
    {
     "name": "stdout",
     "output_type": "stream",
     "text": [
      "\r\n",
      "hello_world_local.o:     file format elf64-x86-64\r\n",
      "\r\n",
      "SYMBOL TABLE:\r\n",
      "0000000000000000 l    df *ABS*\t0000000000000000 hello_world_local.cpp\r\n",
      "0000000000000000 l    d  .text\t0000000000000000 .text\r\n",
      "0000000000000000 l    d  .rodata.str1.1\t0000000000000000 .rodata.str1.1\r\n",
      "0000000000000000 g     F .text\t000000000000000f main\r\n",
      "0000000000000000         *UND*\t0000000000000000 puts\r\n",
      "\r\n",
      "\r\n"
     ]
    }
   ],
   "source": [
    "!objdump -C -t hello_world_local.o"
   ]
  },
  {
   "cell_type": "markdown",
   "metadata": {},
   "source": [
    "**Вопрос:** куда делась функция `print_hello_world()`?\n",
    "\n",
    "<details>\n",
    "<summary>ответ</summary>\n",
    "<p>\n",
    "    её код заинлайнен в `main` как очень короткий, а т.к. сама функция нигде не используется, она удалена\n",
    "</p>\n",
    "</details>"
   ]
  },
  {
   "cell_type": "markdown",
   "metadata": {},
   "source": [
    "Проверим нашу гипотезу, посмотрим на команды в объектном файле:"
   ]
  },
  {
   "cell_type": "code",
   "execution_count": 7,
   "metadata": {},
   "outputs": [
    {
     "name": "stdout",
     "output_type": "stream",
     "text": [
      "\r\n",
      "hello_world_local.o:     file format elf64-x86-64\r\n",
      "\r\n",
      "\r\n",
      "Disassembly of section .text:\r\n",
      "\r\n",
      "0000000000000000 <main>:\r\n",
      "   0:\t50                   \tpush   %rax\r\n",
      "   1:\tbf 00 00 00 00       \tmov    $0x0,%edi\r\n",
      "   6:\te8 00 00 00 00       \tcallq  b <main+0xb>\r\n",
      "   b:\t31 c0                \txor    %eax,%eax\r\n",
      "   d:\t59                   \tpop    %rcx\r\n",
      "   e:\tc3                   \tretq   \r\n"
     ]
    }
   ],
   "source": [
    "# код функций:\n",
    "!objdump -C -d hello_world_local.o"
   ]
  },
  {
   "cell_type": "markdown",
   "metadata": {},
   "source": [
    "<br />"
   ]
  },
  {
   "cell_type": "markdown",
   "metadata": {},
   "source": [
    "**Рекомендация:**\n",
    "* Если символ не используется за пределами одного `.cpp` - файла, его желательно сделать локальным. Локальность символа - дополнительное знание для компилятора, позволяет проводить более агрессивные оптимизации.\n",
    "* Локальные символы в заголовочных файлах светить **не нужно**"
   ]
  },
  {
   "cell_type": "markdown",
   "metadata": {},
   "source": [
    "<br />"
   ]
  },
  {
   "cell_type": "markdown",
   "metadata": {},
   "source": [
    "##### Hello world в два файла: компиляция и линковка"
   ]
  },
  {
   "cell_type": "markdown",
   "metadata": {},
   "source": [
    "Разобьём `hello_world.cpp` на 2 `.cpp` файла. Отдельно для функции `main`, отдельно для функции `print_hello_world()`:"
   ]
  },
  {
   "cell_type": "markdown",
   "metadata": {},
   "source": [
    "`hello_world_2_print.h:`\n",
    "\n",
    "```c++\n",
    "#pragma once\n",
    "\n",
    "void print_hello_world();\n",
    "```\n",
    "\n",
    "<br />\n",
    "\n",
    "`hello_world_2_print.cpp:`\n",
    "\n",
    "```c++\n",
    "#include \"hello_world_2_print.h\"\n",
    "\n",
    "#include <cstdio>\n",
    "\n",
    "void print_hello_world()\n",
    "{\n",
    "    std::puts(\"hello world!\");\n",
    "}\n",
    "```\n",
    "\n",
    "<br />\n",
    "\n",
    "`hello_world_2_main.cpp:`\n",
    "\n",
    "```c++\n",
    "#include \"hello_world_2_print.h\"\n",
    "\n",
    "int main()\n",
    "{\n",
    "    print_hello_world();\n",
    "    return 0;\n",
    "}\n",
    "```"
   ]
  },
  {
   "cell_type": "code",
   "execution_count": 8,
   "metadata": {},
   "outputs": [
    {
     "name": "stdout",
     "output_type": "stream",
     "text": [
      "hello world!\r\n"
     ]
    }
   ],
   "source": [
    "# компилируем объектные файлы:\n",
    "!clang++ -c -Os hello_world_2_print.cpp -o hello_world_2_print.o\n",
    "!clang++ -c -Os hello_world_2_main.cpp  -o hello_world_2_main.o\n",
    "\n",
    "# линкуем их в исполняемый файл:\n",
    "!clang++ -Os hello_world_2_print.o hello_world_2_main.o -o hello_world_2.exe\n",
    "\n",
    "# проверим что работает:\n",
    "!./hello_world_2.exe"
   ]
  },
  {
   "cell_type": "markdown",
   "metadata": {},
   "source": [
    "<br />"
   ]
  },
  {
   "cell_type": "markdown",
   "metadata": {},
   "source": [
    "Проверим содержимое объектных файлов:"
   ]
  },
  {
   "cell_type": "code",
   "execution_count": 9,
   "metadata": {},
   "outputs": [
    {
     "name": "stdout",
     "output_type": "stream",
     "text": [
      "\r\n",
      "hello_world_2_print.o:     file format elf64-x86-64\r\n",
      "\r\n",
      "SYMBOL TABLE:\r\n",
      "0000000000000000 l    df *ABS*\t0000000000000000 hello_world_2_print.cpp\r\n",
      "0000000000000000 l    d  .text\t0000000000000000 .text\r\n",
      "0000000000000000 l    d  .rodata.str1.1\t0000000000000000 .rodata.str1.1\r\n",
      "0000000000000000 g     F .text\t000000000000000a print_hello_world()\r\n",
      "0000000000000000         *UND*\t0000000000000000 puts\r\n",
      "\r\n",
      "\r\n"
     ]
    }
   ],
   "source": [
    "!objdump -C -t hello_world_2_print.o"
   ]
  },
  {
   "cell_type": "code",
   "execution_count": 10,
   "metadata": {},
   "outputs": [
    {
     "name": "stdout",
     "output_type": "stream",
     "text": [
      "\r\n",
      "hello_world_2_main.o:     file format elf64-x86-64\r\n",
      "\r\n",
      "SYMBOL TABLE:\r\n",
      "0000000000000000 l    df *ABS*\t0000000000000000 hello_world_2_main.cpp\r\n",
      "0000000000000000 l    d  .text\t0000000000000000 .text\r\n",
      "0000000000000000         *UND*\t0000000000000000 print_hello_world()\r\n",
      "0000000000000000 g     F .text\t000000000000000a main\r\n",
      "\r\n",
      "\r\n"
     ]
    }
   ],
   "source": [
    "!objdump -C -t hello_world_2_main.o"
   ]
  },
  {
   "cell_type": "markdown",
   "metadata": {},
   "source": [
    "*Объяснить что произошло*"
   ]
  },
  {
   "cell_type": "markdown",
   "metadata": {},
   "source": [
    "<br />"
   ]
  },
  {
   "cell_type": "markdown",
   "metadata": {},
   "source": [
    "**Вопрос:** почему больше не получится сделать символ `print_hello_world` локальным?"
   ]
  },
  {
   "cell_type": "code",
   "execution_count": 11,
   "metadata": {},
   "outputs": [],
   "source": [
    "# почистим за собой\n",
    "!rm -f *.o *.exe"
   ]
  },
  {
   "cell_type": "markdown",
   "metadata": {},
   "source": [
    "<br />"
   ]
  },
  {
   "cell_type": "markdown",
   "metadata": {},
   "source": [
    "##### Этапы сборки программ"
   ]
  },
  {
   "cell_type": "markdown",
   "metadata": {},
   "source": [
    "https://en.cppreference.com/w/cpp/language/translation_phases"
   ]
  },
  {
   "cell_type": "markdown",
   "metadata": {},
   "source": [
    "Упрощённая схема:"
   ]
  },
  {
   "cell_type": "markdown",
   "metadata": {},
   "source": [
    "![](program_stages_2.jpg)"
   ]
  },
  {
   "cell_type": "markdown",
   "metadata": {},
   "source": [
    "Вопросы:\n",
    "* где в этом процессе header-файлы?\n",
    "* как собирать не исполняемый файл, а статическую билиотеку?\n",
    "* как в этой схеме обрабатываются шаблоны?\n",
    "* на каких уровнях возможна параллелизация процесса?"
   ]
  },
  {
   "cell_type": "markdown",
   "metadata": {},
   "source": [
    "<br />"
   ]
  },
  {
   "cell_type": "markdown",
   "metadata": {},
   "source": [
    "##### Препроцессор - зачем и как"
   ]
  },
  {
   "cell_type": "markdown",
   "metadata": {},
   "source": [
    "Заголовочные файлы"
   ]
  },
  {
   "cell_type": "markdown",
   "metadata": {},
   "source": [
    "```c++\n",
    "#include <string>\n",
    "\n",
    "#include \"utils.h\"\n",
    "```"
   ]
  },
  {
   "cell_type": "markdown",
   "metadata": {},
   "source": [
    "Макросы автоподстановки - постарайтесь по возможности избегать их, предпочитать С++ - аналоги"
   ]
  },
  {
   "cell_type": "markdown",
   "metadata": {},
   "source": [
    "```c++\n",
    "#define SQR(x)  x * x\n",
    "\n",
    "\n",
    "int y = SQR(5);  // int y = 5 * 5;\n",
    "```"
   ]
  },
  {
   "cell_type": "markdown",
   "metadata": {},
   "source": [
    "<details>\n",
    "<summary>Объяснение ошибки</summary>\n",
    "<p>\n",
    "\n",
    "```c++\n",
    "// error:\n",
    "//     SQR(2 + 3)  --> 2 + 3 * 2 + 3 == 11  // OOOOOPS!\n",
    "//\n",
    "// corrected version:\n",
    "#define SQR(x) (x)*(x)\n",
    "```\n",
    "\n",
    "</p>\n",
    "</details>"
   ]
  },
  {
   "cell_type": "markdown",
   "metadata": {},
   "source": [
    "<br />\n",
    "Другой пример:"
   ]
  },
  {
   "cell_type": "markdown",
   "metadata": {},
   "source": [
    "```c++\n",
    "#define LOG(msg) \\\n",
    "    if (is_logging_enabled) \\\n",
    "        std::clog << (msg) << std::endl;\n",
    "```"
   ]
  },
  {
   "cell_type": "markdown",
   "metadata": {},
   "source": [
    "<details>\n",
    "<summary>Объяснение ошибки</summary>\n",
    "<p>\n",
    "\n",
    "```c++\n",
    "// error: \n",
    "//     if (something_bad_happened)\n",
    "//         LOG(\"something bad happened!\");\n",
    "//     else\n",
    "//         run_task();  // OOOOPS!\n",
    "//\n",
    "// corrected version (linux kernel programming guides):\n",
    "#define LOG(msg) \\\n",
    "    do { \\\n",
    "        if (is_logging_enabled) \\\n",
    "            std::clog << (msg) << std::endl; \\\n",
    "    } while(0)\n",
    "```\n",
    "\n",
    "</p>\n",
    "</details>"
   ]
  },
  {
   "cell_type": "markdown",
   "metadata": {},
   "source": [
    "Генерация ошибок и предупреждений в compile-time"
   ]
  },
  {
   "cell_type": "markdown",
   "metadata": {},
   "source": [
    "```c++\n",
    "#error This file must not be included into compilation!\n",
    "```"
   ]
  },
  {
   "cell_type": "markdown",
   "metadata": {},
   "source": [
    "```c++\n",
    "void f()\n",
    "{\n",
    "    #warning Function f() must be fixed for case when there is no network connection\n",
    "    ...\n",
    "}\n",
    "```"
   ]
  },
  {
   "cell_type": "markdown",
   "metadata": {},
   "source": [
    "Условная компиляция"
   ]
  },
  {
   "cell_type": "markdown",
   "metadata": {},
   "source": [
    "```c++\n",
    "// условная компиляция под разные ОС\n",
    "void remove_file(const std::string& filename)\n",
    "{\n",
    "    #if defined(__LINUX__)\n",
    "        ...\n",
    "    #elif defined(__WINDOWS__)\n",
    "        ...\n",
    "    #elif defined(__MACOSX__)\n",
    "        ...\n",
    "    #elif defined(__ANDROID__)\n",
    "        ...\n",
    "    #elif defined(__IOS__)\n",
    "        ...\n",
    "    #else\n",
    "        #error Unsupported target OS\n",
    "    #endif\n",
    "}\n",
    "```"
   ]
  },
  {
   "cell_type": "markdown",
   "metadata": {},
   "source": [
    "https://en.cppreference.com/w/cpp/preprocessor/replace\n",
    "\n",
    "https://en.cppreference.com/w/cpp/preprocessor/impl\n",
    "\n",
    "А также:\n",
    "* информация о поддерживаемых фичах компилятором (`__cpp_generic_lambdas`, `__cpp_range_based_for` и др.)\n",
    "* дополнительная информация для точной отладки/трассировки/профилировки (`__LINE__`, `__FILE__` и нестандартный `__function__`)\n",
    "* `#pragma` - команды либо подсказки компилятору (`#pragma once`, `#pragma unroll` ...)"
   ]
  },
  {
   "cell_type": "markdown",
   "metadata": {},
   "source": [
    "<br />"
   ]
  },
  {
   "cell_type": "markdown",
   "metadata": {},
   "source": [
    "##### Компиляция. Содержимое объектных файлов. Область видимости символов."
   ]
  },
  {
   "cell_type": "markdown",
   "metadata": {},
   "source": [
    "Набросаем программку из нескольких файлов и посмотрим на содержимое объектных файлов"
   ]
  },
  {
   "cell_type": "markdown",
   "metadata": {},
   "source": [
    "`ex1_objfiles/main.cpp`\n",
    "\n",
    "```c++\n",
    "#include \"math_utils.h\"\n",
    "#include \"string_utils.h\"\n",
    "\n",
    "#include <cstdio>\n",
    "#include <cstring>\n",
    "\n",
    "void print_help() noexcept\n",
    "{\n",
    "    std::puts(\"USAGE:\");\n",
    "    std::puts(\"    exmaple.bin mmul 3 4\");\n",
    "    std::puts(\"        12\");\n",
    "    std::puts(\"    exmaple.bin smul 3 4\");\n",
    "    std::puts(\"        3333\");\n",
    "    std::puts(\"\");\n",
    "    std::puts(\"Errors processing is not implemented in order to simplify example\");\n",
    "}\n",
    "\n",
    "int main(int argc, char** argv)\n",
    "{\n",
    "    if (argc != 4)\n",
    "    {\n",
    "        print_help();\n",
    "        return 1;\n",
    "    }\n",
    "\n",
    "    const char* const op = argv[1];\n",
    "    const char* const a1 = argv[2];\n",
    "    const char* const a2 = argv[3];\n",
    "    if (!std::strcmp(op, \"mmul\"))\n",
    "        math_utils::mul(a1, a2);\n",
    "    else if (!std::strcmp(op, \"smul\"))\n",
    "        string_utils::mul(a1, a2);\n",
    "    return 0;\n",
    "}\n",
    "```"
   ]
  },
  {
   "cell_type": "markdown",
   "metadata": {},
   "source": [
    "`ex1_objfiles/math_utils.h:`\n",
    "\n",
    "```c++\n",
    "#pragma once\n",
    "\n",
    "namespace math_utils\n",
    "{\n",
    "    void mul(const char* a1, const char* a2) noexcept;\n",
    "}  // namespace math_utils\n",
    "```"
   ]
  },
  {
   "cell_type": "markdown",
   "metadata": {},
   "source": [
    "`ex1_objfiles/string_utils.h:`\n",
    "\n",
    "```c++\n",
    "#pragma once\n",
    "\n",
    "namespace string_utils\n",
    "{\n",
    "    void mul(const char* a1, const char* a2) noexcept;\n",
    "}  // namespace string_utils\n",
    "```"
   ]
  },
  {
   "cell_type": "markdown",
   "metadata": {},
   "source": [
    "`ex1_objfiles/math_utils.cpp:`\n",
    "\n",
    "```c++\n",
    "#include \"math_utils.h\"\n",
    "\n",
    "#include <cstdio>\n",
    "#include <cstdlib>\n",
    "\n",
    "int convert_to_int(const char* const s) noexcept\n",
    "{\n",
    "    return std::atoi(s);\n",
    "}\n",
    "\n",
    "namespace math_utils\n",
    "{\n",
    "    void mul(const char* const a1, const char* const a2) noexcept\n",
    "    {\n",
    "        const int x1 = convert_to_int(a1);\n",
    "        const int x2 = convert_to_int(a2);\n",
    "        std::printf(\"%d\\n\", x1 * x2);\n",
    "    }\n",
    "}  // namespace math_utils\n",
    "```"
   ]
  },
  {
   "cell_type": "markdown",
   "metadata": {},
   "source": [
    "`ex1_objfiles/string_utils.cpp:`\n",
    "\n",
    "```c++\n",
    "#include \"string_utils.h\"\n",
    "\n",
    "#include <cstdio>\n",
    "#include <cstdlib>\n",
    "\n",
    "int convert_to_int(const char* const s) noexcept\n",
    "{\n",
    "    return std::atoi(s);\n",
    "}\n",
    "\n",
    "namespace string_utils\n",
    "{\n",
    "    void mul(const char* const a1, const char* const a2) noexcept\n",
    "    {\n",
    "        const int x2 = convert_to_int(a2);\n",
    "        for (int i = 0; i < x2; ++i)\n",
    "            std::puts(a1);\n",
    "    }\n",
    "}  // namespace string_utils\n",
    "```"
   ]
  },
  {
   "cell_type": "markdown",
   "metadata": {},
   "source": [
    "Скомпилируем объектные файлы:"
   ]
  },
  {
   "cell_type": "code",
   "execution_count": 1,
   "metadata": {},
   "outputs": [],
   "source": [
    "!clang++ -c -Os ex1_objfiles/main.cpp\n",
    "!clang++ -c -Os ex1_objfiles/math_utils.cpp\n",
    "!clang++ -c -Os ex1_objfiles/string_utils.cpp"
   ]
  },
  {
   "cell_type": "code",
   "execution_count": 2,
   "metadata": {},
   "outputs": [
    {
     "name": "stdout",
     "output_type": "stream",
     "text": [
      "-rw-rw-r-- 1 ivafanas ivafanas 2,1K фев 10 22:16 main.o\r\n",
      "-rw-rw-r-- 1 ivafanas ivafanas 1,4K фев 10 22:16 math_utils.o\r\n",
      "-rw-rw-r-- 1 ivafanas ivafanas 1,3K фев 10 22:16 string_utils.o\r\n"
     ]
    }
   ],
   "source": [
    "!ls *.o -lh"
   ]
  },
  {
   "cell_type": "markdown",
   "metadata": {},
   "source": [
    "Посмотрим на символы в main.o:"
   ]
  },
  {
   "cell_type": "code",
   "execution_count": 3,
   "metadata": {},
   "outputs": [
    {
     "name": "stdout",
     "output_type": "stream",
     "text": [
      "\r\n",
      "main.o:     file format elf64-x86-64\r\n",
      "\r\n",
      "SYMBOL TABLE:\r\n",
      "0000000000000000 l    df *ABS*\t0000000000000000 main.cpp\r\n",
      "0000000000000000 l    d  .text\t0000000000000000 .text\r\n",
      "0000000000000000 l    d  .rodata.str1.1\t0000000000000000 .rodata.str1.1\r\n",
      "0000000000000000 g     F .text\t0000000000000048 print_help()\r\n",
      "0000000000000000         *UND*\t0000000000000000 math_utils::mul(char const*, char const*)\r\n",
      "0000000000000000         *UND*\t0000000000000000 string_utils::mul(char const*, char const*)\r\n",
      "0000000000000048 g     F .text\t0000000000000066 main\r\n",
      "0000000000000000         *UND*\t0000000000000000 putchar\r\n",
      "0000000000000000         *UND*\t0000000000000000 puts\r\n",
      "0000000000000000         *UND*\t0000000000000000 strcmp\r\n",
      "\r\n",
      "\r\n"
     ]
    }
   ],
   "source": [
    "!objdump -C -t main.o"
   ]
  },
  {
   "cell_type": "markdown",
   "metadata": {},
   "source": [
    "Таблица символов показывает, что:\n",
    "* в этом файле определены и видны наружу `print_help` и `main`\n",
    "* файл ссылается на символы `math_utils::mul`, `string_utils::mul`, `putchar`, `puts`, `strcmp`, которые реализованы где-то извне"
   ]
  },
  {
   "cell_type": "markdown",
   "metadata": {},
   "source": [
    "А вот, кстати, и наши строчки:"
   ]
  },
  {
   "cell_type": "code",
   "execution_count": 4,
   "metadata": {},
   "outputs": [
    {
     "name": "stdout",
     "output_type": "stream",
     "text": [
      "\r\n",
      "main.o:     file format elf64-x86-64\r\n",
      "\r\n",
      "Contents of section .rodata.str1.1:\r\n",
      " 0000 55534147 453a0020 20202065 786d6170  USAGE:.    exmap\r\n",
      " 0010 6c652e62 696e206d 6d756c20 33203400  le.bin mmul 3 4.\r\n",
      " 0020 20202020 20202020 31320020 20202065          12.    e\r\n",
      " 0030 786d6170 6c652e62 696e2073 6d756c20  xmaple.bin smul \r\n",
      " 0040 33203400 20202020 20202020 33333333  3 4.        3333\r\n",
      " 0050 00457272 6f727320 70726f63 65737369  .Errors processi\r\n",
      " 0060 6e672069 73206e6f 7420696d 706c656d  ng is not implem\r\n",
      " 0070 656e7465 6420696e 206f7264 65722074  ented in order t\r\n",
      " 0080 6f207369 6d706c69 66792065 78616d70  o simplify examp\r\n",
      " 0090 6c65006d 6d756c00 736d756c 00        le.mmul.smul.   \r\n"
     ]
    }
   ],
   "source": [
    "!objdump -s --section=.rodata.str1.1 main.o"
   ]
  },
  {
   "cell_type": "markdown",
   "metadata": {},
   "source": [
    "Посмотрим на символы `math_utils`:"
   ]
  },
  {
   "cell_type": "code",
   "execution_count": 5,
   "metadata": {},
   "outputs": [
    {
     "name": "stdout",
     "output_type": "stream",
     "text": [
      "\r\n",
      "math_utils.o:     file format elf64-x86-64\r\n",
      "\r\n",
      "SYMBOL TABLE:\r\n",
      "0000000000000000 l    df *ABS*\t0000000000000000 math_utils.cpp\r\n",
      "0000000000000000 l    d  .text\t0000000000000000 .text\r\n",
      "0000000000000000 l    d  .rodata.str1.1\t0000000000000000 .rodata.str1.1\r\n",
      "0000000000000000 g     F .text\t0000000000000005 convert_to_int(char const*)\r\n",
      "0000000000000005 g     F .text\t000000000000002e math_utils::mul(char const*, char const*)\r\n",
      "0000000000000000         *UND*\t0000000000000000 atoi\r\n",
      "0000000000000000         *UND*\t0000000000000000 printf\r\n",
      "\r\n",
      "\r\n"
     ]
    }
   ],
   "source": [
    "!objdump -C -t math_utils.o"
   ]
  },
  {
   "cell_type": "markdown",
   "metadata": {},
   "source": [
    "Посмотрим на символы `string_utils`:"
   ]
  },
  {
   "cell_type": "code",
   "execution_count": 6,
   "metadata": {},
   "outputs": [
    {
     "name": "stdout",
     "output_type": "stream",
     "text": [
      "\r\n",
      "string_utils.o:     file format elf64-x86-64\r\n",
      "\r\n",
      "SYMBOL TABLE:\r\n",
      "0000000000000000 l    df *ABS*\t0000000000000000 string_utils.cpp\r\n",
      "0000000000000000 l    d  .text\t0000000000000000 .text\r\n",
      "0000000000000000 g     F .text\t0000000000000005 convert_to_int(char const*)\r\n",
      "0000000000000005 g     F .text\t0000000000000027 string_utils::mul(char const*, char const*)\r\n",
      "0000000000000000         *UND*\t0000000000000000 atoi\r\n",
      "0000000000000000         *UND*\t0000000000000000 puts\r\n",
      "\r\n",
      "\r\n"
     ]
    }
   ],
   "source": [
    "!objdump -C -t string_utils.o"
   ]
  },
  {
   "cell_type": "markdown",
   "metadata": {},
   "source": [
    "__Вопросы__:\n",
    "* В программе ошибка. Возможно, линковщик её найдёт. Что за ошибка? Как починить?"
   ]
  },
  {
   "cell_type": "markdown",
   "metadata": {},
   "source": [
    "ODR"
   ]
  },
  {
   "cell_type": "code",
   "execution_count": 7,
   "metadata": {
    "scrolled": true
   },
   "outputs": [
    {
     "name": "stdout",
     "output_type": "stream",
     "text": [
      "string_utils.o: In function `convert_to_int(char const*)':\n",
      "string_utils.cpp:(.text+0x0): multiple definition of `convert_to_int(char const*)'\n",
      "math_utils.o:math_utils.cpp:(.text+0x0): first defined here\n",
      "clang: \u001b[0;1;31merror: \u001b[0mlinker command failed with exit code 1 (use -v to see invocation)\u001b[0m\n"
     ]
    }
   ],
   "source": [
    "!clang++ main.o math_utils.o string_utils.o -o example.exe"
   ]
  },
  {
   "cell_type": "code",
   "execution_count": 8,
   "metadata": {},
   "outputs": [],
   "source": [
    "# удалим за собой\n",
    "!rm -f *.o *.exe *.bin *.out"
   ]
  },
  {
   "cell_type": "markdown",
   "metadata": {},
   "source": [
    "<br />"
   ]
  },
  {
   "cell_type": "markdown",
   "metadata": {},
   "source": [
    "Теперь подправим math_utils.cpp, скажем компилятору, что функция `covnert_to_int` снаружи никому не нужна:"
   ]
  },
  {
   "cell_type": "markdown",
   "metadata": {},
   "source": [
    "`ex1_objfiles/math_utils_w_static.cpp:`\n",
    "\n",
    "```c++\n",
    "#include \"math_utils.h\"\n",
    "\n",
    "#include <cstdio>\n",
    "#include <cstdlib>\n",
    "\n",
    "static int convert_to_int(const char* const s) noexcept\n",
    "{\n",
    "    return std::atoi(s);\n",
    "}\n",
    "\n",
    "namespace math_utils\n",
    "{\n",
    "    void mul(const char* const a1, const char* const a2) noexcept\n",
    "    {\n",
    "        const int x1 = convert_to_int(a1);\n",
    "        const int x2 = convert_to_int(a2);\n",
    "        std::printf(\"%d\\n\", x1 * x2);\n",
    "    }\n",
    "}  // namespace math_utils\n",
    "```"
   ]
  },
  {
   "cell_type": "code",
   "execution_count": 9,
   "metadata": {},
   "outputs": [],
   "source": [
    "!clang++ -Os -c ex1_objfiles/math_utils_w_static.cpp"
   ]
  },
  {
   "cell_type": "code",
   "execution_count": 10,
   "metadata": {},
   "outputs": [
    {
     "name": "stdout",
     "output_type": "stream",
     "text": [
      "\r\n",
      "math_utils_w_static.o:     file format elf64-x86-64\r\n",
      "\r\n",
      "SYMBOL TABLE:\r\n",
      "0000000000000000 l    df *ABS*\t0000000000000000 math_utils_w_static.cpp\r\n",
      "0000000000000000 l    d  .text\t0000000000000000 .text\r\n",
      "0000000000000000 l    d  .rodata.str1.1\t0000000000000000 .rodata.str1.1\r\n",
      "0000000000000000 g     F .text\t000000000000002e math_utils::mul(char const*, char const*)\r\n",
      "0000000000000000         *UND*\t0000000000000000 atoi\r\n",
      "0000000000000000         *UND*\t0000000000000000 printf\r\n",
      "\r\n",
      "\r\n"
     ]
    }
   ],
   "source": [
    "!objdump -C -t math_utils_w_static.o"
   ]
  },
  {
   "cell_type": "markdown",
   "metadata": {},
   "source": [
    "В данном случае компилятор не просто перенёс символ `convert_to_int` в локальные (можно это продемонстрировать, убрав оптимизации), но и принял решение полностью удалить функцию, заинлайнив её.\n",
    "\n",
    "Аналогичным образом желательно спрятать функцию `convert_to_int` в `string_utils.cpp` и `print_help` в `main.cpp`.\n",
    "\n",
    "__Вопрос__: Что делать, если хотим избавиться от копипасты `convert_to_int`? В отдельный `cpp`? В хедер? Как себя поведёт компилятор?"
   ]
  },
  {
   "cell_type": "code",
   "execution_count": 11,
   "metadata": {},
   "outputs": [],
   "source": [
    "# удалим за собой\n",
    "!rm -f *.o *.exe *.bin *.out"
   ]
  },
  {
   "cell_type": "markdown",
   "metadata": {},
   "source": [
    "<br />"
   ]
  },
  {
   "cell_type": "markdown",
   "metadata": {},
   "source": [
    "##### static vs inline vs compiler inline"
   ]
  },
  {
   "cell_type": "markdown",
   "metadata": {},
   "source": [
    "Попробуем избавиться от copy-paste с `convert_to_int` разными вариантами."
   ]
  },
  {
   "cell_type": "markdown",
   "metadata": {},
   "source": [
    "__Вариант 1__: вынесем `convert_to_int` в header и объявим его `static`"
   ]
  },
  {
   "cell_type": "markdown",
   "metadata": {},
   "source": [
    "`static` перед функцией означает, что символ не нужно экспортировать наружу, он должен быть локальным."
   ]
  },
  {
   "cell_type": "markdown",
   "metadata": {},
   "source": [
    "`ex2_objfiles/convert.h:`\n",
    "\n",
    "```c++\n",
    "#pragma once\n",
    "\n",
    "#include <cstdlib>\n",
    "\n",
    "static int convert_to_int(const char* const s) noexcept\n",
    "{\n",
    "    return std::atoi(s);\n",
    "}\n",
    "```"
   ]
  },
  {
   "cell_type": "markdown",
   "metadata": {},
   "source": [
    "`ex2_objfiles/math_utils.cpp:`\n",
    "\n",
    "```c++\n",
    "#include \"math_utils.h\"\n",
    "\n",
    "#include \"convert.h\"\n",
    "\n",
    "#include <cstdio>\n",
    "\n",
    "namespace math_utils\n",
    "{\n",
    "    void mul(const char* const a1, const char* const a2) noexcept\n",
    "    {\n",
    "        const int x1 = convert_to_int(a1);\n",
    "        const int x2 = convert_to_int(a2);\n",
    "        std::printf(\"%d\\n\", x1 * x2);\n",
    "    }\n",
    "}  // namespace math_utils\n",
    "```"
   ]
  },
  {
   "cell_type": "markdown",
   "metadata": {},
   "source": [
    "`ex2_objfiles/string_utils.cpp:`\n",
    "\n",
    "```c++\n",
    "#include \"string_utils.h\"\n",
    "\n",
    "#include \"convert.h\"\n",
    "\n",
    "#include <cstdio>\n",
    "\n",
    "namespace string_utils\n",
    "{\n",
    "    void mul(const char* const a1, const char* const a2) noexcept\n",
    "    {\n",
    "        const int x2 = convert_to_int(a2);\n",
    "        for (int i = 0; i < x2; ++i)\n",
    "            std::puts(a1);\n",
    "    }\n",
    "}  // namespace string_utils\n",
    "```"
   ]
  },
  {
   "cell_type": "markdown",
   "metadata": {},
   "source": [
    "Скомпилируем, обратим особое внимание на символ `convert_to_int`"
   ]
  },
  {
   "cell_type": "code",
   "execution_count": 12,
   "metadata": {},
   "outputs": [],
   "source": [
    "!clang++ -O0 -c ex2_objfiles/main.cpp\n",
    "!clang++ -O0 -c ex2_objfiles/math_utils.cpp\n",
    "!clang++ -O0 -c ex2_objfiles/string_utils.cpp\n",
    "!clang++ -O0 main.o math_utils.o string_utils.o -o a.out"
   ]
  },
  {
   "cell_type": "code",
   "execution_count": 13,
   "metadata": {},
   "outputs": [
    {
     "name": "stdout",
     "output_type": "stream",
     "text": [
      "0000000000000060 l     F .text\t000000000000001b convert_to_int(char const*)\r\n"
     ]
    }
   ],
   "source": [
    "!objdump -C -t math_utils.o | grep convert_to_int"
   ]
  },
  {
   "cell_type": "code",
   "execution_count": 14,
   "metadata": {},
   "outputs": [
    {
     "name": "stdout",
     "output_type": "stream",
     "text": [
      "0000000000000070 l     F .text\t000000000000001b convert_to_int(char const*)\r\n"
     ]
    }
   ],
   "source": [
    "!objdump -C -t string_utils.o | grep convert_to_int"
   ]
  },
  {
   "cell_type": "code",
   "execution_count": 15,
   "metadata": {},
   "outputs": [
    {
     "name": "stdout",
     "output_type": "stream",
     "text": [
      "0000000000400900 l     F .text\t000000000000001b              convert_to_int(char const*)\r\n",
      "0000000000400990 l     F .text\t000000000000001b              convert_to_int(char const*)\r\n"
     ]
    }
   ],
   "source": [
    "!objdump -C -t a.out | grep convert_to_int"
   ]
  },
  {
   "cell_type": "markdown",
   "metadata": {},
   "source": [
    "То же самое с оптимизациями:"
   ]
  },
  {
   "cell_type": "code",
   "execution_count": 16,
   "metadata": {},
   "outputs": [],
   "source": [
    "!clang++ -Os -c ex2_objfiles/main.cpp\n",
    "!clang++ -Os -c ex2_objfiles/math_utils.cpp\n",
    "!clang++ -Os -c ex2_objfiles/string_utils.cpp\n",
    "!clang++ -Os main.o math_utils.o string_utils.o -o a.out\n",
    "!objdump -t a.out | grep convert_to_int"
   ]
  },
  {
   "cell_type": "markdown",
   "metadata": {},
   "source": [
    "__Итого__: \n",
    "* в случае без оптимизаций происходит то, что и должно быть: каждый объектный файл содержит свою собственную реализацию `convert_to_int`, и **функция в исполняемом файле встречается столько раз, сколько объектных файлов слинковано**\n",
    "* в случае оптимизаций компилятор здесь принимает решение выкинуть функцию, заинлайнив её код. Но такое поведение зависит от размера функции и работает не всегда."
   ]
  },
  {
   "cell_type": "code",
   "execution_count": 17,
   "metadata": {},
   "outputs": [],
   "source": [
    "# удалим за собой\n",
    "!rm -f *.o *.exe *.bin *.out"
   ]
  },
  {
   "cell_type": "markdown",
   "metadata": {},
   "source": [
    "<br />"
   ]
  },
  {
   "cell_type": "markdown",
   "metadata": {},
   "source": [
    "__Вариант 2:__ вынесем `convert_to_int` в header и объявим его `inline`"
   ]
  },
  {
   "cell_type": "markdown",
   "metadata": {},
   "source": [
    "`inline` перед функцией имеет два значения:\n",
    "* позволяет нарушать ODR\n",
    "* рекомендация компилятору заинлайнить код функции (показать как это работает в godbolt на clang)"
   ]
  },
  {
   "cell_type": "markdown",
   "metadata": {},
   "source": [
    "Отступление: показать сообщения clang об оптимизациях на примере (потом добавить std::puts в sqr2, потом убрать static-и):"
   ]
  },
  {
   "cell_type": "markdown",
   "metadata": {},
   "source": [
    "```c++\n",
    "static double sqr1(double x) {\n",
    "    return x * x;\n",
    "}\n",
    "\n",
    "static inline double sqr2(double x) {\n",
    "    return x * x;\n",
    "}\n",
    "\n",
    "double f(double x, double y) {\n",
    "    return sqr1(x) + sqr2(y);\n",
    "}\n",
    "```"
   ]
  },
  {
   "cell_type": "markdown",
   "metadata": {},
   "source": [
    "Вернёмся к `inline` и ODR"
   ]
  },
  {
   "cell_type": "markdown",
   "metadata": {},
   "source": [
    "`ex3_objfiles/convert.h:`\n",
    "    \n",
    "```c++\n",
    "#pragma once\n",
    "\n",
    "#include <cstdlib>\n",
    "\n",
    "inline int convert_to_int(const char* const s) noexcept\n",
    "{\n",
    "    return std::atoi(s);\n",
    "}\n",
    "```"
   ]
  },
  {
   "cell_type": "markdown",
   "metadata": {},
   "source": [
    "Скомпилируем программу без оптимизаций:"
   ]
  },
  {
   "cell_type": "code",
   "execution_count": 18,
   "metadata": {},
   "outputs": [],
   "source": [
    "!clang++ -O0 -c ex3_objfiles/main.cpp\n",
    "!clang++ -O0 -c ex3_objfiles/math_utils.cpp\n",
    "!clang++ -O0 -c ex3_objfiles/string_utils.cpp\n",
    "!clang++ main.o math_utils.o string_utils.o"
   ]
  },
  {
   "cell_type": "code",
   "execution_count": 19,
   "metadata": {},
   "outputs": [
    {
     "name": "stdout",
     "output_type": "stream",
     "text": [
      "0000000000000000 l    d  .text._Z14convert_to_intPKc\t0000000000000000 .text._Z14convert_to_intPKc\r\n",
      "0000000000000000  w    F .text._Z14convert_to_intPKc\t000000000000001b convert_to_int(char const*)\r\n"
     ]
    }
   ],
   "source": [
    "!objdump -C -t math_utils.o | grep convert_to_int"
   ]
  },
  {
   "cell_type": "code",
   "execution_count": 20,
   "metadata": {},
   "outputs": [
    {
     "name": "stdout",
     "output_type": "stream",
     "text": [
      "0000000000000000 l    d  .text._Z14convert_to_intPKc\t0000000000000000 .text._Z14convert_to_intPKc\r\n",
      "0000000000000000  w    F .text._Z14convert_to_intPKc\t000000000000001b convert_to_int(char const*)\r\n"
     ]
    }
   ],
   "source": [
    "!objdump -C -t string_utils.o | grep convert_to_int"
   ]
  },
  {
   "cell_type": "code",
   "execution_count": 21,
   "metadata": {},
   "outputs": [
    {
     "name": "stdout",
     "output_type": "stream",
     "text": [
      "0000000000400900  w    F .text\t000000000000001b              convert_to_int(char const*)\r\n"
     ]
    }
   ],
   "source": [
    "!objdump -C -t a.out | grep convert_to_int"
   ]
  },
  {
   "cell_type": "markdown",
   "metadata": {},
   "source": [
    "То же самое с опитизациями:"
   ]
  },
  {
   "cell_type": "code",
   "execution_count": 22,
   "metadata": {},
   "outputs": [],
   "source": [
    "!clang++ -Os -c ex3_objfiles/main.cpp\n",
    "!clang++ -Os -c ex3_objfiles/math_utils.cpp\n",
    "!clang++ -Os -c ex3_objfiles/string_utils.cpp\n",
    "!clang++ main.o math_utils.o string_utils.o"
   ]
  },
  {
   "cell_type": "code",
   "execution_count": 23,
   "metadata": {},
   "outputs": [],
   "source": [
    "!objdump -C -t math_utils.o | grep convert_to_int"
   ]
  },
  {
   "cell_type": "code",
   "execution_count": 24,
   "metadata": {},
   "outputs": [],
   "source": [
    "!objdump -C -t a.out | grep convert_to_int"
   ]
  },
  {
   "cell_type": "markdown",
   "metadata": {},
   "source": [
    "__Итого:__\n",
    "* в случае без оптимизаций происходит то, что и должно быть: каждый объектный файл может содержать свою собственную реализацию `convert_to_int`, а функция в исполняемом файле встречается один раз.\n",
    "* в случае оптимизаций компилятор здесь принимает решение выкинуть функцию, заинлайнив её код. Но такое поведение зависит от размера функции и работает не всегда."
   ]
  },
  {
   "cell_type": "code",
   "execution_count": 25,
   "metadata": {},
   "outputs": [],
   "source": [
    "# удалим за собой\n",
    "!rm -f *.o *.exe *.bin *.out"
   ]
  },
  {
   "cell_type": "markdown",
   "metadata": {},
   "source": [
    "<br />"
   ]
  },
  {
   "cell_type": "markdown",
   "metadata": {},
   "source": [
    "##### Классы и анонимный namespace. Местонахождение методов класса."
   ]
  },
  {
   "cell_type": "markdown",
   "metadata": {},
   "source": [
    "Пару слов как компилятор работает с символами на примере классов"
   ]
  },
  {
   "cell_type": "markdown",
   "metadata": {},
   "source": [
    "__Вариант 1__: класс с методами, определёнными в рамках класса"
   ]
  },
  {
   "cell_type": "markdown",
   "metadata": {},
   "source": [
    "`ex4_class/example_class_1.cpp:`\n",
    "    \n",
    "```c++\n",
    "#include <cstdio>\n",
    "\n",
    "class HTMLPrinter {\n",
    "public:\n",
    "    void p() {\n",
    "        print(\"<p>\");\n",
    "    }\n",
    "\n",
    "    void div() {\n",
    "        print(\"<div>\");\n",
    "    }\n",
    "\n",
    "private:\n",
    "    void print(const char* s) {\n",
    "        std::puts(s);\n",
    "    }\n",
    "};\n",
    "\n",
    "void f() {\n",
    "    HTMLPrinter printer;\n",
    "    printer.p();\n",
    "}\n",
    "```"
   ]
  },
  {
   "cell_type": "code",
   "execution_count": 37,
   "metadata": {},
   "outputs": [
    {
     "name": "stdout",
     "output_type": "stream",
     "text": [
      "\r\n",
      "example_class_1.o:     file format elf64-x86-64\r\n",
      "\r\n",
      "SYMBOL TABLE:\r\n",
      "0000000000000000 l    df *ABS*\t0000000000000000 example_class_1.cpp\r\n",
      "0000000000000000 l    d  .text\t0000000000000000 .text\r\n",
      "0000000000000000 l    d  .text._ZN11HTMLPrinter1pEv\t0000000000000000 .text._ZN11HTMLPrinter1pEv\r\n",
      "0000000000000000 l    d  .text._ZN11HTMLPrinter5printEPKc\t0000000000000000 .text._ZN11HTMLPrinter5printEPKc\r\n",
      "0000000000000000 l    d  .rodata.str1.1\t0000000000000000 .rodata.str1.1\r\n",
      "0000000000000000 g     F .text\t0000000000000017 f()\r\n",
      "0000000000000000  w    F .text._ZN11HTMLPrinter1pEv\t0000000000000025 HTMLPrinter::p()\r\n",
      "0000000000000000  w    F .text._ZN11HTMLPrinter5printEPKc\t0000000000000022 HTMLPrinter::print(char const*)\r\n",
      "0000000000000000         *UND*\t0000000000000000 puts\r\n",
      "\r\n",
      "\r\n"
     ]
    }
   ],
   "source": [
    "!clang++ -O0 -c ex4_class/example_class_1.cpp\n",
    "!objdump -C -t example_class_1.o"
   ]
  },
  {
   "cell_type": "markdown",
   "metadata": {},
   "source": [
    "`ex4_class/example_class_2.cpp:`\n",
    "\n",
    "```c++\n",
    "#include <cstdio>\n",
    "\n",
    "class HTMLPrinter {\n",
    "public:\n",
    "    void p();\n",
    "    void div();\n",
    "\n",
    "private:\n",
    "    void print(const char* s);\n",
    "};\n",
    "\n",
    "void HTMLPrinter::p() {\n",
    "    print(\"<p>\");\n",
    "}\n",
    "\n",
    "void HTMLPrinter::div() {\n",
    "    print(\"<div>\");\n",
    "}\n",
    "\n",
    "void HTMLPrinter::print(const char* const s) {\n",
    "    std::puts(s);\n",
    "}\n",
    "\n",
    "void f() {\n",
    "    HTMLPrinter printer;\n",
    "    printer.p();\n",
    "}\n",
    "```"
   ]
  },
  {
   "cell_type": "code",
   "execution_count": 38,
   "metadata": {},
   "outputs": [
    {
     "name": "stdout",
     "output_type": "stream",
     "text": [
      "\r\n",
      "example_class_2.o:     file format elf64-x86-64\r\n",
      "\r\n",
      "SYMBOL TABLE:\r\n",
      "0000000000000000 l    df *ABS*\t0000000000000000 example_class_2.cpp\r\n",
      "0000000000000000 l       .gcc_except_table\t0000000000000000 GCC_except_table5\r\n",
      "0000000000000000 l    d  .text\t0000000000000000 .text\r\n",
      "0000000000000000 l    d  .gcc_except_table\t0000000000000000 .gcc_except_table\r\n",
      "0000000000000000 l    d  .rodata.str1.1\t0000000000000000 .rodata.str1.1\r\n",
      "0000000000000000         *UND*\t0000000000000000 _Unwind_Resume\r\n",
      "00000000000000b0 g     F .text\t0000000000000050 f()\r\n",
      "0000000000000020 g     F .text\t0000000000000025 HTMLPrinter::p()\r\n",
      "0000000000000080 g     F .text\t0000000000000025 HTMLPrinter::div()\r\n",
      "0000000000000050 g     F .text\t0000000000000022 HTMLPrinter::print(char const*)\r\n",
      "0000000000000000 g     F .text\t000000000000000a HTMLPrinter::HTMLPrinter()\r\n",
      "0000000000000000 g     F .text\t000000000000000a HTMLPrinter::HTMLPrinter()\r\n",
      "0000000000000010 g     F .text\t000000000000000a HTMLPrinter::~HTMLPrinter()\r\n",
      "0000000000000010 g     F .text\t000000000000000a HTMLPrinter::~HTMLPrinter()\r\n",
      "0000000000000000         *UND*\t0000000000000000 __gxx_personality_v0\r\n",
      "0000000000000000         *UND*\t0000000000000000 puts\r\n",
      "\r\n",
      "\r\n"
     ]
    }
   ],
   "source": [
    "!clang++ -O0 -c ex4_class/example_class_2.cpp\n",
    "!objdump -C -t example_class_2.o"
   ]
  },
  {
   "cell_type": "markdown",
   "metadata": {},
   "source": [
    "**Способ организации класса 1:** реализация методов сразу в header\n",
    "\n",
    "```c++\n",
    "// HTMLPrinter.h\n",
    "class HTMLPrinter {\n",
    " public:\n",
    "    HTMLPrinter() {}\n",
    "    void p() { ...; }\n",
    "    \n",
    " private:\n",
    "    void print() { ...; }\n",
    "};\n",
    "```"
   ]
  },
  {
   "cell_type": "markdown",
   "metadata": {},
   "source": [
    "Особенности:\n",
    "* (-) долгая компиляция\n",
    "* (-) объектные файлы больше весят\n",
    "* (+) лучше оптимизации"
   ]
  },
  {
   "cell_type": "markdown",
   "metadata": {},
   "source": [
    "**Способ организации класса 2:** разделение на header && cpp, вынос методов в cpp\n",
    "\n",
    "```c++\n",
    "// HTMLPrinter.h\n",
    "class HTMLPrinter {\n",
    " public:\n",
    "    HTMLPrinter();\n",
    "    void p();\n",
    "    \n",
    " private:\n",
    "    void print();\n",
    "};\n",
    "\n",
    "// HTMLPrinter.cpp\n",
    "HTMLPrinter::HTMLPrinter() = default;\n",
    "void HTMLPrinter::p() { ...; }\n",
    "void HTMLPrinter::print() { ...; }\n",
    "```"
   ]
  },
  {
   "cell_type": "markdown",
   "metadata": {},
   "source": [
    "Особенности:\n",
    "\n",
    "* (+) быстрая компиляция\n",
    "* (+) объектные файлы меньше весят\n",
    "* (-) хуже оптимизации"
   ]
  },
  {
   "cell_type": "markdown",
   "metadata": {},
   "source": [
    "*Объяснить разницу*"
   ]
  },
  {
   "cell_type": "markdown",
   "metadata": {},
   "source": [
    "<br />"
   ]
  },
  {
   "cell_type": "markdown",
   "metadata": {},
   "source": [
    "**Способ сделать класс с `internal linkage`:**"
   ]
  },
  {
   "cell_type": "markdown",
   "metadata": {},
   "source": [
    "`ex4_class/example_class_3.cpp:`\n",
    "\n",
    "```c++\n",
    "#include <cstdio>\n",
    "\n",
    "namespace {\n",
    "  class HTMLPrinter {\n",
    "  public:\n",
    "      HTMLPrinter();\n",
    "      ~HTMLPrinter();\n",
    "\n",
    "      void p();\n",
    "      void div();\n",
    "\n",
    "  private:\n",
    "      void print(const char* s);\n",
    "  };\n",
    "\n",
    "  HTMLPrinter::HTMLPrinter() = default;\n",
    "  HTMLPrinter::~HTMLPrinter() = default;\n",
    "\n",
    "  void HTMLPrinter::p() {\n",
    "      print(\"<p>\");\n",
    "  }\n",
    "\n",
    "  void HTMLPrinter::div() {\n",
    "      print(\"<div>\");\n",
    "  }\n",
    "\n",
    "  void HTMLPrinter::print(const char* const s) {\n",
    "      std::puts(s);\n",
    "  }\n",
    "}  // namespace\n",
    "\n",
    "void f() {\n",
    "    HTMLPrinter printer;\n",
    "    printer.p();\n",
    "}\n",
    "```"
   ]
  },
  {
   "cell_type": "code",
   "execution_count": 39,
   "metadata": {},
   "outputs": [
    {
     "name": "stdout",
     "output_type": "stream",
     "text": [
      "\r\n",
      "example_class_3.o:     file format elf64-x86-64\r\n",
      "\r\n",
      "SYMBOL TABLE:\r\n",
      "0000000000000000 l    df *ABS*\t0000000000000000 example_class_3.cpp\r\n",
      "0000000000000000 l       .gcc_except_table\t0000000000000000 GCC_except_table0\r\n",
      "0000000000000060 l     F .text\t0000000000000025 (anonymous namespace)::HTMLPrinter::p()\r\n",
      "00000000000000a0 l     F .text\t0000000000000022 (anonymous namespace)::HTMLPrinter::print(char const*)\r\n",
      "0000000000000050 l     F .text\t000000000000000a (anonymous namespace)::HTMLPrinter::HTMLPrinter()\r\n",
      "0000000000000090 l     F .text\t000000000000000a (anonymous namespace)::HTMLPrinter::~HTMLPrinter()\r\n",
      "0000000000000000 l    d  .text\t0000000000000000 .text\r\n",
      "0000000000000000 l    d  .gcc_except_table\t0000000000000000 .gcc_except_table\r\n",
      "0000000000000000 l    d  .rodata.str1.1\t0000000000000000 .rodata.str1.1\r\n",
      "0000000000000000         *UND*\t0000000000000000 _Unwind_Resume\r\n",
      "0000000000000000 g     F .text\t0000000000000050 f()\r\n",
      "0000000000000000         *UND*\t0000000000000000 __gxx_personality_v0\r\n",
      "0000000000000000         *UND*\t0000000000000000 puts\r\n",
      "\r\n",
      "\r\n"
     ]
    }
   ],
   "source": [
    "!clang++ -O0 -c ex4_class/example_class_3.cpp\n",
    "!objdump -C -t example_class_3.o"
   ]
  },
  {
   "cell_type": "markdown",
   "metadata": {},
   "source": [
    "<br />"
   ]
  },
  {
   "cell_type": "markdown",
   "metadata": {},
   "source": [
    "##### Шаблоны и символы"
   ]
  },
  {
   "cell_type": "markdown",
   "metadata": {},
   "source": [
    "Рассмотрим пример с `std::vector`"
   ]
  },
  {
   "cell_type": "markdown",
   "metadata": {},
   "source": [
    "`ex5_templates/util.h:`\n",
    "    \n",
    "```c++\n",
    "#pragma once\n",
    "\n",
    "#include <vector>\n",
    "\n",
    "int sum(const std::vector<int>& v);\n",
    "```"
   ]
  },
  {
   "cell_type": "markdown",
   "metadata": {},
   "source": [
    "`ex5_templates/util.cpp:`\n",
    "\n",
    "```c++\n",
    "#include \"util.h\"\n",
    "\n",
    "int sum(const std::vector<int>& v)\n",
    "{\n",
    "    auto v_copy = v;\n",
    "    int rv = 0;\n",
    "    for (int x : v_copy)\n",
    "        rv += x;\n",
    "    return rv;\n",
    "}\n",
    "```"
   ]
  },
  {
   "cell_type": "markdown",
   "metadata": {},
   "source": [
    "`ex5_templates/main.cpp:`\n",
    "\n",
    "```c++\n",
    "#include \"util.h\"\n",
    "\n",
    "#include <cstdio>\n",
    "#include <vector>\n",
    "\n",
    "int mul(const std::vector<int>& v)\n",
    "{\n",
    "    auto v_copy = v;\n",
    "    int rv = 1;\n",
    "    for (int x : v_copy)\n",
    "        rv *= x;\n",
    "    return rv;\n",
    "}\n",
    "\n",
    "int main(int argc, char** argv)\n",
    "{\n",
    "    std::vector<int> v = {1, 2, 3};\n",
    "    std::printf(\"%d\", mul(v));\n",
    "    std::printf(\"%d\", sum(v));\n",
    "    return 0;\n",
    "}\n",
    "```"
   ]
  },
  {
   "cell_type": "markdown",
   "metadata": {},
   "source": [
    "Скомпилируем, обратим внимание на `vector`"
   ]
  },
  {
   "cell_type": "code",
   "execution_count": 40,
   "metadata": {},
   "outputs": [],
   "source": [
    "!clang++ -Os -c ex5_templates/main.cpp\n",
    "!clang++ -Os -c ex5_templates/util.cpp\n",
    "!clang++ -Os main.o util.o"
   ]
  },
  {
   "cell_type": "code",
   "execution_count": 41,
   "metadata": {},
   "outputs": [
    {
     "name": "stdout",
     "output_type": "stream",
     "text": [
      "0000000000000000 l    d  .text._ZNSt6vectorIiSaIiEEC2ERKS1_\t0000000000000000 .text._ZNSt6vectorIiSaIiEEC2ERKS1_\r\n",
      "0000000000000000 l    d  .text._ZNSt12_Vector_baseIiSaIiEE11_M_allocateEm\t0000000000000000 .text._ZNSt12_Vector_baseIiSaIiEE11_M_allocateEm\r\n",
      "0000000000000000 g     F .text\t0000000000000046 sum(std::vector<int, std::allocator<int> > const&)\r\n",
      "0000000000000000  w    F .text._ZNSt12_Vector_baseIiSaIiEE11_M_allocateEm\t0000000000000026 std::_Vector_base<int, std::allocator<int> >::_M_allocate(unsigned long)\r\n",
      "0000000000000000  w    F .text._ZNSt6vectorIiSaIiEEC2ERKS1_\t0000000000000079 std::vector<int, std::allocator<int> >::vector(std::vector<int, std::allocator<int> > const&)\r\n"
     ]
    }
   ],
   "source": [
    "!objdump -C -t util.o | grep -i vector"
   ]
  },
  {
   "cell_type": "code",
   "execution_count": 42,
   "metadata": {},
   "outputs": [
    {
     "name": "stdout",
     "output_type": "stream",
     "text": [
      "0000000000000000 l    d  .text._ZNSt6vectorIiSaIiEEC2ERKS1_\t0000000000000000 .text._ZNSt6vectorIiSaIiEEC2ERKS1_\r\n",
      "0000000000000000 l    d  .text._ZNSt6vectorIiSaIiEEC2ESt16initializer_listIiERKS0_\t0000000000000000 .text._ZNSt6vectorIiSaIiEEC2ESt16initializer_listIiERKS0_\r\n",
      "0000000000000000 l    d  .text._ZNSt12_Vector_baseIiSaIiEE11_M_allocateEm\t0000000000000000 .text._ZNSt12_Vector_baseIiSaIiEE11_M_allocateEm\r\n",
      "0000000000000000 g     F .text\t000000000000004a mul(std::vector<int, std::allocator<int> > const&)\r\n",
      "0000000000000000         *UND*\t0000000000000000 sum(std::vector<int, std::allocator<int> > const&)\r\n",
      "0000000000000000  w    F .text._ZNSt12_Vector_baseIiSaIiEE11_M_allocateEm\t0000000000000026 std::_Vector_base<int, std::allocator<int> >::_M_allocate(unsigned long)\r\n",
      "0000000000000000  w    F .text._ZNSt6vectorIiSaIiEEC2ERKS1_\t0000000000000079 std::vector<int, std::allocator<int> >::vector(std::vector<int, std::allocator<int> > const&)\r\n",
      "0000000000000000  w    F .text._ZNSt6vectorIiSaIiEEC2ESt16initializer_listIiERKS0_\t000000000000007f std::vector<int, std::allocator<int> >::vector(std::initializer_list<int>, std::allocator<int> const&)\r\n"
     ]
    }
   ],
   "source": [
    "!objdump -C -t main.o | grep -i vector"
   ]
  },
  {
   "cell_type": "code",
   "execution_count": 43,
   "metadata": {},
   "outputs": [
    {
     "name": "stdout",
     "output_type": "stream",
     "text": [
      "0000000000400912  w    F .text\t0000000000000026              std::_Vector_base<int, std::allocator<int> >::_M_allocate(unsigned long)\r\n",
      "0000000000400818  w    F .text\t0000000000000079              std::vector<int, std::allocator<int> >::vector(std::vector<int, std::allocator<int> > const&)\r\n",
      "0000000000400938 g     F .text\t0000000000000046              sum(std::vector<int, std::allocator<int> > const&)\r\n",
      "0000000000400748 g     F .text\t000000000000004a              mul(std::vector<int, std::allocator<int> > const&)\r\n",
      "0000000000400892  w    F .text\t000000000000007f              std::vector<int, std::allocator<int> >::vector(std::initializer_list<int>, std::allocator<int> const&)\r\n"
     ]
    }
   ],
   "source": [
    "!objdump -C -t a.out | grep -i vector"
   ]
  },
  {
   "cell_type": "code",
   "execution_count": 44,
   "metadata": {},
   "outputs": [],
   "source": [
    "# удалим за собой\n",
    "!rm -f *.o *.exe *.bin *.out"
   ]
  },
  {
   "cell_type": "markdown",
   "metadata": {},
   "source": [
    "<br />"
   ]
  },
  {
   "cell_type": "markdown",
   "metadata": {},
   "source": [
    "##### Extern templates"
   ]
  },
  {
   "cell_type": "markdown",
   "metadata": {},
   "source": [
    "Возможность сэкономить на времени компиляции, указав компилятору, что \"где-то в другом месте этот шаблон уже скомпилирован, компилировать не надо, просто сделай внешнюю ссылку\".\n",
    "\n",
    "Подробно разбирать не будем из-за редкости использования."
   ]
  },
  {
   "cell_type": "markdown",
   "metadata": {},
   "source": [
    "https://stackoverflow.com/questions/8130602/using-extern-template-c11"
   ]
  },
  {
   "cell_type": "markdown",
   "metadata": {},
   "source": [
    "<br />"
   ]
  },
  {
   "cell_type": "markdown",
   "metadata": {},
   "source": [
    "##### Как определить глобальную константу в хедере"
   ]
  },
  {
   "cell_type": "markdown",
   "metadata": {},
   "source": [
    "Объяснить варианты и разницу:\n",
    "\n",
    "* `static`\n",
    "    ```c++\n",
    "    // in header - bad\n",
    "    static const std::string s = \"123\";\n",
    "    \n",
    "    // in single cpp - good\n",
    "    static const std::string s = \"123\";\n",
    "    ```\n",
    "* `inline`\n",
    "    ```c++\n",
    "    // in header - +-\n",
    "    inline const std::string s = \"123\";\n",
    "\n",
    "    // in single cpp - bad\n",
    "    inline const std::string s = \"123\";\n",
    "    ```\n",
    "* `extern` - good\n",
    "    ```c++\n",
    "    // in header\n",
    "    extern const std::string s;\n",
    "    \n",
    "    // in a single cpp\n",
    "    const std::string s = \"123\";\n",
    "    ```"
   ]
  },
  {
   "cell_type": "markdown",
   "metadata": {},
   "source": [
    "<br />"
   ]
  },
  {
   "cell_type": "markdown",
   "metadata": {},
   "source": [
    "##### Линковка"
   ]
  },
  {
   "cell_type": "markdown",
   "metadata": {},
   "source": [
    "Задача линковщика - собрать объектные файлы (.o/.obj) в исполняемый файл.\n",
    "\n",
    "Линковщик должен:\n",
    "1. Разрешить зависимости и построить связи\n",
    "2. Смёржить символы, которым разрешено нарушать ODR"
   ]
  },
  {
   "cell_type": "code",
   "execution_count": 45,
   "metadata": {},
   "outputs": [],
   "source": [
    "# compilation\n",
    "!clang++ -Os -c ex5_templates/main.cpp\n",
    "!clang++ -Os -c ex5_templates/util.cpp\n",
    "\n",
    "# linking\n",
    "!clang++ -Os main.o util.o -o a.out\n",
    "\n",
    "# cleanup\n",
    "!rm -f *.o a.out"
   ]
  },
  {
   "cell_type": "markdown",
   "metadata": {},
   "source": [
    "https://docs.microsoft.com/en-us/cpp/build/reference/linking?view=vs-2019"
   ]
  },
  {
   "cell_type": "markdown",
   "metadata": {},
   "source": [
    "https://gcc.gnu.org/onlinedocs/gcc/Link-Options.html"
   ]
  },
  {
   "cell_type": "markdown",
   "metadata": {},
   "source": [
    "<br />"
   ]
  },
  {
   "cell_type": "markdown",
   "metadata": {},
   "source": [
    "##### Загрузка и запуск программы"
   ]
  },
  {
   "cell_type": "markdown",
   "metadata": {},
   "source": [
    "https://en.cppreference.com/w/cpp/language/main_function"
   ]
  },
  {
   "cell_type": "markdown",
   "metadata": {},
   "source": [
    "Что происходит, когда вы вызываете из командной строки `my_program.exe`? Или когда щёлкаете мышкой по exe-файлу в проводнике?"
   ]
  },
  {
   "cell_type": "markdown",
   "metadata": {},
   "source": [
    "Простой вариант:\n",
    "1. Загрузка кода программы с диска в ОП (возможны варианты)\n",
    "2. Инициализация глобальных переменных и констант\n",
    "    * в рамках одной единицы трансляции порядок гарантирован\n",
    "    * между единицами трансляции порядок не определён\n",
    "3. Выполнение `main`"
   ]
  },
  {
   "cell_type": "markdown",
   "metadata": {},
   "source": [
    "Здесь баг:"
   ]
  },
  {
   "cell_type": "markdown",
   "metadata": {},
   "source": [
    "`f1.h:`\n",
    "\n",
    "```c++\n",
    "#pragma once\n",
    "extern const std::string s1;\n",
    "```\n",
    "\n",
    "`f1.cpp:`\n",
    "\n",
    "```c++\n",
    "#include \"f1.h\"\n",
    "const std::string s1 = \"123\";\n",
    "```\n",
    "        \n",
    "`f2.h:`\n",
    "\n",
    "```c++\n",
    "#pragma once\n",
    "extern const std::string s2;\n",
    "```\n",
    "        \n",
    "`f2.cpp:`\n",
    "\n",
    "```c++\n",
    "#include \"f2.h\"\n",
    "#include \"f1.h\"\n",
    "const std::string s2 = s1 + \"456\";\n",
    "```\n",
    "\n",
    "`main.cpp:`\n",
    "\n",
    "```c++\n",
    "#include \"f2.h\"\n",
    "\n",
    "int main() {\n",
    "    std::cout << s2 << std::endl;  // ???\n",
    "    return 0;\n",
    "}\n",
    "```"
   ]
  },
  {
   "cell_type": "markdown",
   "metadata": {},
   "source": [
    "__Вопрос__: Почему? Как это можно починить?\n",
    "\n",
    "\n",
    "<details>\n",
    "<summary>Вариант:</summary>\n",
    "<p>\n",
    "\n",
    "`f.h:`\n",
    "\n",
    "```c++\n",
    "#pragma once\n",
    "extern const std::string s1;\n",
    "extern const std::string s2;\n",
    "```\n",
    "        \n",
    "`f.cpp:`\n",
    "\n",
    "```c++\n",
    "#include \"f.h\"\n",
    "const std::string s1 = \"123\";\n",
    "const std::string s2 = s1 + \"456\";\n",
    "```\n",
    "\n",
    "`main.cpp:`\n",
    "\n",
    "```c++\n",
    "#include \"f.h\"\n",
    "\n",
    "int main() {\n",
    "    std::cout << s2 << std::endl;\n",
    "    return 0;\n",
    "}\n",
    "```\n",
    "\n",
    "</p>\n",
    "</details>"
   ]
  },
  {
   "cell_type": "markdown",
   "metadata": {},
   "source": [
    "<br />"
   ]
  },
  {
   "cell_type": "markdown",
   "metadata": {},
   "source": [
    "##### Запуск программы и shared libs"
   ]
  },
  {
   "cell_type": "markdown",
   "metadata": {},
   "source": [
    "Код может линковаться не только со статическими билиотеками, но и с динамическими. Динамическая билиотека - набор функций, которые не вкопилируются в исполняемый файл, а хранятся отдельным файлом. В исполняемом файле прописывается специальная информация для функций, лежащих в динамических билиотеках."
   ]
  },
  {
   "cell_type": "markdown",
   "metadata": {},
   "source": [
    "Плюсы:\n",
    "* Можно сэкономить место на диске и использовать одну динамическую библиотеку (например, libc) для нескольких программ\n",
    "* Аналогичным образом экономится место в ОП под код\n",
    "* Можно внести исправления в динамическую библиотеку, перекомпилировать саму программу при этом не нужно"
   ]
  },
  {
   "cell_type": "markdown",
   "metadata": {},
   "source": [
    "Минусы:\n",
    "* Нужно размечать экспортируемые функции вручную\n",
    "* Невозможен ряд оптимизаций (inlining(!!!), LTO, constant propagation etc ...)\n",
    "* Невозможен анализ компилятором неиспользуемого кода в динамической библиотеке (если функция помечена на экспорт, выкидывать её нельзя, и она тянет за собой всё по графу зависимостей)\n",
    "* Нужно загружать динамическую библиотеку в память:\n",
    "    * либо лениво при первом вызове функции\n",
    "    * либо сразу при старте приложения (настраиваемо)\n",
    "* Нужно проводить доп. работу по инициализации адресов функций\n",
    "* Дороже вызов импортированной функции (особенно первый)"
   ]
  }
 ],
 "metadata": {
  "kernelspec": {
   "display_name": "Python 3 (ipykernel)",
   "language": "python",
   "name": "python3"
  },
  "language_info": {
   "codemirror_mode": {
    "name": "ipython",
    "version": 3
   },
   "file_extension": ".py",
   "mimetype": "text/x-python",
   "name": "python",
   "nbconvert_exporter": "python",
   "pygments_lexer": "ipython3",
   "version": "3.12.3"
  }
 },
 "nbformat": 4,
 "nbformat_minor": 4
}
